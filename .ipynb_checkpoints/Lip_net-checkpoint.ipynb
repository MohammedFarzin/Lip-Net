{
 "cells": [
  {
   "cell_type": "markdown",
   "id": "af844996",
   "metadata": {},
   "source": [
    "## Importing libraries"
   ]
  },
  {
   "cell_type": "code",
   "execution_count": 108,
   "id": "c79489d5",
   "metadata": {
    "tags": []
   },
   "outputs": [],
   "source": [
    "import os\n",
    "import cv2\n",
    "import tensorflow as tf\n",
    "import numpy as np\n",
    "from typing import List\n",
    "import matplotlib.pyplot as plt\n",
    "import imageio"
   ]
  },
  {
   "cell_type": "code",
   "execution_count": 109,
   "id": "15dc0db2",
   "metadata": {
    "tags": []
   },
   "outputs": [
    {
     "data": {
      "text/plain": [
       "[PhysicalDevice(name='/physical_device:GPU:0', device_type='GPU')]"
      ]
     },
     "execution_count": 109,
     "metadata": {},
     "output_type": "execute_result"
    }
   ],
   "source": [
    "physical_devices = tf.config.list_physical_devices('GPU')\n",
    "try:\n",
    "    tf.config.experimental.set_memory_growth(physical_devices[0], True)\n",
    "except:\n",
    "    pass\n",
    "physical_devices"
   ]
  },
  {
   "cell_type": "markdown",
   "id": "d51654f9",
   "metadata": {
    "tags": []
   },
   "source": [
    "## Build data loading functions"
   ]
  },
  {
   "cell_type": "code",
   "execution_count": 110,
   "id": "5bf0312a",
   "metadata": {
    "scrolled": true,
    "tags": []
   },
   "outputs": [],
   "source": [
    "# import gdown\n",
    "# url = 'https://drive.google.com/uc?id=1YlvpDLix3S-U8fd-gqRwPcWXAXm8JwjL'\n",
    "# output = 'data.zip'\n",
    "# gdown.download(url, output, quiet=False)\n",
    "# gdown.extractall('data.zip')"
   ]
  },
  {
   "cell_type": "code",
   "execution_count": 111,
   "id": "b1c8308b",
   "metadata": {
    "tags": []
   },
   "outputs": [],
   "source": [
    "def load_video(path:str) -> List[float]:\n",
    "    cap = cv2.VideoCapture(path)\n",
    "    frames = []\n",
    "    for _ in range(int(cap.get(cv2.CAP_PROP_FRAME_COUNT))):\n",
    "        ret, frame = cap.read()\n",
    "        frame = tf.image.rgb_to_grayscale(frame)\n",
    "        frames.append(frame[190:236, 80:220, :])\n",
    "    cap.release()\n",
    "    \n",
    "    mean = tf.math.reduce_mean(frames)\n",
    "    std = tf.math.reduce_std(tf.cast(frames, tf.float32))\n",
    "    return tf.cast((frames - mean), tf.float32) / std"
   ]
  },
  {
   "cell_type": "code",
   "execution_count": 112,
   "id": "9bd72395-54bf-4648-9655-d9e2760678f4",
   "metadata": {
    "tags": []
   },
   "outputs": [
    {
     "name": "stdout",
     "output_type": "stream",
     "text": [
      "['a', 'b', 'c', 'd', 'e', 'f', 'g', 'h', 'i', 'j', 'k', 'l', 'm', 'n', 'o', 'p', 'q', 'r', 's', 't', 'u', 'v', 'w', 'x', 'y', 'z', \"'\", '?', '!', '1', '2', '3', '4', '5', '6', '7', '8', '9', ' ']\n"
     ]
    }
   ],
   "source": [
    "vocab = [x for x in \"abcdefghijklmnopqrstuvwxyz'?!123456789 \"]\n",
    "print(vocab)"
   ]
  },
  {
   "cell_type": "code",
   "execution_count": 113,
   "id": "cc21d7b9-8b44-44c2-95c8-84880758fb34",
   "metadata": {
    "tags": []
   },
   "outputs": [
    {
     "name": "stdout",
     "output_type": "stream",
     "text": [
      "The vocabulary is : ['', 'a', 'b', 'c', 'd', 'e', 'f', 'g', 'h', 'i', 'j', 'k', 'l', 'm', 'n', 'o', 'p', 'q', 'r', 's', 't', 'u', 'v', 'w', 'x', 'y', 'z', \"'\", '?', '!', '1', '2', '3', '4', '5', '6', '7', '8', '9', ' '](size =40 )\n"
     ]
    }
   ],
   "source": [
    "char_to_num = tf.keras.layers.StringLookup(vocabulary=vocab, oov_token=\"\")\n",
    "num_to_char = tf.keras.layers.StringLookup(vocabulary=char_to_num.get_vocabulary(),\n",
    "                                           oov_token=\"\",\n",
    "                                           invert=True\n",
    "                                          )\n",
    "\n",
    "print(f\"The vocabulary is : {char_to_num.get_vocabulary()}\"\n",
    "      f\"(size ={char_to_num.vocabulary_size()} )\")"
   ]
  },
  {
   "cell_type": "code",
   "execution_count": 114,
   "id": "eaf7d6d7-e54d-4681-b94c-25d692a6213c",
   "metadata": {
    "tags": []
   },
   "outputs": [
    {
     "data": {
      "text/plain": [
       "<tf.Tensor: shape=(4,), dtype=int64, numpy=array([1, 4, 5, 7], dtype=int64)>"
      ]
     },
     "execution_count": 114,
     "metadata": {},
     "output_type": "execute_result"
    }
   ],
   "source": [
    "char_to_num(['a', 'd', 'e', 'g'])"
   ]
  },
  {
   "cell_type": "code",
   "execution_count": 115,
   "id": "3a46794b-fe17-409e-932e-eeea35cbb8b5",
   "metadata": {
    "tags": []
   },
   "outputs": [
    {
     "data": {
      "text/plain": [
       "<tf.Tensor: shape=(4,), dtype=string, numpy=array([b'a', b'd', b'e', b'g'], dtype=object)>"
      ]
     },
     "execution_count": 115,
     "metadata": {},
     "output_type": "execute_result"
    }
   ],
   "source": [
    "num_to_char([1, 4, 5, 7])"
   ]
  },
  {
   "cell_type": "code",
   "execution_count": 116,
   "id": "f6dbdce4-c9dd-40be-bd7c-8ad75bd7b203",
   "metadata": {
    "tags": []
   },
   "outputs": [],
   "source": [
    "def load_alignments(path:str) -> List[str]:\n",
    "    print('fasd', path)\n",
    "    with open(path, 'r') as f:\n",
    "        lines = f.readlines()\n",
    "    tokens = []\n",
    "    for line in lines:\n",
    "        line = line.split()\n",
    "        if line[2] != 'sil':\n",
    "            tokens = [*tokens, ' ', line[2]]\n",
    "    return char_to_num(tf.reshape(tf.strings.unicode_split(tokens, input_encoding='UTF-8'),(-1)))[1:]"
   ]
  },
  {
   "cell_type": "code",
   "execution_count": 117,
   "id": "c5e3e6b6-557a-4b60-85b2-73bab709d233",
   "metadata": {
    "tags": []
   },
   "outputs": [],
   "source": [
    "def load_data(path: str):\n",
    "    path = bytes.decode(path.numpy())\n",
    "    print('path', path)\n",
    "    file_name = path.split('\\\\')[-1].split('.')[0]\n",
    "    video_path = os.path.join('data', 's1', f'{file_name}.mpg')\n",
    "    alignment_path = os.path.join('data', 'alignments', 's1', f'{file_name}.align')\n",
    "    frames = load_video(video_path)\n",
    "    alignments = load_alignments(alignment_path)\n",
    "    return frames, alignments"
   ]
  },
  {
   "cell_type": "code",
   "execution_count": 118,
   "id": "11b9badf-a29a-4ad4-8c00-9cb7cdab6cfa",
   "metadata": {},
   "outputs": [],
   "source": [
    "path = \".\\\\data\\\\s1\\\\bbaf2n.mpg\""
   ]
  },
  {
   "cell_type": "code",
   "execution_count": 119,
   "id": "f3dbf884-2f2f-4f53-a06e-9f8e80397131",
   "metadata": {
    "tags": []
   },
   "outputs": [
    {
     "data": {
      "text/plain": [
       "'bbaf2n'"
      ]
     },
     "execution_count": 119,
     "metadata": {},
     "output_type": "execute_result"
    }
   ],
   "source": [
    "tf.convert_to_tensor(path).numpy().decode('utf-8').split('\\\\')[-1].split('.')[0]"
   ]
  },
  {
   "cell_type": "code",
   "execution_count": 120,
   "id": "e2b19a3f-4311-4bf9-ab51-cc0ad83b99e9",
   "metadata": {
    "scrolled": true,
    "tags": []
   },
   "outputs": [
    {
     "name": "stdout",
     "output_type": "stream",
     "text": [
      "path .\\data\\s1\\bbaf2n.mpg\n",
      "fasd data\\alignments\\s1\\bbaf2n.align\n"
     ]
    }
   ],
   "source": [
    "frames, alignments = load_data(tf.convert_to_tensor(path))"
   ]
  },
  {
   "cell_type": "code",
   "execution_count": 121,
   "id": "724bfa60-0822-4cf3-858c-7f39a0172aa3",
   "metadata": {
    "scrolled": true,
    "tags": []
   },
   "outputs": [
    {
     "data": {
      "text/plain": [
       "<tf.Tensor: shape=(46, 140, 1), dtype=float32, numpy=\n",
       "array([[[1.4991663 ],\n",
       "        [1.4991663 ],\n",
       "        [1.4991663 ],\n",
       "        ...,\n",
       "        [0.3373124 ],\n",
       "        [0.29983324],\n",
       "        [0.3373124 ]],\n",
       "\n",
       "       [[1.4991663 ],\n",
       "        [1.4991663 ],\n",
       "        [1.4991663 ],\n",
       "        ...,\n",
       "        [0.3373124 ],\n",
       "        [0.3373124 ],\n",
       "        [0.3373124 ]],\n",
       "\n",
       "       [[1.4616871 ],\n",
       "        [1.4616871 ],\n",
       "        [1.4242079 ],\n",
       "        ...,\n",
       "        [0.3373124 ],\n",
       "        [0.3373124 ],\n",
       "        [0.3373124 ]],\n",
       "\n",
       "       ...,\n",
       "\n",
       "       [[0.97445804],\n",
       "        [0.97445804],\n",
       "        [0.97445804],\n",
       "        ...,\n",
       "        [0.        ],\n",
       "        [0.        ],\n",
       "        [0.        ]],\n",
       "\n",
       "       [[0.97445804],\n",
       "        [0.97445804],\n",
       "        [0.97445804],\n",
       "        ...,\n",
       "        [0.        ],\n",
       "        [0.        ],\n",
       "        [9.557184  ]],\n",
       "\n",
       "       [[0.97445804],\n",
       "        [0.97445804],\n",
       "        [0.97445804],\n",
       "        ...,\n",
       "        [0.        ],\n",
       "        [9.557184  ],\n",
       "        [9.557184  ]]], dtype=float32)>"
      ]
     },
     "execution_count": 121,
     "metadata": {},
     "output_type": "execute_result"
    }
   ],
   "source": [
    "frames[38]"
   ]
  },
  {
   "cell_type": "code",
   "execution_count": 122,
   "id": "9729a278-9cd6-41c3-aeea-965f3d019453",
   "metadata": {
    "tags": []
   },
   "outputs": [
    {
     "data": {
      "text/plain": [
       "<matplotlib.image.AxesImage at 0x1f077db5c70>"
      ]
     },
     "execution_count": 122,
     "metadata": {},
     "output_type": "execute_result"
    },
    {
     "data": {
      "image/png": "[encoded data removed]",
      "text/plain": [
       "<Figure size 640x480 with 1 Axes>"
      ]
     },
     "metadata": {},
     "output_type": "display_data"
    }
   ],
   "source": [
    "plt.imshow(frames[38])"
   ]
  },
  {
   "cell_type": "code",
   "execution_count": 123,
   "id": "8683866b-41fb-4757-9af3-f3dd341f5ff4",
   "metadata": {
    "tags": []
   },
   "outputs": [
    {
     "data": {
      "text/plain": [
       "<tf.Tensor: shape=(21,), dtype=int64, numpy=\n",
       "array([ 2,  9, 14, 39,  2, 12, 21,  5, 39,  1, 20, 39,  6, 39, 20, 23, 15,\n",
       "       39, 14, 15, 23], dtype=int64)>"
      ]
     },
     "execution_count": 123,
     "metadata": {},
     "output_type": "execute_result"
    }
   ],
   "source": [
    "alignments"
   ]
  },
  {
   "cell_type": "code",
   "execution_count": 124,
   "id": "6bb105c2-8447-4501-b96f-d6323e87192d",
   "metadata": {
    "tags": []
   },
   "outputs": [
    {
     "data": {
      "text/plain": [
       "<tf.Tensor: shape=(), dtype=string, numpy=b'bin blue at f two now'>"
      ]
     },
     "execution_count": 124,
     "metadata": {},
     "output_type": "execute_result"
    }
   ],
   "source": [
    "tf.strings.reduce_join(([bytes.decode(x) for x in num_to_char(alignments.numpy()).numpy()]))"
   ]
  },
  {
   "cell_type": "code",
   "execution_count": 125,
   "id": "3ea9ee21-1177-470f-ae0b-d69f11e4be14",
   "metadata": {
    "tags": []
   },
   "outputs": [],
   "source": [
    "def mappable_function(path:str) -> List[str]:\n",
    "    result = tf.py_function(load_data, [path], (tf.float32, tf.int64))\n",
    "    return result"
   ]
  },
  {
   "cell_type": "markdown",
   "id": "48ff1a65-07c8-4625-8390-5e75645bd930",
   "metadata": {
    "tags": []
   },
   "source": [
    "## Data Pipeline"
   ]
  },
  {
   "cell_type": "code",
   "execution_count": 126,
   "id": "3fcefcc0-d311-4ead-b5a2-b7a409cdbbe1",
   "metadata": {
    "tags": []
   },
   "outputs": [],
   "source": [
    "data = tf.data.Dataset.list_files('./data/s1/*.mpg')\n",
    "data = data.shuffle(500, reshuffle_each_iteration=False)\n",
    "data = data.map(mappable_function)\n",
    "data = data.padded_batch(2, padded_shapes=([75, None, None, None], [40]))\n",
    "data = data.prefetch(tf.data.AUTOTUNE)\n",
    "\n",
    "train = data.take(450)\n",
    "test = data.skip(450)"
   ]
  },
  {
   "cell_type": "code",
   "execution_count": 127,
   "id": "79ddb0b5-1f1b-404e-93e5-819e741b7b85",
   "metadata": {
    "scrolled": true,
    "tags": []
   },
   "outputs": [
    {
     "name": "stdout",
     "output_type": "stream",
     "text": [
      "path .\\data\\s1\\bgan6p.mpg\n",
      "fasd data\\alignments\\s1\\bgan6p.align\n",
      "path .\\data\\s1\\lbad6n.mpg\n",
      "fasd data\\alignments\\s1\\lbad6n.align\n",
      "path .\\data\\s1\\sbia2p.mpg\n",
      "fasd data\\alignments\\s1\\sbia2p.align\n"
     ]
    }
   ],
   "source": [
    "frames, alignment = data.as_numpy_iterator().next()"
   ]
  },
  {
   "cell_type": "code",
   "execution_count": 128,
   "id": "fcad6e0c-8495-4fe3-b1b9-0a8eef3d32ef",
   "metadata": {
    "tags": []
   },
   "outputs": [
    {
     "data": {
      "text/plain": [
       "<matplotlib.image.AxesImage at 0x1f077c1f640>"
      ]
     },
     "execution_count": 128,
     "metadata": {},
     "output_type": "execute_result"
    },
    {
     "data": {
      "image/png": "[encoded data removed]",
      "text/plain": [
       "<Figure size 640x480 with 1 Axes>"
      ]
     },
     "metadata": {},
     "output_type": "display_data"
    }
   ],
   "source": [
    "plt.imshow(frames[0][40])"
   ]
  },
  {
   "cell_type": "code",
   "execution_count": 129,
   "id": "56d8518d-e30f-495f-803c-2316087a09dc",
   "metadata": {
    "tags": []
   },
   "outputs": [
    {
     "data": {
      "text/plain": [
       "array([[ 2,  9, 14, 39,  7, 18,  5,  5, 14, 39,  1, 20, 39, 14, 39, 19,\n",
       "         9, 24, 39, 16, 12,  5,  1, 19,  5,  0,  0,  0,  0,  0,  0,  0,\n",
       "         0,  0,  0,  0,  0,  0,  0,  0],\n",
       "       [12,  1, 25, 39,  2, 12, 21,  5, 39,  1, 20, 39,  4, 39, 19,  9,\n",
       "        24, 39, 14, 15, 23,  0,  0,  0,  0,  0,  0,  0,  0,  0,  0,  0,\n",
       "         0,  0,  0,  0,  0,  0,  0,  0]], dtype=int64)"
      ]
     },
     "execution_count": 129,
     "metadata": {},
     "output_type": "execute_result"
    }
   ],
   "source": [
    "alignment"
   ]
  },
  {
   "cell_type": "code",
   "execution_count": 130,
   "id": "5bb07e7c-281b-44b6-aa8e-c7d46c7064cd",
   "metadata": {
    "scrolled": true,
    "tags": []
   },
   "outputs": [
    {
     "name": "stdout",
     "output_type": "stream",
     "text": [
      "path .\\data\\s1\\lwbl8p.mpg\n",
      "fasd data\\alignments\\s1\\lwbl8p.align\n",
      "path .\\data\\s1\\bbil4p.mpg\n",
      "fasd data\\alignments\\s1\\bbil4p.align\n",
      "path .\\data\\s1\\swbczn.mpg\n"
     ]
    }
   ],
   "source": [
    "sample = data.as_numpy_iterator()\n",
    "val = sample.next()"
   ]
  },
  {
   "cell_type": "code",
   "execution_count": 131,
   "id": "126b4b54-4e3d-45f1-89af-e6c5e021c177",
   "metadata": {
    "scrolled": true,
    "tags": []
   },
   "outputs": [
    {
     "name": "stderr",
     "output_type": "stream",
     "text": [
      "Lossy conversion from float32 to uint8. Range [0.0, 9.396140098571777]. Convert image to uint8 prior to saving to suppress this warning.\n",
      "Lossy conversion from float32 to uint8. Range [0.0, 9.396140098571777]. Convert image to uint8 prior to saving to suppress this warning.\n",
      "Lossy conversion from float32 to uint8. Range [0.0, 9.396140098571777]. Convert image to uint8 prior to saving to suppress this warning.\n",
      "Lossy conversion from float32 to uint8. Range [0.0, 9.396140098571777]. Convert image to uint8 prior to saving to suppress this warning.\n",
      "Lossy conversion from float32 to uint8. Range [0.0, 9.396140098571777]. Convert image to uint8 prior to saving to suppress this warning.\n",
      "Lossy conversion from float32 to uint8. Range [0.0, 9.396140098571777]. Convert image to uint8 prior to saving to suppress this warning.\n",
      "Lossy conversion from float32 to uint8. Range [0.0, 9.396140098571777]. Convert image to uint8 prior to saving to suppress this warning.\n",
      "Lossy conversion from float32 to uint8. Range [0.0, 9.396140098571777]. Convert image to uint8 prior to saving to suppress this warning.\n",
      "Lossy conversion from float32 to uint8. Range [0.0, 9.396140098571777]. Convert image to uint8 prior to saving to suppress this warning.\n",
      "Lossy conversion from float32 to uint8. Range [0.0, 9.396140098571777]. Convert image to uint8 prior to saving to suppress this warning.\n",
      "Lossy conversion from float32 to uint8. Range [0.0, 9.396140098571777]. Convert image to uint8 prior to saving to suppress this warning.\n",
      "Lossy conversion from float32 to uint8. Range [0.0, 9.396140098571777]. Convert image to uint8 prior to saving to suppress this warning.\n",
      "Lossy conversion from float32 to uint8. Range [0.0, 9.396140098571777]. Convert image to uint8 prior to saving to suppress this warning.\n",
      "Lossy conversion from float32 to uint8. Range [0.0, 9.396140098571777]. Convert image to uint8 prior to saving to suppress this warning.\n",
      "Lossy conversion from float32 to uint8. Range [0.0, 9.396140098571777]. Convert image to uint8 prior to saving to suppress this warning.\n",
      "Lossy conversion from float32 to uint8. Range [0.0, 9.396140098571777]. Convert image to uint8 prior to saving to suppress this warning.\n",
      "Lossy conversion from float32 to uint8. Range [0.0, 9.396140098571777]. Convert image to uint8 prior to saving to suppress this warning.\n",
      "Lossy conversion from float32 to uint8. Range [0.0, 9.396140098571777]. Convert image to uint8 prior to saving to suppress this warning.\n",
      "Lossy conversion from float32 to uint8. Range [0.0, 9.396140098571777]. Convert image to uint8 prior to saving to suppress this warning.\n",
      "Lossy conversion from float32 to uint8. Range [0.0, 9.396140098571777]. Convert image to uint8 prior to saving to suppress this warning.\n",
      "Lossy conversion from float32 to uint8. Range [0.0, 9.396140098571777]. Convert image to uint8 prior to saving to suppress this warning.\n",
      "Lossy conversion from float32 to uint8. Range [0.0, 9.396140098571777]. Convert image to uint8 prior to saving to suppress this warning.\n",
      "Lossy conversion from float32 to uint8. Range [0.0, 9.396140098571777]. Convert image to uint8 prior to saving to suppress this warning.\n",
      "Lossy conversion from float32 to uint8. Range [0.0, 9.396140098571777]. Convert image to uint8 prior to saving to suppress this warning.\n",
      "Lossy conversion from float32 to uint8. Range [0.0, 9.396140098571777]. Convert image to uint8 prior to saving to suppress this warning.\n",
      "Lossy conversion from float32 to uint8. Range [0.0, 9.396140098571777]. Convert image to uint8 prior to saving to suppress this warning.\n",
      "Lossy conversion from float32 to uint8. Range [0.0, 9.396140098571777]. Convert image to uint8 prior to saving to suppress this warning.\n",
      "Lossy conversion from float32 to uint8. Range [0.0, 9.396140098571777]. Convert image to uint8 prior to saving to suppress this warning.\n",
      "Lossy conversion from float32 to uint8. Range [0.0, 9.396140098571777]. Convert image to uint8 prior to saving to suppress this warning.\n",
      "Lossy conversion from float32 to uint8. Range [0.0, 9.396140098571777]. Convert image to uint8 prior to saving to suppress this warning.\n",
      "Lossy conversion from float32 to uint8. Range [0.0, 9.396140098571777]. Convert image to uint8 prior to saving to suppress this warning.\n",
      "Lossy conversion from float32 to uint8. Range [0.0, 9.396140098571777]. Convert image to uint8 prior to saving to suppress this warning.\n",
      "Lossy conversion from float32 to uint8. Range [0.0, 9.396140098571777]. Convert image to uint8 prior to saving to suppress this warning.\n",
      "Lossy conversion from float32 to uint8. Range [0.0, 9.396140098571777]. Convert image to uint8 prior to saving to suppress this warning.\n",
      "Lossy conversion from float32 to uint8. Range [0.0, 9.396140098571777]. Convert image to uint8 prior to saving to suppress this warning.\n",
      "Lossy conversion from float32 to uint8. Range [0.0, 9.396140098571777]. Convert image to uint8 prior to saving to suppress this warning.\n",
      "Lossy conversion from float32 to uint8. Range [0.0, 9.396140098571777]. Convert image to uint8 prior to saving to suppress this warning.\n",
      "Lossy conversion from float32 to uint8. Range [0.0, 9.396140098571777]. Convert image to uint8 prior to saving to suppress this warning.\n",
      "Lossy conversion from float32 to uint8. Range [0.0, 9.396140098571777]. Convert image to uint8 prior to saving to suppress this warning.\n",
      "Lossy conversion from float32 to uint8. Range [0.0, 9.396140098571777]. Convert image to uint8 prior to saving to suppress this warning.\n",
      "Lossy conversion from float32 to uint8. Range [0.0, 9.396140098571777]. Convert image to uint8 prior to saving to suppress this warning.\n",
      "Lossy conversion from float32 to uint8. Range [0.0, 9.396140098571777]. Convert image to uint8 prior to saving to suppress this warning.\n",
      "Lossy conversion from float32 to uint8. Range [0.0, 9.396140098571777]. Convert image to uint8 prior to saving to suppress this warning.\n",
      "Lossy conversion from float32 to uint8. Range [0.0, 9.396140098571777]. Convert image to uint8 prior to saving to suppress this warning.\n",
      "Lossy conversion from float32 to uint8. Range [0.0, 9.396140098571777]. Convert image to uint8 prior to saving to suppress this warning.\n",
      "Lossy conversion from float32 to uint8. Range [0.0, 9.396140098571777]. Convert image to uint8 prior to saving to suppress this warning.\n",
      "Lossy conversion from float32 to uint8. Range [0.0, 9.396140098571777]. Convert image to uint8 prior to saving to suppress this warning.\n",
      "Lossy conversion from float32 to uint8. Range [0.0, 9.396140098571777]. Convert image to uint8 prior to saving to suppress this warning.\n",
      "Lossy conversion from float32 to uint8. Range [0.0, 9.396140098571777]. Convert image to uint8 prior to saving to suppress this warning.\n",
      "Lossy conversion from float32 to uint8. Range [0.0, 9.396140098571777]. Convert image to uint8 prior to saving to suppress this warning.\n",
      "Lossy conversion from float32 to uint8. Range [0.0, 9.396140098571777]. Convert image to uint8 prior to saving to suppress this warning.\n",
      "Lossy conversion from float32 to uint8. Range [0.0, 9.396140098571777]. Convert image to uint8 prior to saving to suppress this warning.\n",
      "Lossy conversion from float32 to uint8. Range [0.0, 9.396140098571777]. Convert image to uint8 prior to saving to suppress this warning.\n",
      "Lossy conversion from float32 to uint8. Range [0.0, 9.396140098571777]. Convert image to uint8 prior to saving to suppress this warning.\n",
      "Lossy conversion from float32 to uint8. Range [0.0, 9.396140098571777]. Convert image to uint8 prior to saving to suppress this warning.\n",
      "Lossy conversion from float32 to uint8. Range [0.0, 9.396140098571777]. Convert image to uint8 prior to saving to suppress this warning.\n",
      "Lossy conversion from float32 to uint8. Range [0.0, 9.396140098571777]. Convert image to uint8 prior to saving to suppress this warning.\n",
      "Lossy conversion from float32 to uint8. Range [0.0, 9.396140098571777]. Convert image to uint8 prior to saving to suppress this warning.\n",
      "Lossy conversion from float32 to uint8. Range [0.0, 9.396140098571777]. Convert image to uint8 prior to saving to suppress this warning.\n",
      "Lossy conversion from float32 to uint8. Range [0.0, 9.396140098571777]. Convert image to uint8 prior to saving to suppress this warning.\n",
      "Lossy conversion from float32 to uint8. Range [0.0, 9.396140098571777]. Convert image to uint8 prior to saving to suppress this warning.\n",
      "Lossy conversion from float32 to uint8. Range [0.0, 9.396140098571777]. Convert image to uint8 prior to saving to suppress this warning.\n",
      "Lossy conversion from float32 to uint8. Range [0.0, 9.396140098571777]. Convert image to uint8 prior to saving to suppress this warning.\n",
      "Lossy conversion from float32 to uint8. Range [0.0, 9.396140098571777]. Convert image to uint8 prior to saving to suppress this warning.\n",
      "Lossy conversion from float32 to uint8. Range [0.0, 9.396140098571777]. Convert image to uint8 prior to saving to suppress this warning.\n",
      "Lossy conversion from float32 to uint8. Range [0.0, 9.396140098571777]. Convert image to uint8 prior to saving to suppress this warning.\n",
      "Lossy conversion from float32 to uint8. Range [0.0, 9.396140098571777]. Convert image to uint8 prior to saving to suppress this warning.\n",
      "Lossy conversion from float32 to uint8. Range [0.0, 9.396140098571777]. Convert image to uint8 prior to saving to suppress this warning.\n",
      "Lossy conversion from float32 to uint8. Range [0.0, 9.396140098571777]. Convert image to uint8 prior to saving to suppress this warning.\n",
      "Lossy conversion from float32 to uint8. Range [0.0, 9.396140098571777]. Convert image to uint8 prior to saving to suppress this warning.\n",
      "Lossy conversion from float32 to uint8. Range [0.0, 9.396140098571777]. Convert image to uint8 prior to saving to suppress this warning.\n",
      "Lossy conversion from float32 to uint8. Range [0.0, 9.396140098571777]. Convert image to uint8 prior to saving to suppress this warning.\n",
      "Lossy conversion from float32 to uint8. Range [0.0, 9.396140098571777]. Convert image to uint8 prior to saving to suppress this warning.\n",
      "Lossy conversion from float32 to uint8. Range [0.0, 9.396140098571777]. Convert image to uint8 prior to saving to suppress this warning.\n",
      "Lossy conversion from float32 to uint8. Range [0.0, 9.396140098571777]. Convert image to uint8 prior to saving to suppress this warning.\n"
     ]
    },
    {
     "name": "stdout",
     "output_type": "stream",
     "text": [
      "fasd data\\alignments\\s1\\swbczn.align\n",
      "path .\\data\\s1\\lbaq4n.mpg\n",
      "fasd data\\alignments\\s1\\lbaq4n.align\n"
     ]
    }
   ],
   "source": [
    "imageio.mimsave('./animation.gif', val[0][0], fps=10)"
   ]
  },
  {
   "cell_type": "code",
   "execution_count": 27,
   "id": "2861cc69-ac19-4640-9340-349da9d573f9",
   "metadata": {
    "tags": []
   },
   "outputs": [
    {
     "data": {
      "text/plain": [
       "<matplotlib.image.AxesImage at 0x1efbada81c0>"
      ]
     },
     "execution_count": 27,
     "metadata": {},
     "output_type": "execute_result"
    },
    {
     "name": "stdout",
     "output_type": "stream",
     "text": [
      "path .\\data\\s1\\lwws6p.mpg\n"
     ]
    },
    {
     "data": {
      "image/png": "[encoded data removed]",
      "text/plain": [
       "<Figure size 640x480 with 1 Axes>"
      ]
     },
     "metadata": {},
     "output_type": "display_data"
    }
   ],
   "source": [
    "plt.imshow(val[0][1][40])"
   ]
  },
  {
   "cell_type": "code",
   "execution_count": 28,
   "id": "b35e83e7-72c2-4dae-8bbb-8a9cc11e056f",
   "metadata": {
    "tags": []
   },
   "outputs": [
    {
     "data": {
      "text/plain": [
       "<tf.Tensor: shape=(), dtype=string, numpy=b'bin white by a six please'>"
      ]
     },
     "execution_count": 28,
     "metadata": {},
     "output_type": "execute_result"
    }
   ],
   "source": [
    "tf.strings.reduce_join([num_to_char(word) for word in val[1][0]])"
   ]
  },
  {
   "cell_type": "markdown",
   "id": "8ef72d82-13ed-45ac-a71e-f37a5424cba1",
   "metadata": {
    "tags": []
   },
   "source": [
    "## Design the Deep Neural Network"
   ]
  },
  {
   "cell_type": "code",
   "execution_count": 29,
   "id": "2d59447c-fc75-4dba-aba4-d430f9490227",
   "metadata": {
    "tags": []
   },
   "outputs": [],
   "source": [
    "import os\n",
    "from tensorflow.keras.models import Sequential\n",
    "from tensorflow.keras.layers import Conv3D, LSTM, Dense, Dropout, Bidirectional, MaxPool3D, Activation, Reshape, SpatialDropout3D, BatchNormalization, TimeDistributed, Flatten\n",
    "from tensorflow.keras.optimizers import  Adam\n",
    "from tensorflow.keras.callbacks import ModelCheckpoint, LearningRateScheduler"
   ]
  },
  {
   "cell_type": "code",
   "execution_count": 30,
   "id": "ece89038-d3c1-4d44-82a0-4fca2f4fcb17",
   "metadata": {
    "tags": []
   },
   "outputs": [
    {
     "name": "stdout",
     "output_type": "stream",
     "text": [
      "path .\\data\\s1\\lgal8n.mpg\n",
      "path .\\data\\s1\\lrbr7a.mpg\n",
      "path .\\data\\s1\\pgbe2n.mpg\n"
     ]
    },
    {
     "data": {
      "text/plain": [
       "(75, 46, 140, 1)"
      ]
     },
     "execution_count": 30,
     "metadata": {},
     "output_type": "execute_result"
    }
   ],
   "source": [
    "data.as_numpy_iterator().next()[0][0].shape"
   ]
  },
  {
   "cell_type": "code",
   "execution_count": 31,
   "id": "d90f8242-ec86-47c7-98ce-c8a0b0f32c80",
   "metadata": {
    "tags": []
   },
   "outputs": [],
   "source": [
    "model = Sequential()\n",
    "model.add(Conv3D(128, 3, input_shape=(75,46,140,1), padding='same'))\n",
    "model.add(Activation('relu'))\n",
    "model.add(MaxPool3D((1,2,2)))\n",
    "\n",
    "model.add(Conv3D(256, 3, padding='same'))\n",
    "model.add(Activation('relu'))\n",
    "model.add(MaxPool3D((1,2,2)))\n",
    "\n",
    "model.add(Conv3D(75, 3, padding='same'))\n",
    "model.add(Activation('relu'))\n",
    "model.add(MaxPool3D((1,2,2)))\n",
    "\n",
    "model.add(TimeDistributed(Flatten()))\n",
    "\n",
    "model.add(Bidirectional(LSTM(128, kernel_initializer='Orthogonal', return_sequences=True)))\n",
    "model.add(Dropout(.5))\n",
    "\n",
    "model.add(Bidirectional(LSTM(128, kernel_initializer='Orthogonal', return_sequences=True)))\n",
    "model.add(Dropout(.5))\n",
    "\n",
    "model.add(Dense(char_to_num.vocabulary_size()+1, kernel_initializer='he_normal', activation='softmax'))"
   ]
  },
  {
   "cell_type": "code",
   "execution_count": 32,
   "id": "ec08b03e-8674-4cae-892c-81e962824380",
   "metadata": {
    "tags": []
   },
   "outputs": [
    {
     "name": "stdout",
     "output_type": "stream",
     "text": [
      "Model: \"sequential\"\n",
      "_________________________________________________________________\n",
      " Layer (type)                Output Shape              Param #   \n",
      "=================================================================\n",
      " conv3d (Conv3D)             (None, 75, 46, 140, 128)  3584      \n",
      "                                                                 \n",
      " activation (Activation)     (None, 75, 46, 140, 128)  0         \n",
      "                                                                 \n",
      " max_pooling3d (MaxPooling3D  (None, 75, 23, 70, 128)  0         \n",
      " )                                                               \n",
      "                                                                 \n",
      " conv3d_1 (Conv3D)           (None, 75, 23, 70, 256)   884992    \n",
      "                                                                 \n",
      " activation_1 (Activation)   (None, 75, 23, 70, 256)   0         \n",
      "                                                                 \n",
      " max_pooling3d_1 (MaxPooling  (None, 75, 11, 35, 256)  0         \n",
      " 3D)                                                             \n",
      "                                                                 \n",
      " conv3d_2 (Conv3D)           (None, 75, 11, 35, 75)    518475    \n",
      "                                                                 \n",
      " activation_2 (Activation)   (None, 75, 11, 35, 75)    0         \n",
      "                                                                 \n",
      " max_pooling3d_2 (MaxPooling  (None, 75, 5, 17, 75)    0         \n",
      " 3D)                                                             \n",
      "                                                                 \n",
      " time_distributed (TimeDistr  (None, 75, 6375)         0         \n",
      " ibuted)                                                         \n",
      "                                                                 \n",
      " bidirectional (Bidirectiona  (None, 75, 256)          6660096   \n",
      " l)                                                              \n",
      "                                                                 \n",
      " dropout (Dropout)           (None, 75, 256)           0         \n",
      "                                                                 \n",
      " bidirectional_1 (Bidirectio  (None, 75, 256)          394240    \n",
      " nal)                                                            \n",
      "                                                                 \n",
      " dropout_1 (Dropout)         (None, 75, 256)           0         \n",
      "                                                                 \n",
      " dense (Dense)               (None, 75, 41)            10537     \n",
      "                                                                 \n",
      "=================================================================\n",
      "Total params: 8,471,924\n",
      "Trainable params: 8,471,924\n",
      "Non-trainable params: 0\n",
      "_________________________________________________________________\n"
     ]
    }
   ],
   "source": [
    "model.summary()"
   ]
  },
  {
   "cell_type": "code",
   "execution_count": 41,
   "id": "6f954b16-4b3f-4264-9ed8-15858c64fc15",
   "metadata": {
    "tags": []
   },
   "outputs": [
    {
     "name": "stdout",
     "output_type": "stream",
     "text": [
      "1/1 [==============================] - 0s 499ms/step\n"
     ]
    },
    {
     "data": {
      "text/plain": [
       "<tf.Tensor: shape=(), dtype=string, numpy=b'5dc1c2upr1'>"
      ]
     },
     "execution_count": 41,
     "metadata": {},
     "output_type": "execute_result"
    }
   ],
   "source": [
    "y_hat = model.predict(val[0])\n",
    "\n",
    "tf.strings.reduce_join([num_to_char(x) for x in tf.argmax(y_hat[0])])"
   ]
  },
  {
   "cell_type": "code",
   "execution_count": 42,
   "id": "7b7cc58e-672a-4e5f-bbed-9db43cd3af8b",
   "metadata": {
    "tags": []
   },
   "outputs": [
    {
     "data": {
      "text/plain": [
       "(None, 75, 46, 140, 1)"
      ]
     },
     "execution_count": 42,
     "metadata": {},
     "output_type": "execute_result"
    }
   ],
   "source": [
    "model.input_shape"
   ]
  },
  {
   "cell_type": "code",
   "execution_count": 43,
   "id": "871a9545-f5e3-45e6-8853-62130ba49092",
   "metadata": {
    "tags": []
   },
   "outputs": [
    {
     "data": {
      "text/plain": [
       "(None, 75, 41)"
      ]
     },
     "execution_count": 43,
     "metadata": {},
     "output_type": "execute_result"
    }
   ],
   "source": [
    "model.output_shape"
   ]
  },
  {
   "cell_type": "markdown",
   "id": "7c1fc5ac-0809-4321-9769-9b2d3841d2a3",
   "metadata": {},
   "source": [
    "## Setup Training options and Train"
   ]
  },
  {
   "cell_type": "code",
   "execution_count": 49,
   "id": "817b675a-0c68-44cf-8d37-7dba9efd0339",
   "metadata": {
    "tags": []
   },
   "outputs": [],
   "source": [
    "def scheduler(epoch, lr):\n",
    "    if epoch < 30:\n",
    "        return lr\n",
    "    else:\n",
    "        return lr * tf.math.exp(-0.1)"
   ]
  },
  {
   "cell_type": "code",
   "execution_count": 50,
   "id": "fa7da9f5-3f7d-4ea1-be58-acd8af9a84dc",
   "metadata": {},
   "outputs": [],
   "source": [
    "def CTCLoss(y_true, y_pred):\n",
    "    batch_len = tf.cast(tf.shape(y_true)[0], dtype=\"int64\")\n",
    "    input_length = tf.cast(tf.shape(y_pred)[1], dtype=\"int64\")\n",
    "    label_length = tf.cast(tf.shape(y_true)[1], dtype=\"int64\")\n",
    "    \n",
    "    input_length = input_length * tf.ones(shape=(batch_len, 1), dtype=\"int64\")\n",
    "    label_length = label_length * tf.ones(shape=(batch_len, 1), dtype=\"int64\")\n",
    "    \n",
    "    loss = tf.keras.backend.ctc_batch_cost(y_true, y_pred, input_length, label_length)\n",
    "    return loss"
   ]
  },
  {
   "cell_type": "code",
   "execution_count": 51,
   "id": "78b6b8b2-1c7c-484f-bbc2-0d7f725980d4",
   "metadata": {
    "tags": []
   },
   "outputs": [],
   "source": [
    "class ProduceExample(tf.keras.callbacks.Callback):\n",
    "    def __init__(self, dataset) -> None:\n",
    "        self.dataset = dataset.as_numpy_iterator()\n",
    "    \n",
    "    def on_epoch_end(self, epoch, logs=None) -> None:\n",
    "        data = self.dataset.next()\n",
    "        y_hat = self.model.predict(data[0])\n",
    "        decoded = tf.keras.backend.ctc_decode(y_hat, [75, 75], greedy=False)[0][0].numpy()\n",
    "        for x in range(len(y_hat)):\n",
    "                print(\"Original: \", tf.strings.reduce_join(num_to_char(data[1][x])).numpy.decode('utf-8'))\n",
    "                print(\"Prediction: \", tf.strings.reduce_join(num_to_char(decoded[x])).numpy().decode('utf-8'))\n",
    "                print('~'*100)"
   ]
  },
  {
   "cell_type": "code",
   "execution_count": 52,
   "id": "a7dc6161-f006-4d16-8f55-82df59ea969e",
   "metadata": {
    "tags": []
   },
   "outputs": [],
   "source": [
    "model.compile(optimizer=Adam(learning_rate=0.0001), loss=CTCLoss)"
   ]
  },
  {
   "cell_type": "code",
   "execution_count": 53,
   "id": "9f697083-3ced-48f3-a126-2fb20ff352ed",
   "metadata": {
    "tags": []
   },
   "outputs": [],
   "source": [
    "checkpoint_callback = ModelCheckpoint(os.path.join('models', 'checkpoint'), monitor='loss', save_weights_only=True)"
   ]
  },
  {
   "cell_type": "code",
   "execution_count": 54,
   "id": "f6b6e1a1-709e-4418-989a-6fbb9dbc80e8",
   "metadata": {
    "tags": []
   },
   "outputs": [],
   "source": [
    "schedule_callback = LearningRateScheduler(scheduler)"
   ]
  },
  {
   "cell_type": "code",
   "execution_count": 55,
   "id": "0db94615-a9eb-4ba1-9177-c9d87251e454",
   "metadata": {
    "tags": []
   },
   "outputs": [],
   "source": [
    "example_callback = ProduceExample(data)"
   ]
  },
  {
   "cell_type": "code",
   "execution_count": 60,
   "id": "fd9adc3c-ecd6-4ee1-913e-be49da3d6fc5",
   "metadata": {
    "tags": []
   },
   "outputs": [
    {
     "name": "stdout",
     "output_type": "stream",
     "text": [
      "Epoch 1/100\n",
      "path .\\data\\s1\\lgwtzn.mpg\n",
      "path .\\data\\s1\\pwij2n.mpg\n",
      "path .\\data\\s1\\bbaz7a.mpg\n",
      "path .\\data\\s1\\bbal7s.mpg\n"
     ]
    },
    {
     "ename": "ResourceExhaustedError",
     "evalue": "Graph execution error:\n\nDetected at node 'sequential/max_pooling3d_1/MaxPool3D' defined at (most recent call last):\n    File \"C:\\Users\\FARZIN\\anaconda3\\envs\\lip_net\\lib\\runpy.py\", line 197, in _run_module_as_main\n      return _run_code(code, main_globals, None,\n    File \"C:\\Users\\FARZIN\\anaconda3\\envs\\lip_net\\lib\\runpy.py\", line 87, in _run_code\n      exec(code, run_globals)\n    File \"C:\\Users\\FARZIN\\anaconda3\\envs\\lip_net\\lib\\site-packages\\ipykernel_launcher.py\", line 17, in <module>\n      app.launch_new_instance()\n    File \"C:\\Users\\FARZIN\\anaconda3\\envs\\lip_net\\lib\\site-packages\\traitlets\\config\\application.py\", line 992, in launch_instance\n      app.start()\n    File \"C:\\Users\\FARZIN\\anaconda3\\envs\\lip_net\\lib\\site-packages\\ipykernel\\kernelapp.py\", line 736, in start\n      self.io_loop.start()\n    File \"C:\\Users\\FARZIN\\anaconda3\\envs\\lip_net\\lib\\site-packages\\tornado\\platform\\asyncio.py\", line 195, in start\n      self.asyncio_loop.run_forever()\n    File \"C:\\Users\\FARZIN\\anaconda3\\envs\\lip_net\\lib\\asyncio\\base_events.py\", line 601, in run_forever\n      self._run_once()\n    File \"C:\\Users\\FARZIN\\anaconda3\\envs\\lip_net\\lib\\asyncio\\base_events.py\", line 1905, in _run_once\n      handle._run()\n    File \"C:\\Users\\FARZIN\\anaconda3\\envs\\lip_net\\lib\\asyncio\\events.py\", line 80, in _run\n      self._context.run(self._callback, *self._args)\n    File \"C:\\Users\\FARZIN\\anaconda3\\envs\\lip_net\\lib\\site-packages\\ipykernel\\kernelbase.py\", line 516, in dispatch_queue\n      await self.process_one()\n    File \"C:\\Users\\FARZIN\\anaconda3\\envs\\lip_net\\lib\\site-packages\\ipykernel\\kernelbase.py\", line 505, in process_one\n      await dispatch(*args)\n    File \"C:\\Users\\FARZIN\\anaconda3\\envs\\lip_net\\lib\\site-packages\\ipykernel\\kernelbase.py\", line 412, in dispatch_shell\n      await result\n    File \"C:\\Users\\FARZIN\\anaconda3\\envs\\lip_net\\lib\\site-packages\\ipykernel\\kernelbase.py\", line 740, in execute_request\n      reply_content = await reply_content\n    File \"C:\\Users\\FARZIN\\anaconda3\\envs\\lip_net\\lib\\site-packages\\ipykernel\\ipkernel.py\", line 422, in do_execute\n      res = shell.run_cell(\n    File \"C:\\Users\\FARZIN\\anaconda3\\envs\\lip_net\\lib\\site-packages\\ipykernel\\zmqshell.py\", line 546, in run_cell\n      return super().run_cell(*args, **kwargs)\n    File \"C:\\Users\\FARZIN\\anaconda3\\envs\\lip_net\\lib\\site-packages\\IPython\\core\\interactiveshell.py\", line 3009, in run_cell\n      result = self._run_cell(\n    File \"C:\\Users\\FARZIN\\anaconda3\\envs\\lip_net\\lib\\site-packages\\IPython\\core\\interactiveshell.py\", line 3064, in _run_cell\n      result = runner(coro)\n    File \"C:\\Users\\FARZIN\\anaconda3\\envs\\lip_net\\lib\\site-packages\\IPython\\core\\async_helpers.py\", line 129, in _pseudo_sync_runner\n      coro.send(None)\n    File \"C:\\Users\\FARZIN\\anaconda3\\envs\\lip_net\\lib\\site-packages\\IPython\\core\\interactiveshell.py\", line 3269, in run_cell_async\n      has_raised = await self.run_ast_nodes(code_ast.body, cell_name,\n    File \"C:\\Users\\FARZIN\\anaconda3\\envs\\lip_net\\lib\\site-packages\\IPython\\core\\interactiveshell.py\", line 3448, in run_ast_nodes\n      if await self.run_code(code, result, async_=asy):\n    File \"C:\\Users\\FARZIN\\anaconda3\\envs\\lip_net\\lib\\site-packages\\IPython\\core\\interactiveshell.py\", line 3508, in run_code\n      exec(code_obj, self.user_global_ns, self.user_ns)\n    File \"C:\\Users\\FARZIN\\AppData\\Local\\Temp\\ipykernel_19000\\3067580991.py\", line 1, in <module>\n      model.fit(data, validation_data=test, epochs=100, batch_size=32, callbacks=[checkpoint_callback, schedule_callback, example_callback])\n    File \"C:\\Users\\FARZIN\\anaconda3\\envs\\lip_net\\lib\\site-packages\\keras\\utils\\traceback_utils.py\", line 65, in error_handler\n      return fn(*args, **kwargs)\n    File \"C:\\Users\\FARZIN\\anaconda3\\envs\\lip_net\\lib\\site-packages\\keras\\engine\\training.py\", line 1564, in fit\n      tmp_logs = self.train_function(iterator)\n    File \"C:\\Users\\FARZIN\\anaconda3\\envs\\lip_net\\lib\\site-packages\\keras\\engine\\training.py\", line 1160, in train_function\n      return step_function(self, iterator)\n    File \"C:\\Users\\FARZIN\\anaconda3\\envs\\lip_net\\lib\\site-packages\\keras\\engine\\training.py\", line 1146, in step_function\n      outputs = model.distribute_strategy.run(run_step, args=(data,))\n    File \"C:\\Users\\FARZIN\\anaconda3\\envs\\lip_net\\lib\\site-packages\\keras\\engine\\training.py\", line 1135, in run_step\n      outputs = model.train_step(data)\n    File \"C:\\Users\\FARZIN\\anaconda3\\envs\\lip_net\\lib\\site-packages\\keras\\engine\\training.py\", line 993, in train_step\n      y_pred = self(x, training=True)\n    File \"C:\\Users\\FARZIN\\anaconda3\\envs\\lip_net\\lib\\site-packages\\keras\\utils\\traceback_utils.py\", line 65, in error_handler\n      return fn(*args, **kwargs)\n    File \"C:\\Users\\FARZIN\\anaconda3\\envs\\lip_net\\lib\\site-packages\\keras\\engine\\training.py\", line 557, in __call__\n      return super().__call__(*args, **kwargs)\n    File \"C:\\Users\\FARZIN\\anaconda3\\envs\\lip_net\\lib\\site-packages\\keras\\utils\\traceback_utils.py\", line 65, in error_handler\n      return fn(*args, **kwargs)\n    File \"C:\\Users\\FARZIN\\anaconda3\\envs\\lip_net\\lib\\site-packages\\keras\\engine\\base_layer.py\", line 1097, in __call__\n      outputs = call_fn(inputs, *args, **kwargs)\n    File \"C:\\Users\\FARZIN\\anaconda3\\envs\\lip_net\\lib\\site-packages\\keras\\utils\\traceback_utils.py\", line 96, in error_handler\n      return fn(*args, **kwargs)\n    File \"C:\\Users\\FARZIN\\anaconda3\\envs\\lip_net\\lib\\site-packages\\keras\\engine\\sequential.py\", line 410, in call\n      return super().call(inputs, training=training, mask=mask)\n    File \"C:\\Users\\FARZIN\\anaconda3\\envs\\lip_net\\lib\\site-packages\\keras\\engine\\functional.py\", line 510, in call\n      return self._run_internal_graph(inputs, training=training, mask=mask)\n    File \"C:\\Users\\FARZIN\\anaconda3\\envs\\lip_net\\lib\\site-packages\\keras\\engine\\functional.py\", line 667, in _run_internal_graph\n      outputs = node.layer(*args, **kwargs)\n    File \"C:\\Users\\FARZIN\\anaconda3\\envs\\lip_net\\lib\\site-packages\\keras\\utils\\traceback_utils.py\", line 65, in error_handler\n      return fn(*args, **kwargs)\n    File \"C:\\Users\\FARZIN\\anaconda3\\envs\\lip_net\\lib\\site-packages\\keras\\engine\\base_layer.py\", line 1097, in __call__\n      outputs = call_fn(inputs, *args, **kwargs)\n    File \"C:\\Users\\FARZIN\\anaconda3\\envs\\lip_net\\lib\\site-packages\\keras\\utils\\traceback_utils.py\", line 96, in error_handler\n      return fn(*args, **kwargs)\n    File \"C:\\Users\\FARZIN\\anaconda3\\envs\\lip_net\\lib\\site-packages\\keras\\layers\\pooling\\base_pooling3d.py\", line 88, in call\n      outputs = self.pool_function(\nNode: 'sequential/max_pooling3d_1/MaxPool3D'\nDetected at node 'sequential/max_pooling3d_1/MaxPool3D' defined at (most recent call last):\n    File \"C:\\Users\\FARZIN\\anaconda3\\envs\\lip_net\\lib\\runpy.py\", line 197, in _run_module_as_main\n      return _run_code(code, main_globals, None,\n    File \"C:\\Users\\FARZIN\\anaconda3\\envs\\lip_net\\lib\\runpy.py\", line 87, in _run_code\n      exec(code, run_globals)\n    File \"C:\\Users\\FARZIN\\anaconda3\\envs\\lip_net\\lib\\site-packages\\ipykernel_launcher.py\", line 17, in <module>\n      app.launch_new_instance()\n    File \"C:\\Users\\FARZIN\\anaconda3\\envs\\lip_net\\lib\\site-packages\\traitlets\\config\\application.py\", line 992, in launch_instance\n      app.start()\n    File \"C:\\Users\\FARZIN\\anaconda3\\envs\\lip_net\\lib\\site-packages\\ipykernel\\kernelapp.py\", line 736, in start\n      self.io_loop.start()\n    File \"C:\\Users\\FARZIN\\anaconda3\\envs\\lip_net\\lib\\site-packages\\tornado\\platform\\asyncio.py\", line 195, in start\n      self.asyncio_loop.run_forever()\n    File \"C:\\Users\\FARZIN\\anaconda3\\envs\\lip_net\\lib\\asyncio\\base_events.py\", line 601, in run_forever\n      self._run_once()\n    File \"C:\\Users\\FARZIN\\anaconda3\\envs\\lip_net\\lib\\asyncio\\base_events.py\", line 1905, in _run_once\n      handle._run()\n    File \"C:\\Users\\FARZIN\\anaconda3\\envs\\lip_net\\lib\\asyncio\\events.py\", line 80, in _run\n      self._context.run(self._callback, *self._args)\n    File \"C:\\Users\\FARZIN\\anaconda3\\envs\\lip_net\\lib\\site-packages\\ipykernel\\kernelbase.py\", line 516, in dispatch_queue\n      await self.process_one()\n    File \"C:\\Users\\FARZIN\\anaconda3\\envs\\lip_net\\lib\\site-packages\\ipykernel\\kernelbase.py\", line 505, in process_one\n      await dispatch(*args)\n    File \"C:\\Users\\FARZIN\\anaconda3\\envs\\lip_net\\lib\\site-packages\\ipykernel\\kernelbase.py\", line 412, in dispatch_shell\n      await result\n    File \"C:\\Users\\FARZIN\\anaconda3\\envs\\lip_net\\lib\\site-packages\\ipykernel\\kernelbase.py\", line 740, in execute_request\n      reply_content = await reply_content\n    File \"C:\\Users\\FARZIN\\anaconda3\\envs\\lip_net\\lib\\site-packages\\ipykernel\\ipkernel.py\", line 422, in do_execute\n      res = shell.run_cell(\n    File \"C:\\Users\\FARZIN\\anaconda3\\envs\\lip_net\\lib\\site-packages\\ipykernel\\zmqshell.py\", line 546, in run_cell\n      return super().run_cell(*args, **kwargs)\n    File \"C:\\Users\\FARZIN\\anaconda3\\envs\\lip_net\\lib\\site-packages\\IPython\\core\\interactiveshell.py\", line 3009, in run_cell\n      result = self._run_cell(\n    File \"C:\\Users\\FARZIN\\anaconda3\\envs\\lip_net\\lib\\site-packages\\IPython\\core\\interactiveshell.py\", line 3064, in _run_cell\n      result = runner(coro)\n    File \"C:\\Users\\FARZIN\\anaconda3\\envs\\lip_net\\lib\\site-packages\\IPython\\core\\async_helpers.py\", line 129, in _pseudo_sync_runner\n      coro.send(None)\n    File \"C:\\Users\\FARZIN\\anaconda3\\envs\\lip_net\\lib\\site-packages\\IPython\\core\\interactiveshell.py\", line 3269, in run_cell_async\n      has_raised = await self.run_ast_nodes(code_ast.body, cell_name,\n    File \"C:\\Users\\FARZIN\\anaconda3\\envs\\lip_net\\lib\\site-packages\\IPython\\core\\interactiveshell.py\", line 3448, in run_ast_nodes\n      if await self.run_code(code, result, async_=asy):\n    File \"C:\\Users\\FARZIN\\anaconda3\\envs\\lip_net\\lib\\site-packages\\IPython\\core\\interactiveshell.py\", line 3508, in run_code\n      exec(code_obj, self.user_global_ns, self.user_ns)\n    File \"C:\\Users\\FARZIN\\AppData\\Local\\Temp\\ipykernel_19000\\3067580991.py\", line 1, in <module>\n      model.fit(data, validation_data=test, epochs=100, batch_size=32, callbacks=[checkpoint_callback, schedule_callback, example_callback])\n    File \"C:\\Users\\FARZIN\\anaconda3\\envs\\lip_net\\lib\\site-packages\\keras\\utils\\traceback_utils.py\", line 65, in error_handler\n      return fn(*args, **kwargs)\n    File \"C:\\Users\\FARZIN\\anaconda3\\envs\\lip_net\\lib\\site-packages\\keras\\engine\\training.py\", line 1564, in fit\n      tmp_logs = self.train_function(iterator)\n    File \"C:\\Users\\FARZIN\\anaconda3\\envs\\lip_net\\lib\\site-packages\\keras\\engine\\training.py\", line 1160, in train_function\n      return step_function(self, iterator)\n    File \"C:\\Users\\FARZIN\\anaconda3\\envs\\lip_net\\lib\\site-packages\\keras\\engine\\training.py\", line 1146, in step_function\n      outputs = model.distribute_strategy.run(run_step, args=(data,))\n    File \"C:\\Users\\FARZIN\\anaconda3\\envs\\lip_net\\lib\\site-packages\\keras\\engine\\training.py\", line 1135, in run_step\n      outputs = model.train_step(data)\n    File \"C:\\Users\\FARZIN\\anaconda3\\envs\\lip_net\\lib\\site-packages\\keras\\engine\\training.py\", line 993, in train_step\n      y_pred = self(x, training=True)\n    File \"C:\\Users\\FARZIN\\anaconda3\\envs\\lip_net\\lib\\site-packages\\keras\\utils\\traceback_utils.py\", line 65, in error_handler\n      return fn(*args, **kwargs)\n    File \"C:\\Users\\FARZIN\\anaconda3\\envs\\lip_net\\lib\\site-packages\\keras\\engine\\training.py\", line 557, in __call__\n      return super().__call__(*args, **kwargs)\n    File \"C:\\Users\\FARZIN\\anaconda3\\envs\\lip_net\\lib\\site-packages\\keras\\utils\\traceback_utils.py\", line 65, in error_handler\n      return fn(*args, **kwargs)\n    File \"C:\\Users\\FARZIN\\anaconda3\\envs\\lip_net\\lib\\site-packages\\keras\\engine\\base_layer.py\", line 1097, in __call__\n      outputs = call_fn(inputs, *args, **kwargs)\n    File \"C:\\Users\\FARZIN\\anaconda3\\envs\\lip_net\\lib\\site-packages\\keras\\utils\\traceback_utils.py\", line 96, in error_handler\n      return fn(*args, **kwargs)\n    File \"C:\\Users\\FARZIN\\anaconda3\\envs\\lip_net\\lib\\site-packages\\keras\\engine\\sequential.py\", line 410, in call\n      return super().call(inputs, training=training, mask=mask)\n    File \"C:\\Users\\FARZIN\\anaconda3\\envs\\lip_net\\lib\\site-packages\\keras\\engine\\functional.py\", line 510, in call\n      return self._run_internal_graph(inputs, training=training, mask=mask)\n    File \"C:\\Users\\FARZIN\\anaconda3\\envs\\lip_net\\lib\\site-packages\\keras\\engine\\functional.py\", line 667, in _run_internal_graph\n      outputs = node.layer(*args, **kwargs)\n    File \"C:\\Users\\FARZIN\\anaconda3\\envs\\lip_net\\lib\\site-packages\\keras\\utils\\traceback_utils.py\", line 65, in error_handler\n      return fn(*args, **kwargs)\n    File \"C:\\Users\\FARZIN\\anaconda3\\envs\\lip_net\\lib\\site-packages\\keras\\engine\\base_layer.py\", line 1097, in __call__\n      outputs = call_fn(inputs, *args, **kwargs)\n    File \"C:\\Users\\FARZIN\\anaconda3\\envs\\lip_net\\lib\\site-packages\\keras\\utils\\traceback_utils.py\", line 96, in error_handler\n      return fn(*args, **kwargs)\n    File \"C:\\Users\\FARZIN\\anaconda3\\envs\\lip_net\\lib\\site-packages\\keras\\layers\\pooling\\base_pooling3d.py\", line 88, in call\n      outputs = self.pool_function(\nNode: 'sequential/max_pooling3d_1/MaxPool3D'\n2 root error(s) found.\n  (0) RESOURCE_EXHAUSTED:  OOM when allocating tensor with shape[2,256,75,23,70] and type float on /job:localhost/replica:0/task:0/device:GPU:0 by allocator GPU_0_bfc\n\t [[{{node sequential/max_pooling3d_1/MaxPool3D}}]]\nHint: If you want to see a list of allocated tensors when OOM happens, add report_tensor_allocations_upon_oom to RunOptions for current allocation info. This isn't available when running in Eager mode.\n\n\t [[CTCLoss/ArithmeticOptimizer/ReorderCastLikeAndValuePreserving_int32_Squeeze_1/_72]]\nHint: If you want to see a list of allocated tensors when OOM happens, add report_tensor_allocations_upon_oom to RunOptions for current allocation info. This isn't available when running in Eager mode.\n\n  (1) RESOURCE_EXHAUSTED:  OOM when allocating tensor with shape[2,256,75,23,70] and type float on /job:localhost/replica:0/task:0/device:GPU:0 by allocator GPU_0_bfc\n\t [[{{node sequential/max_pooling3d_1/MaxPool3D}}]]\nHint: If you want to see a list of allocated tensors when OOM happens, add report_tensor_allocations_upon_oom to RunOptions for current allocation info. This isn't available when running in Eager mode.\n\n0 successful operations.\n0 derived errors ignored. [Op:__inference_train_function_30605]",
     "output_type": "error",
     "traceback": [
      "\u001b[1;31m---------------------------------------------------------------------------\u001b[0m",
      "\u001b[1;31mResourceExhaustedError\u001b[0m                    Traceback (most recent call last)",
      "Cell \u001b[1;32mIn[60], line 1\u001b[0m\n\u001b[1;32m----> 1\u001b[0m \u001b[43mmodel\u001b[49m\u001b[38;5;241;43m.\u001b[39;49m\u001b[43mfit\u001b[49m\u001b[43m(\u001b[49m\u001b[43mdata\u001b[49m\u001b[43m,\u001b[49m\u001b[43m \u001b[49m\u001b[43mvalidation_data\u001b[49m\u001b[38;5;241;43m=\u001b[39;49m\u001b[43mtest\u001b[49m\u001b[43m,\u001b[49m\u001b[43m \u001b[49m\u001b[43mepochs\u001b[49m\u001b[38;5;241;43m=\u001b[39;49m\u001b[38;5;241;43m100\u001b[39;49m\u001b[43m,\u001b[49m\u001b[43m \u001b[49m\u001b[43mbatch_size\u001b[49m\u001b[38;5;241;43m=\u001b[39;49m\u001b[38;5;241;43m8\u001b[39;49m\u001b[43m,\u001b[49m\u001b[43m \u001b[49m\u001b[43mcallbacks\u001b[49m\u001b[38;5;241;43m=\u001b[39;49m\u001b[43m[\u001b[49m\u001b[43mcheckpoint_callback\u001b[49m\u001b[43m,\u001b[49m\u001b[43m \u001b[49m\u001b[43mschedule_callback\u001b[49m\u001b[43m,\u001b[49m\u001b[43m \u001b[49m\u001b[43mexample_callback\u001b[49m\u001b[43m]\u001b[49m\u001b[43m)\u001b[49m\n",
      "File \u001b[1;32m~\\anaconda3\\envs\\lip_net\\lib\\site-packages\\keras\\utils\\traceback_utils.py:70\u001b[0m, in \u001b[0;36mfilter_traceback.<locals>.error_handler\u001b[1;34m(*args, **kwargs)\u001b[0m\n\u001b[0;32m     67\u001b[0m     filtered_tb \u001b[38;5;241m=\u001b[39m _process_traceback_frames(e\u001b[38;5;241m.\u001b[39m__traceback__)\n\u001b[0;32m     68\u001b[0m     \u001b[38;5;66;03m# To get the full stack trace, call:\u001b[39;00m\n\u001b[0;32m     69\u001b[0m     \u001b[38;5;66;03m# `tf.debugging.disable_traceback_filtering()`\u001b[39;00m\n\u001b[1;32m---> 70\u001b[0m     \u001b[38;5;28;01mraise\u001b[39;00m e\u001b[38;5;241m.\u001b[39mwith_traceback(filtered_tb) \u001b[38;5;28;01mfrom\u001b[39;00m \u001b[38;5;28;01mNone\u001b[39;00m\n\u001b[0;32m     71\u001b[0m \u001b[38;5;28;01mfinally\u001b[39;00m:\n\u001b[0;32m     72\u001b[0m     \u001b[38;5;28;01mdel\u001b[39;00m filtered_tb\n",
      "File \u001b[1;32m~\\anaconda3\\envs\\lip_net\\lib\\site-packages\\tensorflow\\python\\eager\\execute.py:54\u001b[0m, in \u001b[0;36mquick_execute\u001b[1;34m(op_name, num_outputs, inputs, attrs, ctx, name)\u001b[0m\n\u001b[0;32m     52\u001b[0m \u001b[38;5;28;01mtry\u001b[39;00m:\n\u001b[0;32m     53\u001b[0m   ctx\u001b[38;5;241m.\u001b[39mensure_initialized()\n\u001b[1;32m---> 54\u001b[0m   tensors \u001b[38;5;241m=\u001b[39m pywrap_tfe\u001b[38;5;241m.\u001b[39mTFE_Py_Execute(ctx\u001b[38;5;241m.\u001b[39m_handle, device_name, op_name,\n\u001b[0;32m     55\u001b[0m                                       inputs, attrs, num_outputs)\n\u001b[0;32m     56\u001b[0m \u001b[38;5;28;01mexcept\u001b[39;00m core\u001b[38;5;241m.\u001b[39m_NotOkStatusException \u001b[38;5;28;01mas\u001b[39;00m e:\n\u001b[0;32m     57\u001b[0m   \u001b[38;5;28;01mif\u001b[39;00m name \u001b[38;5;129;01mis\u001b[39;00m \u001b[38;5;129;01mnot\u001b[39;00m \u001b[38;5;28;01mNone\u001b[39;00m:\n",
      "\u001b[1;31mResourceExhaustedError\u001b[0m: Graph execution error:\n\nDetected at node 'sequential/max_pooling3d_1/MaxPool3D' defined at (most recent call last):\n    File \"C:\\Users\\FARZIN\\anaconda3\\envs\\lip_net\\lib\\runpy.py\", line 197, in _run_module_as_main\n      return _run_code(code, main_globals, None,\n    File \"C:\\Users\\FARZIN\\anaconda3\\envs\\lip_net\\lib\\runpy.py\", line 87, in _run_code\n      exec(code, run_globals)\n    File \"C:\\Users\\FARZIN\\anaconda3\\envs\\lip_net\\lib\\site-packages\\ipykernel_launcher.py\", line 17, in <module>\n      app.launch_new_instance()\n    File \"C:\\Users\\FARZIN\\anaconda3\\envs\\lip_net\\lib\\site-packages\\traitlets\\config\\application.py\", line 992, in launch_instance\n      app.start()\n    File \"C:\\Users\\FARZIN\\anaconda3\\envs\\lip_net\\lib\\site-packages\\ipykernel\\kernelapp.py\", line 736, in start\n      self.io_loop.start()\n    File \"C:\\Users\\FARZIN\\anaconda3\\envs\\lip_net\\lib\\site-packages\\tornado\\platform\\asyncio.py\", line 195, in start\n      self.asyncio_loop.run_forever()\n    File \"C:\\Users\\FARZIN\\anaconda3\\envs\\lip_net\\lib\\asyncio\\base_events.py\", line 601, in run_forever\n      self._run_once()\n    File \"C:\\Users\\FARZIN\\anaconda3\\envs\\lip_net\\lib\\asyncio\\base_events.py\", line 1905, in _run_once\n      handle._run()\n    File \"C:\\Users\\FARZIN\\anaconda3\\envs\\lip_net\\lib\\asyncio\\events.py\", line 80, in _run\n      self._context.run(self._callback, *self._args)\n    File \"C:\\Users\\FARZIN\\anaconda3\\envs\\lip_net\\lib\\site-packages\\ipykernel\\kernelbase.py\", line 516, in dispatch_queue\n      await self.process_one()\n    File \"C:\\Users\\FARZIN\\anaconda3\\envs\\lip_net\\lib\\site-packages\\ipykernel\\kernelbase.py\", line 505, in process_one\n      await dispatch(*args)\n    File \"C:\\Users\\FARZIN\\anaconda3\\envs\\lip_net\\lib\\site-packages\\ipykernel\\kernelbase.py\", line 412, in dispatch_shell\n      await result\n    File \"C:\\Users\\FARZIN\\anaconda3\\envs\\lip_net\\lib\\site-packages\\ipykernel\\kernelbase.py\", line 740, in execute_request\n      reply_content = await reply_content\n    File \"C:\\Users\\FARZIN\\anaconda3\\envs\\lip_net\\lib\\site-packages\\ipykernel\\ipkernel.py\", line 422, in do_execute\n      res = shell.run_cell(\n    File \"C:\\Users\\FARZIN\\anaconda3\\envs\\lip_net\\lib\\site-packages\\ipykernel\\zmqshell.py\", line 546, in run_cell\n      return super().run_cell(*args, **kwargs)\n    File \"C:\\Users\\FARZIN\\anaconda3\\envs\\lip_net\\lib\\site-packages\\IPython\\core\\interactiveshell.py\", line 3009, in run_cell\n      result = self._run_cell(\n    File \"C:\\Users\\FARZIN\\anaconda3\\envs\\lip_net\\lib\\site-packages\\IPython\\core\\interactiveshell.py\", line 3064, in _run_cell\n      result = runner(coro)\n    File \"C:\\Users\\FARZIN\\anaconda3\\envs\\lip_net\\lib\\site-packages\\IPython\\core\\async_helpers.py\", line 129, in _pseudo_sync_runner\n      coro.send(None)\n    File \"C:\\Users\\FARZIN\\anaconda3\\envs\\lip_net\\lib\\site-packages\\IPython\\core\\interactiveshell.py\", line 3269, in run_cell_async\n      has_raised = await self.run_ast_nodes(code_ast.body, cell_name,\n    File \"C:\\Users\\FARZIN\\anaconda3\\envs\\lip_net\\lib\\site-packages\\IPython\\core\\interactiveshell.py\", line 3448, in run_ast_nodes\n      if await self.run_code(code, result, async_=asy):\n    File \"C:\\Users\\FARZIN\\anaconda3\\envs\\lip_net\\lib\\site-packages\\IPython\\core\\interactiveshell.py\", line 3508, in run_code\n      exec(code_obj, self.user_global_ns, self.user_ns)\n    File \"C:\\Users\\FARZIN\\AppData\\Local\\Temp\\ipykernel_19000\\3067580991.py\", line 1, in <module>\n      model.fit(data, validation_data=test, epochs=100, batch_size=32, callbacks=[checkpoint_callback, schedule_callback, example_callback])\n    File \"C:\\Users\\FARZIN\\anaconda3\\envs\\lip_net\\lib\\site-packages\\keras\\utils\\traceback_utils.py\", line 65, in error_handler\n      return fn(*args, **kwargs)\n    File \"C:\\Users\\FARZIN\\anaconda3\\envs\\lip_net\\lib\\site-packages\\keras\\engine\\training.py\", line 1564, in fit\n      tmp_logs = self.train_function(iterator)\n    File \"C:\\Users\\FARZIN\\anaconda3\\envs\\lip_net\\lib\\site-packages\\keras\\engine\\training.py\", line 1160, in train_function\n      return step_function(self, iterator)\n    File \"C:\\Users\\FARZIN\\anaconda3\\envs\\lip_net\\lib\\site-packages\\keras\\engine\\training.py\", line 1146, in step_function\n      outputs = model.distribute_strategy.run(run_step, args=(data,))\n    File \"C:\\Users\\FARZIN\\anaconda3\\envs\\lip_net\\lib\\site-packages\\keras\\engine\\training.py\", line 1135, in run_step\n      outputs = model.train_step(data)\n    File \"C:\\Users\\FARZIN\\anaconda3\\envs\\lip_net\\lib\\site-packages\\keras\\engine\\training.py\", line 993, in train_step\n      y_pred = self(x, training=True)\n    File \"C:\\Users\\FARZIN\\anaconda3\\envs\\lip_net\\lib\\site-packages\\keras\\utils\\traceback_utils.py\", line 65, in error_handler\n      return fn(*args, **kwargs)\n    File \"C:\\Users\\FARZIN\\anaconda3\\envs\\lip_net\\lib\\site-packages\\keras\\engine\\training.py\", line 557, in __call__\n      return super().__call__(*args, **kwargs)\n    File \"C:\\Users\\FARZIN\\anaconda3\\envs\\lip_net\\lib\\site-packages\\keras\\utils\\traceback_utils.py\", line 65, in error_handler\n      return fn(*args, **kwargs)\n    File \"C:\\Users\\FARZIN\\anaconda3\\envs\\lip_net\\lib\\site-packages\\keras\\engine\\base_layer.py\", line 1097, in __call__\n      outputs = call_fn(inputs, *args, **kwargs)\n    File \"C:\\Users\\FARZIN\\anaconda3\\envs\\lip_net\\lib\\site-packages\\keras\\utils\\traceback_utils.py\", line 96, in error_handler\n      return fn(*args, **kwargs)\n    File \"C:\\Users\\FARZIN\\anaconda3\\envs\\lip_net\\lib\\site-packages\\keras\\engine\\sequential.py\", line 410, in call\n      return super().call(inputs, training=training, mask=mask)\n    File \"C:\\Users\\FARZIN\\anaconda3\\envs\\lip_net\\lib\\site-packages\\keras\\engine\\functional.py\", line 510, in call\n      return self._run_internal_graph(inputs, training=training, mask=mask)\n    File \"C:\\Users\\FARZIN\\anaconda3\\envs\\lip_net\\lib\\site-packages\\keras\\engine\\functional.py\", line 667, in _run_internal_graph\n      outputs = node.layer(*args, **kwargs)\n    File \"C:\\Users\\FARZIN\\anaconda3\\envs\\lip_net\\lib\\site-packages\\keras\\utils\\traceback_utils.py\", line 65, in error_handler\n      return fn(*args, **kwargs)\n    File \"C:\\Users\\FARZIN\\anaconda3\\envs\\lip_net\\lib\\site-packages\\keras\\engine\\base_layer.py\", line 1097, in __call__\n      outputs = call_fn(inputs, *args, **kwargs)\n    File \"C:\\Users\\FARZIN\\anaconda3\\envs\\lip_net\\lib\\site-packages\\keras\\utils\\traceback_utils.py\", line 96, in error_handler\n      return fn(*args, **kwargs)\n    File \"C:\\Users\\FARZIN\\anaconda3\\envs\\lip_net\\lib\\site-packages\\keras\\layers\\pooling\\base_pooling3d.py\", line 88, in call\n      outputs = self.pool_function(\nNode: 'sequential/max_pooling3d_1/MaxPool3D'\nDetected at node 'sequential/max_pooling3d_1/MaxPool3D' defined at (most recent call last):\n    File \"C:\\Users\\FARZIN\\anaconda3\\envs\\lip_net\\lib\\runpy.py\", line 197, in _run_module_as_main\n      return _run_code(code, main_globals, None,\n    File \"C:\\Users\\FARZIN\\anaconda3\\envs\\lip_net\\lib\\runpy.py\", line 87, in _run_code\n      exec(code, run_globals)\n    File \"C:\\Users\\FARZIN\\anaconda3\\envs\\lip_net\\lib\\site-packages\\ipykernel_launcher.py\", line 17, in <module>\n      app.launch_new_instance()\n    File \"C:\\Users\\FARZIN\\anaconda3\\envs\\lip_net\\lib\\site-packages\\traitlets\\config\\application.py\", line 992, in launch_instance\n      app.start()\n    File \"C:\\Users\\FARZIN\\anaconda3\\envs\\lip_net\\lib\\site-packages\\ipykernel\\kernelapp.py\", line 736, in start\n      self.io_loop.start()\n    File \"C:\\Users\\FARZIN\\anaconda3\\envs\\lip_net\\lib\\site-packages\\tornado\\platform\\asyncio.py\", line 195, in start\n      self.asyncio_loop.run_forever()\n    File \"C:\\Users\\FARZIN\\anaconda3\\envs\\lip_net\\lib\\asyncio\\base_events.py\", line 601, in run_forever\n      self._run_once()\n    File \"C:\\Users\\FARZIN\\anaconda3\\envs\\lip_net\\lib\\asyncio\\base_events.py\", line 1905, in _run_once\n      handle._run()\n    File \"C:\\Users\\FARZIN\\anaconda3\\envs\\lip_net\\lib\\asyncio\\events.py\", line 80, in _run\n      self._context.run(self._callback, *self._args)\n    File \"C:\\Users\\FARZIN\\anaconda3\\envs\\lip_net\\lib\\site-packages\\ipykernel\\kernelbase.py\", line 516, in dispatch_queue\n      await self.process_one()\n    File \"C:\\Users\\FARZIN\\anaconda3\\envs\\lip_net\\lib\\site-packages\\ipykernel\\kernelbase.py\", line 505, in process_one\n      await dispatch(*args)\n    File \"C:\\Users\\FARZIN\\anaconda3\\envs\\lip_net\\lib\\site-packages\\ipykernel\\kernelbase.py\", line 412, in dispatch_shell\n      await result\n    File \"C:\\Users\\FARZIN\\anaconda3\\envs\\lip_net\\lib\\site-packages\\ipykernel\\kernelbase.py\", line 740, in execute_request\n      reply_content = await reply_content\n    File \"C:\\Users\\FARZIN\\anaconda3\\envs\\lip_net\\lib\\site-packages\\ipykernel\\ipkernel.py\", line 422, in do_execute\n      res = shell.run_cell(\n    File \"C:\\Users\\FARZIN\\anaconda3\\envs\\lip_net\\lib\\site-packages\\ipykernel\\zmqshell.py\", line 546, in run_cell\n      return super().run_cell(*args, **kwargs)\n    File \"C:\\Users\\FARZIN\\anaconda3\\envs\\lip_net\\lib\\site-packages\\IPython\\core\\interactiveshell.py\", line 3009, in run_cell\n      result = self._run_cell(\n    File \"C:\\Users\\FARZIN\\anaconda3\\envs\\lip_net\\lib\\site-packages\\IPython\\core\\interactiveshell.py\", line 3064, in _run_cell\n      result = runner(coro)\n    File \"C:\\Users\\FARZIN\\anaconda3\\envs\\lip_net\\lib\\site-packages\\IPython\\core\\async_helpers.py\", line 129, in _pseudo_sync_runner\n      coro.send(None)\n    File \"C:\\Users\\FARZIN\\anaconda3\\envs\\lip_net\\lib\\site-packages\\IPython\\core\\interactiveshell.py\", line 3269, in run_cell_async\n      has_raised = await self.run_ast_nodes(code_ast.body, cell_name,\n    File \"C:\\Users\\FARZIN\\anaconda3\\envs\\lip_net\\lib\\site-packages\\IPython\\core\\interactiveshell.py\", line 3448, in run_ast_nodes\n      if await self.run_code(code, result, async_=asy):\n    File \"C:\\Users\\FARZIN\\anaconda3\\envs\\lip_net\\lib\\site-packages\\IPython\\core\\interactiveshell.py\", line 3508, in run_code\n      exec(code_obj, self.user_global_ns, self.user_ns)\n    File \"C:\\Users\\FARZIN\\AppData\\Local\\Temp\\ipykernel_19000\\3067580991.py\", line 1, in <module>\n      model.fit(data, validation_data=test, epochs=100, batch_size=32, callbacks=[checkpoint_callback, schedule_callback, example_callback])\n    File \"C:\\Users\\FARZIN\\anaconda3\\envs\\lip_net\\lib\\site-packages\\keras\\utils\\traceback_utils.py\", line 65, in error_handler\n      return fn(*args, **kwargs)\n    File \"C:\\Users\\FARZIN\\anaconda3\\envs\\lip_net\\lib\\site-packages\\keras\\engine\\training.py\", line 1564, in fit\n      tmp_logs = self.train_function(iterator)\n    File \"C:\\Users\\FARZIN\\anaconda3\\envs\\lip_net\\lib\\site-packages\\keras\\engine\\training.py\", line 1160, in train_function\n      return step_function(self, iterator)\n    File \"C:\\Users\\FARZIN\\anaconda3\\envs\\lip_net\\lib\\site-packages\\keras\\engine\\training.py\", line 1146, in step_function\n      outputs = model.distribute_strategy.run(run_step, args=(data,))\n    File \"C:\\Users\\FARZIN\\anaconda3\\envs\\lip_net\\lib\\site-packages\\keras\\engine\\training.py\", line 1135, in run_step\n      outputs = model.train_step(data)\n    File \"C:\\Users\\FARZIN\\anaconda3\\envs\\lip_net\\lib\\site-packages\\keras\\engine\\training.py\", line 993, in train_step\n      y_pred = self(x, training=True)\n    File \"C:\\Users\\FARZIN\\anaconda3\\envs\\lip_net\\lib\\site-packages\\keras\\utils\\traceback_utils.py\", line 65, in error_handler\n      return fn(*args, **kwargs)\n    File \"C:\\Users\\FARZIN\\anaconda3\\envs\\lip_net\\lib\\site-packages\\keras\\engine\\training.py\", line 557, in __call__\n      return super().__call__(*args, **kwargs)\n    File \"C:\\Users\\FARZIN\\anaconda3\\envs\\lip_net\\lib\\site-packages\\keras\\utils\\traceback_utils.py\", line 65, in error_handler\n      return fn(*args, **kwargs)\n    File \"C:\\Users\\FARZIN\\anaconda3\\envs\\lip_net\\lib\\site-packages\\keras\\engine\\base_layer.py\", line 1097, in __call__\n      outputs = call_fn(inputs, *args, **kwargs)\n    File \"C:\\Users\\FARZIN\\anaconda3\\envs\\lip_net\\lib\\site-packages\\keras\\utils\\traceback_utils.py\", line 96, in error_handler\n      return fn(*args, **kwargs)\n    File \"C:\\Users\\FARZIN\\anaconda3\\envs\\lip_net\\lib\\site-packages\\keras\\engine\\sequential.py\", line 410, in call\n      return super().call(inputs, training=training, mask=mask)\n    File \"C:\\Users\\FARZIN\\anaconda3\\envs\\lip_net\\lib\\site-packages\\keras\\engine\\functional.py\", line 510, in call\n      return self._run_internal_graph(inputs, training=training, mask=mask)\n    File \"C:\\Users\\FARZIN\\anaconda3\\envs\\lip_net\\lib\\site-packages\\keras\\engine\\functional.py\", line 667, in _run_internal_graph\n      outputs = node.layer(*args, **kwargs)\n    File \"C:\\Users\\FARZIN\\anaconda3\\envs\\lip_net\\lib\\site-packages\\keras\\utils\\traceback_utils.py\", line 65, in error_handler\n      return fn(*args, **kwargs)\n    File \"C:\\Users\\FARZIN\\anaconda3\\envs\\lip_net\\lib\\site-packages\\keras\\engine\\base_layer.py\", line 1097, in __call__\n      outputs = call_fn(inputs, *args, **kwargs)\n    File \"C:\\Users\\FARZIN\\anaconda3\\envs\\lip_net\\lib\\site-packages\\keras\\utils\\traceback_utils.py\", line 96, in error_handler\n      return fn(*args, **kwargs)\n    File \"C:\\Users\\FARZIN\\anaconda3\\envs\\lip_net\\lib\\site-packages\\keras\\layers\\pooling\\base_pooling3d.py\", line 88, in call\n      outputs = self.pool_function(\nNode: 'sequential/max_pooling3d_1/MaxPool3D'\n2 root error(s) found.\n  (0) RESOURCE_EXHAUSTED:  OOM when allocating tensor with shape[2,256,75,23,70] and type float on /job:localhost/replica:0/task:0/device:GPU:0 by allocator GPU_0_bfc\n\t [[{{node sequential/max_pooling3d_1/MaxPool3D}}]]\nHint: If you want to see a list of allocated tensors when OOM happens, add report_tensor_allocations_upon_oom to RunOptions for current allocation info. This isn't available when running in Eager mode.\n\n\t [[CTCLoss/ArithmeticOptimizer/ReorderCastLikeAndValuePreserving_int32_Squeeze_1/_72]]\nHint: If you want to see a list of allocated tensors when OOM happens, add report_tensor_allocations_upon_oom to RunOptions for current allocation info. This isn't available when running in Eager mode.\n\n  (1) RESOURCE_EXHAUSTED:  OOM when allocating tensor with shape[2,256,75,23,70] and type float on /job:localhost/replica:0/task:0/device:GPU:0 by allocator GPU_0_bfc\n\t [[{{node sequential/max_pooling3d_1/MaxPool3D}}]]\nHint: If you want to see a list of allocated tensors when OOM happens, add report_tensor_allocations_upon_oom to RunOptions for current allocation info. This isn't available when running in Eager mode.\n\n0 successful operations.\n0 derived errors ignored. [Op:__inference_train_function_30605]"
     ]
    }
   ],
   "source": [
    "model.fit(data, validation_data=test, epochs=100, batch_size=8, callbacks=[checkpoint_callback, schedule_callback, example_callback])"
   ]
  },
  {
   "cell_type": "markdown",
   "id": "34d0c0c8-fb73-485f-87d6-ec02e99e9c96",
   "metadata": {},
   "source": [
    "## Make a Prediction"
   ]
  },
  {
   "cell_type": "code",
   "execution_count": 62,
   "id": "82459c38-ba12-496a-9ecf-5f772b4af961",
   "metadata": {
    "tags": []
   },
   "outputs": [
    {
     "name": "stderr",
     "output_type": "stream",
     "text": [
      "Downloading...\n",
      "From (uriginal): https://drive.google.com/uc?id=1vWscXs4Vt0a_1IH1-ct2TCgXAZT-N3_Y\n",
      "From (redirected): https://drive.google.com/uc?id=1vWscXs4Vt0a_1IH1-ct2TCgXAZT-N3_Y&confirm=t&uuid=c1b0f2a5-7633-4da5-ac1c-e72b8fb196c2\n",
      "To: D:\\Machine learning\\Project\\Lip Reader\\checkpoints.zip\n",
      "100%|█████████████████████████████████████████████████████████████████████████████| 94.5M/94.5M [00:24<00:00, 3.78MB/s]\n"
     ]
    },
    {
     "data": {
      "text/plain": [
       "['models\\\\checkpoint.index',\n",
       " 'models\\\\__MACOSX/._checkpoint.index',\n",
       " 'models\\\\checkpoint.data-00000-of-00001',\n",
       " 'models\\\\__MACOSX/._checkpoint.data-00000-of-00001',\n",
       " 'models\\\\checkpoint',\n",
       " 'models\\\\__MACOSX/._checkpoint']"
      ]
     },
     "execution_count": 62,
     "metadata": {},
     "output_type": "execute_result"
    }
   ],
   "source": [
    "import gdown\n",
    "url = 'https://drive.google.com/uc?id=1vWscXs4Vt0a_1IH1-ct2TCgXAZT-N3_Y'\n",
    "output = 'checkpoints.zip'\n",
    "gdown.download(url, output, quiet=False)\n",
    "gdown.extractall('checkpoints.zip', 'models')"
   ]
  },
  {
   "cell_type": "code",
   "execution_count": 132,
   "id": "f338294a-99c5-49b4-8dd1-fbb5e7ffb9e0",
   "metadata": {
    "tags": []
   },
   "outputs": [
    {
     "data": {
      "text/plain": [
       "<tensorflow.python.checkpoint.checkpoint.CheckpointLoadStatus at 0x1f0783467f0>"
      ]
     },
     "execution_count": 132,
     "metadata": {},
     "output_type": "execute_result"
    }
   ],
   "source": [
    "model.load_weights('models/checkpoint')"
   ]
  },
  {
   "cell_type": "code",
   "execution_count": 134,
   "id": "b296b6ce-6ad8-4997-b82b-3e7aaab7ef20",
   "metadata": {
    "tags": []
   },
   "outputs": [],
   "source": [
    "test_data = test.as_numpy_iterator()\n"
   ]
  },
  {
   "cell_type": "code",
   "execution_count": 135,
   "id": "f8911811-11ab-4e24-8ae3-4bf64f34b34e",
   "metadata": {
    "scrolled": true,
    "tags": []
   },
   "outputs": [
    {
     "name": "stdout",
     "output_type": "stream",
     "text": [
      "path .\\data\\s1\\brbg4p.mpg\n",
      "fasd data\\alignments\\s1\\brbg4p.align\n",
      "path .\\data\\s1\\sgac5a.mpg\n",
      "fasd data\\alignments\\s1\\sgac5a.align\n",
      "path .\\data\\s1\\sgwj7a.mpg\n",
      "fasd data\\alignments\\s1\\sgwj7a.align\n",
      "path .\\data\\s1\\pwixzn.mpg\n",
      "fasd data\\alignments\\s1\\pwixzn.align\n",
      "path .\\data\\s1\\sbaa5s.mpg\n",
      "fasd data\\alignments\\s1\\sbaa5s.align\n",
      "path .\\data\\s1\\sgac2n.mpg\n",
      "fasd data\\alignments\\s1\\sgac2n.align\n",
      "path .\\data\\s1\\swab6n.mpg\n",
      "fasd data\\alignments\\s1\\swab6n.align\n",
      "path .\\data\\s1\\pwij3s.mpg\n",
      "fasd data\\alignments\\s1\\pwij3s.align\n",
      "path .\\data\\s1\\lwwm2p.mpg\n",
      "fasd data\\alignments\\s1\\lwwm2p.align\n",
      "path .\\data\\s1\\lrby8n.mpg\n",
      "fasd data\\alignments\\s1\\lrby8n.align\n",
      "path .\\data\\s1\\lwie5s.mpg\n",
      "fasd data\\alignments\\s1\\lwie5s.align\n",
      "path .\\data\\s1\\pwip6n.mpg\n",
      "fasd data\\alignments\\s1\\pwip6n.align\n",
      "path .\\data\\s1\\bgbh7a.mpg\n",
      "fasd data\\alignments\\s1\\bgbh7a.align\n",
      "path .\\data\\s1\\brwg6n.mpg\n",
      "fasd data\\alignments\\s1\\brwg6n.align\n",
      "path .\\data\\s1\\bgbn8n.mpg\n",
      "fasd data\\alignments\\s1\\bgbn8n.align\n",
      "path .\\data\\s1\\priv7a.mpg\n",
      "fasd data\\alignments\\s1\\priv7a.align\n",
      "path .\\data\\s1\\prip2p.mpg\n",
      "fasd data\\alignments\\s1\\prip2p.align\n",
      "path .\\data\\s1\\sgwx3s.mpg\n",
      "fasd data\\alignments\\s1\\sgwx3s.align\n",
      "path .\\data\\s1\\pgid6p.mpg\n",
      "fasd data\\alignments\\s1\\pgid6p.align\n",
      "path .\\data\\s1\\bgaa9a.mpg\n",
      "fasd data\\alignments\\s1\\bgaa9a.align\n",
      "path .\\data\\s1\\pwip7s.mpg\n",
      "fasd data\\alignments\\s1\\pwip7s.align\n",
      "path .\\data\\s1\\bbie8n.mpg\n",
      "fasd data\\alignments\\s1\\bbie8n.align\n",
      "path .\\data\\s1\\swbc3a.mpg\n",
      "fasd data\\alignments\\s1\\swbc3a.align\n",
      "path .\\data\\s1\\lrbe6n.mpg\n",
      "fasd data\\alignments\\s1\\lrbe6n.align\n",
      "path .\\data\\s1\\bbizzn.mpg\n",
      "fasd data\\alignments\\s1\\bbizzn.align\n",
      "path .\\data\\s1\\sbbh4p.mpg\n",
      "fasd data\\alignments\\s1\\sbbh4p.align\n",
      "path .\\data\\s1\\sbat6n.mpg\n",
      "fasd data\\alignments\\s1\\sbat6n.align\n",
      "path .\\data\\s1\\prwd5s.mpg\n",
      "fasd data\\alignments\\s1\\prwd5s.align\n",
      "path .\\data\\s1\\lriy1s.mpg\n",
      "fasd data\\alignments\\s1\\lriy1s.align\n",
      "path .\\data\\s1\\sbwb5a.mpg\n",
      "fasd data\\alignments\\s1\\sbwb5a.align\n",
      "path .\\data\\s1\\lbaq4n.mpg\n",
      "fasd data\\alignments\\s1\\lbaq4n.align\n",
      "path .\\data\\s1\\swau8n.mpg\n",
      "fasd data\\alignments\\s1\\swau8n.align\n",
      "path .\\data\\s1\\srbb7a.mpg\n",
      "fasd data\\alignments\\s1\\srbb7a.align\n",
      "path .\\data\\s1\\brwt6p.mpg\n",
      "fasd data\\alignments\\s1\\brwt6p.align\n",
      "path .\\data\\s1\\srbo3s.mpg\n",
      "fasd data\\alignments\\s1\\srbo3s.align\n",
      "path .\\data\\s1\\prwd6p.mpg\n",
      "fasd data\\alignments\\s1\\prwd6p.align\n",
      "path .\\data\\s1\\lwae8n.mpg\n",
      "fasd data\\alignments\\s1\\lwae8n.align\n",
      "path .\\data\\s1\\bwim6p.mpg\n",
      "fasd data\\alignments\\s1\\bwim6p.align\n",
      "path .\\data\\s1\\swiozn.mpg\n",
      "fasd data\\alignments\\s1\\swiozn.align\n",
      "path .\\data\\s1\\srbo2n.mpg\n",
      "fasd data\\alignments\\s1\\srbo2n.align\n",
      "path .\\data\\s1\\sbah1a.mpg\n",
      "fasd data\\alignments\\s1\\sbah1a.align\n",
      "path .\\data\\s1\\lwiy8p.mpg\n",
      "fasd data\\alignments\\s1\\lwiy8p.align\n",
      "path .\\data\\s1\\bbwg3a.mpg\n",
      "fasd data\\alignments\\s1\\bbwg3a.align\n",
      "path .\\data\\s1\\briz6n.mpg\n",
      "fasd data\\alignments\\s1\\briz6n.align\n",
      "path .\\data\\s1\\swbczn.mpg\n",
      "fasd data\\alignments\\s1\\swbczn.align\n",
      "path .\\data\\s1\\sbwu5s.mpg\n",
      "fasd data\\alignments\\s1\\sbwu5s.align\n",
      "path .\\data\\s1\\brbm9a.mpg\n",
      "fasd data\\alignments\\s1\\brbm9a.align\n",
      "path .\\data\\s1\\bgig7s.mpg\n",
      "fasd data\\alignments\\s1\\bgig7s.align\n",
      "path .\\data\\s1\\lrae3s.mpg\n",
      "fasd data\\alignments\\s1\\lrae3s.align\n",
      "path .\\data\\s1\\bbif1a.mpg\n",
      "fasd data\\alignments\\s1\\bbif1a.align\n",
      "path .\\data\\s1\\pbai6p.mpg\n",
      "fasd data\\alignments\\s1\\pbai6p.align\n",
      "path .\\data\\s1\\bgbn9s.mpg\n",
      "fasd data\\alignments\\s1\\bgbn9s.align\n",
      "path .\\data\\s1\\bgia2n.mpg\n",
      "fasd data\\alignments\\s1\\bgia2n.align\n",
      "path .\\data\\s1\\lray6p.mpg\n",
      "fasd data\\alignments\\s1\\lray6p.align\n",
      "path .\\data\\s1\\lwaz2p.mpg\n",
      "fasd data\\alignments\\s1\\lwaz2p.align\n",
      "path .\\data\\s1\\lriy2p.mpg\n",
      "fasd data\\alignments\\s1\\lriy2p.align\n",
      "path .\\data\\s1\\lbbe3a.mpg\n",
      "fasd data\\alignments\\s1\\lbbe3a.align\n",
      "path .\\data\\s1\\pgid5s.mpg\n",
      "fasd data\\alignments\\s1\\pgid5s.align\n",
      "path .\\data\\s1\\lrik2n.mpg\n",
      "fasd data\\alignments\\s1\\lrik2n.align\n",
      "path .\\data\\s1\\bgit6p.mpg\n",
      "fasd data\\alignments\\s1\\bgit6p.align\n",
      "path .\\data\\s1\\lgwg5a.mpg\n",
      "fasd data\\alignments\\s1\\lgwg5a.align\n",
      "path .\\data\\s1\\lwir3s.mpg\n",
      "fasd data\\alignments\\s1\\lwir3s.align\n",
      "path .\\data\\s1\\lrar1s.mpg\n",
      "fasd data\\alignments\\s1\\lrar1s.align\n",
      "path .\\data\\s1\\pwbd9a.mpg\n",
      "fasd data\\alignments\\s1\\pwbd9a.align\n",
      "path .\\data\\s1\\pgayzn.mpg\n",
      "fasd data\\alignments\\s1\\pgayzn.align\n",
      "path .\\data\\s1\\pwix3a.mpg\n",
      "fasd data\\alignments\\s1\\pwix3a.align\n",
      "path .\\data\\s1\\bwaa1s.mpg\n",
      "fasd data\\alignments\\s1\\bwaa1s.align\n",
      "path .\\data\\s1\\lgif3a.mpg\n",
      "fasd data\\alignments\\s1\\lgif3a.align\n",
      "path .\\data\\s1\\bgbb3a.mpg\n",
      "fasd data\\alignments\\s1\\bgbb3a.align\n",
      "path .\\data\\s1\\pwbq6p.mpg\n",
      "fasd data\\alignments\\s1\\pwbq6p.align\n",
      "path .\\data\\s1\\lgbf8n.mpg\n",
      "fasd data\\alignments\\s1\\lgbf8n.align\n",
      "path .\\data\\s1\\sbim8n.mpg\n",
      "fasd data\\alignments\\s1\\sbim8n.align\n",
      "path .\\data\\s1\\sgio8p.mpg\n",
      "fasd data\\alignments\\s1\\sgio8p.align\n",
      "path .\\data\\s1\\srbb5s.mpg\n",
      "fasd data\\alignments\\s1\\srbb5s.align\n",
      "path .\\data\\s1\\pgaq8p.mpg\n",
      "fasd data\\alignments\\s1\\pgaq8p.align\n",
      "path .\\data\\s1\\lgwg4p.mpg\n",
      "fasd data\\alignments\\s1\\lgwg4p.align\n",
      "path .\\data\\s1\\bwwh3s.mpg\n",
      "fasd data\\alignments\\s1\\bwwh3s.align\n",
      "path .\\data\\s1\\sbwh7s.mpg\n",
      "fasd data\\alignments\\s1\\sbwh7s.align\n",
      "path .\\data\\s1\\pgiq4p.mpg\n",
      "fasd data\\alignments\\s1\\pgiq4p.align\n",
      "path .\\data\\s1\\sbiazn.mpg\n",
      "fasd data\\alignments\\s1\\sbiazn.align\n",
      "path .\\data\\s1\\swwi8n.mpg\n",
      "fasd data\\alignments\\s1\\swwi8n.align\n",
      "path .\\data\\s1\\pgik1a.mpg\n",
      "fasd data\\alignments\\s1\\pgik1a.align\n",
      "path .\\data\\s1\\pwwk4n.mpg\n",
      "fasd data\\alignments\\s1\\pwwk4n.align\n",
      "path .\\data\\s1\\sgii3s.mpg\n",
      "fasd data\\alignments\\s1\\sgii3s.align\n",
      "path .\\data\\s1\\sria6n.mpg\n",
      "fasd data\\alignments\\s1\\sria6n.align\n",
      "path .\\data\\s1\\brwn3a.mpg\n",
      "fasd data\\alignments\\s1\\brwn3a.align\n",
      "path .\\data\\s1\\swio3a.mpg\n",
      "fasd data\\alignments\\s1\\swio3a.align\n",
      "path .\\data\\s1\\sgbv9s.mpg\n",
      "fasd data\\alignments\\s1\\sgbv9s.align\n",
      "path .\\data\\s1\\prwd4n.mpg\n",
      "fasd data\\alignments\\s1\\prwd4n.align\n",
      "path .\\data\\s1\\pbwxzn.mpg\n",
      "fasd data\\alignments\\s1\\pbwxzn.align\n",
      "path .\\data\\s1\\lriq6n.mpg\n",
      "fasd data\\alignments\\s1\\lriq6n.align\n",
      "path .\\data\\s1\\lbbk6p.mpg\n",
      "fasd data\\alignments\\s1\\lbbk6p.align\n",
      "path .\\data\\s1\\lrbe7s.mpg\n",
      "fasd data\\alignments\\s1\\lrbe7s.align\n",
      "path .\\data\\s1\\swiu5s.mpg\n",
      "fasd data\\alignments\\s1\\swiu5s.align\n",
      "path .\\data\\s1\\pbao8n.mpg\n",
      "fasd data\\alignments\\s1\\pbao8n.align\n",
      "path .\\data\\s1\\sgbj3a.mpg\n",
      "fasd data\\alignments\\s1\\sgbj3a.align\n",
      "path .\\data\\s1\\bbiz2p.mpg\n",
      "fasd data\\alignments\\s1\\bbiz2p.align\n",
      "path .\\data\\s1\\pbbc6p.mpg\n",
      "fasd data\\alignments\\s1\\pbbc6p.align\n",
      "path .\\data\\s1\\bgan7a.mpg\n",
      "fasd data\\alignments\\s1\\bgan7a.align\n",
      "path .\\data\\s1\\bbaf5a.mpg\n",
      "fasd data\\alignments\\s1\\bbaf5a.align\n",
      "path .\\data\\s1\\lbad8p.mpg\n",
      "fasd data\\alignments\\s1\\lbad8p.align\n",
      "path .\\data\\s1\\bbbz8n.mpg\n",
      "fasd data\\alignments\\s1\\bbbz8n.align\n",
      "path .\\data\\s1\\srbb6p.mpg\n",
      "fasd data\\alignments\\s1\\srbb6p.align\n",
      "path .\\data\\s1\\lwwf6n.mpg\n",
      "fasd data\\alignments\\s1\\lwwf6n.align\n",
      "path .\\data\\s1\\srit8n.mpg\n",
      "fasd data\\alignments\\s1\\srit8n.align\n",
      "path .\\data\\s1\\pgix8p.mpg\n",
      "fasd data\\alignments\\s1\\pgix8p.align\n",
      "path .\\data\\s1\\pbwj4p.mpg\n",
      "fasd data\\alignments\\s1\\pbwj4p.align\n",
      "path .\\data\\s1\\bwwa9s.mpg\n",
      "fasd data\\alignments\\s1\\bwwa9s.align\n",
      "path .\\data\\s1\\sgio7s.mpg\n",
      "fasd data\\alignments\\s1\\sgio7s.align\n",
      "path .\\data\\s1\\lgiz2n.mpg\n",
      "fasd data\\alignments\\s1\\lgiz2n.align\n",
      "path .\\data\\s1\\pbwj5a.mpg\n",
      "fasd data\\alignments\\s1\\pbwj5a.align\n",
      "path .\\data\\s1\\bwam8n.mpg\n",
      "fasd data\\alignments\\s1\\bwam8n.align\n",
      "path .\\data\\s1\\pwbk2p.mpg\n",
      "fasd data\\alignments\\s1\\pwbk2p.align\n",
      "path .\\data\\s1\\sria8p.mpg\n",
      "fasd data\\alignments\\s1\\sria8p.align\n",
      "path .\\data\\s1\\swib5a.mpg\n",
      "fasd data\\alignments\\s1\\swib5a.align\n",
      "path .\\data\\s1\\sbbn8p.mpg\n",
      "fasd data\\alignments\\s1\\sbbn8p.align\n",
      "path .\\data\\s1\\brwa2n.mpg\n",
      "fasd data\\alignments\\s1\\brwa2n.align\n",
      "path .\\data\\s1\\bgahzn.mpg\n",
      "fasd data\\alignments\\s1\\bgahzn.align\n",
      "path .\\data\\s1\\sbig5s.mpg\n",
      "fasd data\\alignments\\s1\\sbig5s.align\n",
      "path .\\data\\s1\\pgay2p.mpg\n",
      "fasd data\\alignments\\s1\\pgay2p.align\n",
      "path .\\data\\s1\\bris3s.mpg\n",
      "fasd data\\alignments\\s1\\bris3s.align\n",
      "path .\\data\\s1\\pwwy2n.mpg\n",
      "fasd data\\alignments\\s1\\pwwy2n.align\n",
      "path .\\data\\s1\\prac9a.mpg\n",
      "fasd data\\alignments\\s1\\prac9a.align\n",
      "path .\\data\\s1\\pgaezp.mpg\n",
      "fasd data\\alignments\\s1\\pgaezp.align\n",
      "path .\\data\\s1\\pwwq8n.mpg\n",
      "fasd data\\alignments\\s1\\pwwq8n.align\n",
      "path .\\data\\s1\\sbbn9a.mpg\n",
      "fasd data\\alignments\\s1\\sbbn9a.align\n",
      "path .\\data\\s1\\bbir6n.mpg\n",
      "fasd data\\alignments\\s1\\bbir6n.align\n",
      "path .\\data\\s1\\pwad5a.mpg\n",
      "fasd data\\alignments\\s1\\pwad5a.align\n",
      "path .\\data\\s1\\pgwr5s.mpg\n",
      "fasd data\\alignments\\s1\\pgwr5s.align\n",
      "path .\\data\\s1\\brwg8p.mpg\n",
      "fasd data\\alignments\\s1\\brwg8p.align\n",
      "path .\\data\\s1\\sbwb4p.mpg\n",
      "fasd data\\alignments\\s1\\sbwb4p.align\n",
      "path .\\data\\s1\\priv6p.mpg\n",
      "fasd data\\alignments\\s1\\priv6p.align\n",
      "path .\\data\\s1\\bgwo5a.mpg\n",
      "fasd data\\alignments\\s1\\bgwo5a.align\n",
      "path .\\data\\s1\\lbid2n.mpg\n",
      "fasd data\\alignments\\s1\\lbid2n.align\n",
      "path .\\data\\s1\\swwv9a.mpg\n",
      "fasd data\\alignments\\s1\\swwv9a.align\n",
      "path .\\data\\s1\\lwaf1a.mpg\n",
      "fasd data\\alignments\\s1\\lwaf1a.align\n",
      "path .\\data\\s1\\lwbs2p.mpg\n",
      "fasd data\\alignments\\s1\\lwbs2p.align\n",
      "path .\\data\\s1\\brwg7s.mpg\n",
      "fasd data\\alignments\\s1\\brwg7s.align\n",
      "path .\\data\\s1\\sgav4n.mpg\n",
      "fasd data\\alignments\\s1\\sgav4n.align\n",
      "path .\\data\\s1\\priv5s.mpg\n",
      "fasd data\\alignments\\s1\\priv5s.align\n",
      "path .\\data\\s1\\pbai7a.mpg\n",
      "fasd data\\alignments\\s1\\pbai7a.align\n",
      "path .\\data\\s1\\lgwm9a.mpg\n",
      "fasd data\\alignments\\s1\\lgwm9a.align\n",
      "path .\\data\\s1\\sbbbzp.mpg\n",
      "fasd data\\alignments\\s1\\sbbbzp.align\n",
      "path .\\data\\s1\\pbbc7a.mpg\n",
      "fasd data\\alignments\\s1\\pbbc7a.align\n",
      "path .\\data\\s1\\bbwm5s.mpg\n",
      "fasd data\\alignments\\s1\\bbwm5s.align\n",
      "path .\\data\\s1\\bwbh1a.mpg\n",
      "fasd data\\alignments\\s1\\bwbh1a.align\n",
      "path .\\data\\s1\\pwix1s.mpg\n",
      "fasd data\\alignments\\s1\\pwix1s.align\n",
      "path .\\data\\s1\\sgwx2n.mpg\n",
      "fasd data\\alignments\\s1\\sgwx2n.align\n",
      "path .\\data\\s1\\pwbx8n.mpg\n",
      "fasd data\\alignments\\s1\\pwbx8n.align\n",
      "path .\\data\\s1\\lgaz8p.mpg\n",
      "fasd data\\alignments\\s1\\lgaz8p.align\n",
      "path .\\data\\s1\\bwwa8n.mpg\n",
      "fasd data\\alignments\\s1\\bwwa8n.align\n",
      "path .\\data\\s1\\bwba5s.mpg\n",
      "fasd data\\alignments\\s1\\bwba5s.align\n",
      "path .\\data\\s1\\pbib8p.mpg\n",
      "fasd data\\alignments\\s1\\pbib8p.align\n",
      "path .\\data\\s1\\pwid1a.mpg\n",
      "fasd data\\alignments\\s1\\pwid1a.align\n",
      "path .\\data\\s1\\bwbn2n.mpg\n",
      "fasd data\\alignments\\s1\\bwbn2n.align\n",
      "path .\\data\\s1\\bwwn8p.mpg\n",
      "fasd data\\alignments\\s1\\bwwn8p.align\n",
      "path .\\data\\s1\\bgin3a.mpg\n",
      "fasd data\\alignments\\s1\\bgin3a.align\n",
      "path .\\data\\s1\\prap4n.mpg\n",
      "fasd data\\alignments\\s1\\prap4n.align\n",
      "path .\\data\\s1\\lgil4n.mpg\n",
      "fasd data\\alignments\\s1\\lgil4n.align\n",
      "path .\\data\\s1\\swbv4p.mpg\n",
      "fasd data\\alignments\\s1\\swbv4p.align\n",
      "path .\\data\\s1\\lbiq2p.mpg\n",
      "fasd data\\alignments\\s1\\lbiq2p.align\n",
      "path .\\data\\s1\\sbwu4n.mpg\n",
      "fasd data\\alignments\\s1\\sbwu4n.align\n",
      "path .\\data\\s1\\sbbh2n.mpg\n",
      "fasd data\\alignments\\s1\\sbbh2n.align\n",
      "path .\\data\\s1\\pbao9s.mpg\n",
      "fasd data\\alignments\\s1\\pbao9s.align\n",
      "path .\\data\\s1\\pgwy8n.mpg\n",
      "fasd data\\alignments\\s1\\pgwy8n.align\n",
      "path .\\data\\s1\\srbh8n.mpg\n",
      "fasd data\\alignments\\s1\\srbh8n.align\n",
      "path .\\data\\s1\\lbad7s.mpg\n",
      "fasd data\\alignments\\s1\\lbad7s.align\n",
      "path .\\data\\s1\\lrwz5a.mpg\n",
      "fasd data\\alignments\\s1\\lrwz5a.align\n",
      "path .\\data\\s1\\lrbl3a.mpg\n",
      "fasd data\\alignments\\s1\\lrbl3a.align\n",
      "path .\\data\\s1\\swwp2n.mpg\n",
      "fasd data\\alignments\\s1\\swwp2n.align\n",
      "path .\\data\\s1\\lgwtzn.mpg\n",
      "fasd data\\alignments\\s1\\lgwtzn.align\n",
      "path .\\data\\s1\\brwa4p.mpg\n",
      "fasd data\\alignments\\s1\\brwa4p.align\n",
      "path .\\data\\s1\\sbbn6n.mpg\n",
      "fasd data\\alignments\\s1\\sbbn6n.align\n",
      "path .\\data\\s1\\bril8n.mpg\n",
      "fasd data\\alignments\\s1\\bril8n.align\n",
      "path .\\data\\s1\\brag1a.mpg\n",
      "fasd data\\alignments\\s1\\brag1a.align\n",
      "path .\\data\\s1\\pgbe4p.mpg\n",
      "fasd data\\alignments\\s1\\pgbe4p.align\n",
      "path .\\data\\s1\\prwx9a.mpg\n",
      "fasd data\\alignments\\s1\\prwx9a.align\n",
      "path .\\data\\s1\\brif7a.mpg\n",
      "fasd data\\alignments\\s1\\brif7a.align\n",
      "path .\\data\\s1\\bgwu8p.mpg\n",
      "fasd data\\alignments\\s1\\bgwu8p.align\n",
      "path .\\data\\s1\\swiu7a.mpg\n",
      "fasd data\\alignments\\s1\\swiu7a.align\n",
      "path .\\data\\s1\\lwwz9s.mpg\n",
      "fasd data\\alignments\\s1\\lwwz9s.align\n",
      "path .\\data\\s1\\bwwu1s.mpg\n",
      "fasd data\\alignments\\s1\\bwwu1s.align\n",
      "path .\\data\\s1\\swbc2p.mpg\n",
      "fasd data\\alignments\\s1\\swbc2p.align\n",
      "path .\\data\\s1\\pbapzp.mpg\n",
      "fasd data\\alignments\\s1\\pbapzp.align\n",
      "path .\\data\\s1\\swbc1s.mpg\n",
      "fasd data\\alignments\\s1\\swbc1s.align\n",
      "path .\\data\\s1\\lgas5a.mpg\n",
      "fasd data\\alignments\\s1\\lgas5a.align\n",
      "path .\\data\\s1\\lgaf6p.mpg\n",
      "fasd data\\alignments\\s1\\lgaf6p.align\n",
      "path .\\data\\s1\\sbbuzn.mpg\n",
      "fasd data\\alignments\\s1\\sbbuzn.align\n",
      "path .\\data\\s1\\pric2n.mpg\n",
      "fasd data\\alignments\\s1\\pric2n.align\n",
      "path .\\data\\s1\\sgac3s.mpg\n",
      "fasd data\\alignments\\s1\\sgac3s.align\n",
      "path .\\data\\s1\\lwbf2n.mpg\n",
      "fasd data\\alignments\\s1\\lwbf2n.align\n",
      "path .\\data\\s1\\brif4n.mpg\n",
      "fasd data\\alignments\\s1\\brif4n.align\n",
      "path .\\data\\s1\\lbbe1s.mpg\n",
      "fasd data\\alignments\\s1\\lbbe1s.align\n",
      "path .\\data\\s1\\srwc1a.mpg\n",
      "fasd data\\alignments\\s1\\srwc1a.align\n",
      "path .\\data\\s1\\prbd1s.mpg\n",
      "fasd data\\alignments\\s1\\prbd1s.align\n",
      "path .\\data\\s1\\prwq2n.mpg\n",
      "fasd data\\alignments\\s1\\prwq2n.align\n",
      "path .\\data\\s1\\pgiq3s.mpg\n",
      "fasd data\\alignments\\s1\\pgiq3s.align\n",
      "path .\\data\\s1\\lwwz8n.mpg\n",
      "fasd data\\alignments\\s1\\lwwz8n.align\n",
      "path .\\data\\s1\\sbbn7s.mpg\n",
      "fasd data\\alignments\\s1\\sbbn7s.align\n",
      "path .\\data\\s1\\lwwm1s.mpg\n",
      "fasd data\\alignments\\s1\\lwwm1s.align\n",
      "path .\\data\\s1\\pwad4p.mpg\n",
      "fasd data\\alignments\\s1\\pwad4p.align\n",
      "path .\\data\\s1\\sban3s.mpg\n",
      "fasd data\\alignments\\s1\\sban3s.align\n",
      "path .\\data\\s1\\lrik5a.mpg\n",
      "fasd data\\alignments\\s1\\lrik5a.align\n",
      "path .\\data\\s1\\sgiv2p.mpg\n",
      "fasd data\\alignments\\s1\\sgiv2p.align\n",
      "path .\\data\\s1\\sgii4p.mpg\n",
      "fasd data\\alignments\\s1\\sgii4p.align\n",
      "path .\\data\\s1\\bgbbzn.mpg\n",
      "fasd data\\alignments\\s1\\bgbbzn.align\n",
      "path .\\data\\s1\\srbh9s.mpg\n",
      "fasd data\\alignments\\s1\\srbh9s.align\n",
      "path .\\data\\s1\\pbbi8n.mpg\n",
      "fasd data\\alignments\\s1\\pbbi8n.align\n",
      "path .\\data\\s1\\sbinzp.mpg\n",
      "fasd data\\alignments\\s1\\sbinzp.align\n",
      "path .\\data\\s1\\sgbc6n.mpg\n",
      "fasd data\\alignments\\s1\\sgbc6n.align\n",
      "path .\\data\\s1\\lwaz3a.mpg\n",
      "fasd data\\alignments\\s1\\lwaz3a.align\n",
      "path .\\data\\s1\\swaizn.mpg\n",
      "fasd data\\alignments\\s1\\swaizn.align\n",
      "path .\\data\\s1\\pwad2n.mpg\n",
      "fasd data\\alignments\\s1\\pwad2n.align\n",
      "path .\\data\\s1\\bbaf3s.mpg\n",
      "fasd data\\alignments\\s1\\bbaf3s.align\n",
      "path .\\data\\s1\\pwwy3s.mpg\n",
      "fasd data\\alignments\\s1\\pwwy3s.align\n",
      "path .\\data\\s1\\sgwp8n.mpg\n",
      "fasd data\\alignments\\s1\\sgwp8n.align\n",
      "path .\\data\\s1\\bwbn3s.mpg\n",
      "fasd data\\alignments\\s1\\bwbn3s.align\n",
      "path .\\data\\s1\\lwie6p.mpg\n",
      "fasd data\\alignments\\s1\\lwie6p.align\n",
      "path .\\data\\s1\\srwo7s.mpg\n",
      "fasd data\\alignments\\s1\\srwo7s.align\n",
      "path .\\data\\s1\\bwam9s.mpg\n",
      "fasd data\\alignments\\s1\\bwam9s.align\n",
      "path .\\data\\s1\\bgin2p.mpg\n",
      "fasd data\\alignments\\s1\\bgin2p.align\n",
      "path .\\data\\s1\\bwag6p.mpg\n",
      "fasd data\\alignments\\s1\\bwag6p.align\n",
      "path .\\data\\s1\\lwbl7s.mpg\n",
      "fasd data\\alignments\\s1\\lwbl7s.align\n",
      "path .\\data\\s1\\lrid8n.mpg\n",
      "fasd data\\alignments\\s1\\lrid8n.align\n",
      "path .\\data\\s1\\bbaz7a.mpg\n",
      "fasd data\\alignments\\s1\\bbaz7a.align\n",
      "path .\\data\\s1\\lwar8p.mpg\n",
      "fasd data\\alignments\\s1\\lwar8p.align\n",
      "path .\\data\\s1\\prbp8n.mpg\n",
      "fasd data\\alignments\\s1\\prbp8n.align\n",
      "path .\\data\\s1\\lgbg1a.mpg\n",
      "fasd data\\alignments\\s1\\lgbg1a.align\n",
      "path .\\data\\s1\\bwigzn.mpg\n",
      "fasd data\\alignments\\s1\\bwigzn.align\n",
      "path .\\data\\s1\\sgai7s.mpg\n",
      "fasd data\\alignments\\s1\\sgai7s.align\n",
      "path .\\data\\s1\\bwwh4p.mpg\n",
      "fasd data\\alignments\\s1\\bwwh4p.align\n",
      "path .\\data\\s1\\bwat2n.mpg\n",
      "fasd data\\alignments\\s1\\bwat2n.align\n",
      "path .\\data\\s1\\lgiz5a.mpg\n",
      "fasd data\\alignments\\s1\\lgiz5a.align\n",
      "path .\\data\\s1\\swav1a.mpg\n",
      "fasd data\\alignments\\s1\\swav1a.align\n",
      "path .\\data\\s1\\sgiczp.mpg\n",
      "fasd data\\alignments\\s1\\sgiczp.align\n",
      "path .\\data\\s1\\lgaf5s.mpg\n",
      "fasd data\\alignments\\s1\\lgaf5s.align\n",
      "path .\\data\\s1\\bbbs7a.mpg\n",
      "fasd data\\alignments\\s1\\bbbs7a.align\n",
      "path .\\data\\s1\\lwal4p.mpg\n",
      "fasd data\\alignments\\s1\\lwal4p.align\n",
      "path .\\data\\s1\\pgad9s.mpg\n",
      "fasd data\\alignments\\s1\\pgad9s.align\n",
      "path .\\data\\s1\\lgal9s.mpg\n",
      "fasd data\\alignments\\s1\\lgal9s.align\n",
      "path .\\data\\s1\\lbayzp.mpg\n",
      "fasd data\\alignments\\s1\\lbayzp.align\n",
      "path .\\data\\s1\\bgaa8p.mpg\n",
      "fasd data\\alignments\\s1\\bgaa8p.align\n",
      "path .\\data\\s1\\pwaq2p.mpg\n",
      "fasd data\\alignments\\s1\\pwaq2p.align\n",
      "path .\\data\\s1\\pwax5s.mpg\n",
      "fasd data\\alignments\\s1\\pwax5s.align\n",
      "path .\\data\\s1\\lwar7s.mpg\n",
      "fasd data\\alignments\\s1\\lwar7s.align\n",
      "path .\\data\\s1\\lbbrzp.mpg\n",
      "fasd data\\alignments\\s1\\lbbrzp.align\n",
      "path .\\data\\s1\\bwig1s.mpg\n",
      "fasd data\\alignments\\s1\\bwig1s.align\n",
      "path .\\data\\s1\\bbir8p.mpg\n",
      "fasd data\\alignments\\s1\\bbir8p.align\n",
      "path .\\data\\s1\\bwan1a.mpg\n",
      "fasd data\\alignments\\s1\\bwan1a.align\n",
      "path .\\data\\s1\\bgia5a.mpg\n",
      "fasd data\\alignments\\s1\\bgia5a.align\n",
      "path .\\data\\s1\\swai1s.mpg\n",
      "fasd data\\alignments\\s1\\swai1s.align\n",
      "path .\\data\\s1\\srab2p.mpg\n",
      "fasd data\\alignments\\s1\\srab2p.align\n",
      "path .\\data\\s1\\pgid4n.mpg\n",
      "fasd data\\alignments\\s1\\pgid4n.align\n",
      "path .\\data\\s1\\lgwm7s.mpg\n",
      "fasd data\\alignments\\s1\\lgwm7s.align\n",
      "path .\\data\\s1\\srin5s.mpg\n",
      "fasd data\\alignments\\s1\\srin5s.align\n",
      "path .\\data\\s1\\bwbg8n.mpg\n",
      "fasd data\\alignments\\s1\\bwbg8n.align\n",
      "path .\\data\\s1\\lgbf9s.mpg\n",
      "fasd data\\alignments\\s1\\lgbf9s.align\n",
      "path .\\data\\s1\\bgwi1a.mpg\n",
      "fasd data\\alignments\\s1\\bgwi1a.align\n",
      "path .\\data\\s1\\pgwy9s.mpg\n",
      "fasd data\\alignments\\s1\\pgwy9s.align\n",
      "path .\\data\\s1\\bwbhzp.mpg\n",
      "fasd data\\alignments\\s1\\bwbhzp.align\n",
      "path .\\data\\s1\\bbal7s.mpg\n",
      "fasd data\\alignments\\s1\\bbal7s.align\n",
      "path .\\data\\s1\\lbwe5s.mpg\n",
      "fasd data\\alignments\\s1\\lbwe5s.align\n",
      "path .\\data\\s1\\prap7a.mpg\n",
      "fasd data\\alignments\\s1\\prap7a.align\n",
      "path .\\data\\s1\\sriuzp.mpg\n",
      "fasd data\\alignments\\s1\\sriuzp.align\n",
      "path .\\data\\s1\\lwir2n.mpg\n",
      "fasd data\\alignments\\s1\\lwir2n.align\n",
      "path .\\data\\s1\\pwidzp.mpg\n",
      "fasd data\\alignments\\s1\\pwidzp.align\n",
      "path .\\data\\s1\\lbwy8p.mpg\n",
      "fasd data\\alignments\\s1\\lbwy8p.align\n",
      "path .\\data\\s1\\bwaa2p.mpg\n",
      "fasd data\\alignments\\s1\\bwaa2p.align\n",
      "path .\\data\\s1\\pbio4n.mpg\n",
      "fasd data\\alignments\\s1\\pbio4n.align\n",
      "path .\\data\\s1\\sbwu7a.mpg\n",
      "fasd data\\alignments\\s1\\sbwu7a.align\n",
      "path .\\data\\s1\\lbwr3s.mpg\n",
      "fasd data\\alignments\\s1\\lbwr3s.align\n",
      "path .\\data\\s1\\swwj1a.mpg\n",
      "fasd data\\alignments\\s1\\swwj1a.align\n",
      "path .\\data\\s1\\pgbe5a.mpg\n",
      "fasd data\\alignments\\s1\\pgbe5a.align\n",
      "path .\\data\\s1\\brbm8p.mpg\n",
      "fasd data\\alignments\\s1\\brbm8p.align\n",
      "path .\\data\\s1\\bgwb5s.mpg\n",
      "fasd data\\alignments\\s1\\bgwb5s.align\n",
      "path .\\data\\s1\\lriq7s.mpg\n",
      "fasd data\\alignments\\s1\\lriq7s.align\n",
      "path .\\data\\s1\\srin4n.mpg\n",
      "fasd data\\alignments\\s1\\srin4n.align\n",
      "path .\\data\\s1\\praj3a.mpg\n",
      "fasd data\\alignments\\s1\\praj3a.align\n",
      "path .\\data\\s1\\brwn2p.mpg\n",
      "fasd data\\alignments\\s1\\brwn2p.align\n",
      "path .\\data\\s1\\bwag5s.mpg\n",
      "fasd data\\alignments\\s1\\bwag5s.align\n",
      "path .\\data\\s1\\lriy3a.mpg\n",
      "fasd data\\alignments\\s1\\lriy3a.align\n",
      "path .\\data\\s1\\prwkzp.mpg\n",
      "fasd data\\alignments\\s1\\prwkzp.align\n",
      "path .\\data\\s1\\lwar6n.mpg\n",
      "fasd data\\alignments\\s1\\lwar6n.align\n",
      "path .\\data\\s1\\lbak3a.mpg\n",
      "fasd data\\alignments\\s1\\lbak3a.align\n",
      "path .\\data\\s1\\swao6p.mpg\n",
      "fasd data\\alignments\\s1\\swao6p.align\n",
      "path .\\data\\s1\\pwbd7s.mpg\n",
      "fasd data\\alignments\\s1\\pwbd7s.align\n",
      "path .\\data\\s1\\sban4p.mpg\n",
      "fasd data\\alignments\\s1\\sban4p.align\n",
      "path .\\data\\s1\\srau2n.mpg\n",
      "fasd data\\alignments\\s1\\srau2n.align\n",
      "path .\\data\\s1\\lwbs3a.mpg\n",
      "fasd data\\alignments\\s1\\lwbs3a.align\n",
      "path .\\data\\s1\\lbij9a.mpg\n",
      "fasd data\\alignments\\s1\\lbij9a.align\n",
      "path .\\data\\s1\\bbil5a.mpg\n",
      "fasd data\\alignments\\s1\\bbil5a.align\n",
      "path .\\data\\s1\\bgig8p.mpg\n",
      "fasd data\\alignments\\s1\\bgig8p.align\n",
      "path .\\data\\s1\\srbu9a.mpg\n",
      "fasd data\\alignments\\s1\\srbu9a.align\n",
      "path .\\data\\s1\\lwwf8p.mpg\n",
      "fasd data\\alignments\\s1\\lwwf8p.align\n",
      "path .\\data\\s1\\pwbk3a.mpg\n",
      "fasd data\\alignments\\s1\\pwbk3a.align\n",
      "path .\\data\\s1\\pbbi9s.mpg\n",
      "fasd data\\alignments\\s1\\pbbi9s.align\n",
      "path .\\data\\s1\\lwbs1s.mpg\n",
      "fasd data\\alignments\\s1\\lwbs1s.align\n",
      "path .\\data\\s1\\lgil6p.mpg\n",
      "fasd data\\alignments\\s1\\lgil6p.align\n",
      "path .\\data\\s1\\lgal8n.mpg\n",
      "fasd data\\alignments\\s1\\lgal8n.align\n",
      "path .\\data\\s1\\pbbv9a.mpg\n",
      "fasd data\\alignments\\s1\\pbbv9a.align\n",
      "path .\\data\\s1\\bgbo1a.mpg\n",
      "fasd data\\alignments\\s1\\bgbo1a.align\n",
      "path .\\data\\s1\\bgwb7a.mpg\n",
      "fasd data\\alignments\\s1\\bgwb7a.align\n",
      "path .\\data\\s1\\sbwh8p.mpg\n",
      "fasd data\\alignments\\s1\\sbwh8p.align\n",
      "path .\\data\\s1\\lwwf7s.mpg\n",
      "fasd data\\alignments\\s1\\lwwf7s.align\n",
      "path .\\data\\s1\\bbal8p.mpg\n",
      "fasd data\\alignments\\s1\\bbal8p.align\n",
      "path .\\data\\s1\\lgir9s.mpg\n",
      "fasd data\\alignments\\s1\\lgir9s.align\n",
      "path .\\data\\s1\\bwwh2n.mpg\n",
      "fasd data\\alignments\\s1\\bwwh2n.align\n",
      "path .\\data\\s1\\srwv2p.mpg\n",
      "fasd data\\alignments\\s1\\srwv2p.align\n",
      "path .\\data\\s1\\sgwp9s.mpg\n",
      "fasd data\\alignments\\s1\\sgwp9s.align\n",
      "path .\\data\\s1\\pgwzzp.mpg\n",
      "fasd data\\alignments\\s1\\pgwzzp.align\n",
      "path .\\data\\s1\\lbby3s.mpg\n",
      "fasd data\\alignments\\s1\\lbby3s.align\n",
      "path .\\data\\s1\\pgiq5a.mpg\n",
      "fasd data\\alignments\\s1\\pgiq5a.align\n",
      "path .\\data\\s1\\lgam1a.mpg\n",
      "fasd data\\alignments\\s1\\lgam1a.align\n",
      "path .\\data\\s1\\sgbp6p.mpg\n",
      "fasd data\\alignments\\s1\\sgbp6p.align\n",
      "path .\\data\\s1\\bgwo4p.mpg\n",
      "fasd data\\alignments\\s1\\bgwo4p.align\n",
      "path .\\data\\s1\\pgwe8p.mpg\n",
      "fasd data\\alignments\\s1\\pgwe8p.align\n",
      "path .\\data\\s1\\sriu1a.mpg\n",
      "fasd data\\alignments\\s1\\sriu1a.align\n",
      "path .\\data\\s1\\lgwt2p.mpg\n",
      "fasd data\\alignments\\s1\\lgwt2p.align\n",
      "path .\\data\\s1\\swbo8n.mpg\n",
      "fasd data\\alignments\\s1\\swbo8n.align\n",
      "path .\\data\\s1\\pwwe1s.mpg\n",
      "fasd data\\alignments\\s1\\pwwe1s.align\n",
      "path .\\data\\s1\\sgwx4p.mpg\n",
      "fasd data\\alignments\\s1\\sgwx4p.align\n",
      "path .\\data\\s1\\bwat4p.mpg\n",
      "fasd data\\alignments\\s1\\bwat4p.align\n",
      "path .\\data\\s1\\bbiz1s.mpg\n",
      "fasd data\\alignments\\s1\\bbiz1s.align\n",
      "path .\\data\\s1\\swib2n.mpg\n",
      "fasd data\\alignments\\s1\\swib2n.align\n",
      "path .\\data\\s1\\swbi5s.mpg\n",
      "fasd data\\alignments\\s1\\swbi5s.align\n",
      "path .\\data\\s1\\bbil2n.mpg\n",
      "fasd data\\alignments\\s1\\bbil2n.align\n",
      "path .\\data\\s1\\bras6n.mpg\n",
      "fasd data\\alignments\\s1\\bras6n.align\n",
      "path .\\data\\s1\\swbp1a.mpg\n",
      "fasd data\\alignments\\s1\\swbp1a.align\n",
      "path .\\data\\s1\\lgiszp.mpg\n",
      "fasd data\\alignments\\s1\\lgiszp.align\n",
      "path .\\data\\s1\\brif5s.mpg\n",
      "fasd data\\alignments\\s1\\brif5s.align\n",
      "path .\\data\\s1\\sgbjzn.mpg\n",
      "fasd data\\alignments\\s1\\sgbjzn.align\n",
      "path .\\data\\s1\\prwq3s.mpg\n",
      "fasd data\\alignments\\s1\\prwq3s.align\n",
      "path .\\data\\s1\\bbbmzn.mpg\n",
      "fasd data\\alignments\\s1\\bbbmzn.align\n",
      "path .\\data\\s1\\prbd2p.mpg\n",
      "fasd data\\alignments\\s1\\prbd2p.align\n",
      "path .\\data\\s1\\pwbq7a.mpg\n",
      "fasd data\\alignments\\s1\\pwbq7a.align\n",
      "path .\\data\\s1\\pgaq6n.mpg\n",
      "fasd data\\alignments\\s1\\pgaq6n.align\n",
      "path .\\data\\s1\\prbqzp.mpg\n",
      "fasd data\\alignments\\s1\\prbqzp.align\n",
      "path .\\data\\s1\\srihzn.mpg\n",
      "fasd data\\alignments\\s1\\srihzn.align\n",
      "path .\\data\\s1\\lbix4n.mpg\n",
      "fasd data\\alignments\\s1\\lbix4n.align\n",
      "path .\\data\\s1\\pwbx9s.mpg\n",
      "fasd data\\alignments\\s1\\pwbx9s.align\n",
      "path .\\data\\s1\\srao1a.mpg\n",
      "fasd data\\alignments\\s1\\srao1a.align\n",
      "path .\\data\\s1\\pbwj2n.mpg\n",
      "fasd data\\alignments\\s1\\pbwj2n.align\n",
      "path .\\data\\s1\\lwbz5s.mpg\n",
      "fasd data\\alignments\\s1\\lwbz5s.align\n",
      "path .\\data\\s1\\bwat3s.mpg\n",
      "fasd data\\alignments\\s1\\bwat3s.align\n",
      "path .\\data\\s1\\brwg9a.mpg\n",
      "fasd data\\alignments\\s1\\brwg9a.align\n",
      "path .\\data\\s1\\lgwt3a.mpg\n",
      "fasd data\\alignments\\s1\\lgwt3a.align\n",
      "path .\\data\\s1\\brwa5a.mpg\n",
      "fasd data\\alignments\\s1\\brwa5a.align\n",
      "path .\\data\\s1\\lbid3s.mpg\n",
      "fasd data\\alignments\\s1\\lbid3s.align\n",
      "path .\\data\\s1\\sgav5s.mpg\n",
      "fasd data\\alignments\\s1\\sgav5s.align\n",
      "path .\\data\\s1\\sbat9a.mpg\n",
      "fasd data\\alignments\\s1\\sbat9a.align\n",
      "path .\\data\\s1\\bwis9s.mpg\n",
      "fasd data\\alignments\\s1\\bwis9s.align\n",
      "path .\\data\\s1\\lrae5a.mpg\n",
      "fasd data\\alignments\\s1\\lrae5a.align\n",
      "path .\\data\\s1\\pwip9a.mpg\n",
      "fasd data\\alignments\\s1\\pwip9a.align\n",
      "path .\\data\\s1\\pbwp6n.mpg\n",
      "fasd data\\alignments\\s1\\pbwp6n.align\n",
      "path .\\data\\s1\\lbwy7s.mpg\n",
      "fasd data\\alignments\\s1\\lbwy7s.align\n",
      "path .\\data\\s1\\lrwf1s.mpg\n",
      "fasd data\\alignments\\s1\\lrwf1s.align\n",
      "path .\\data\\s1\\bgit4n.mpg\n",
      "fasd data\\alignments\\s1\\bgit4n.align\n",
      "path .\\data\\s1\\pgbe3s.mpg\n",
      "fasd data\\alignments\\s1\\pgbe3s.align\n",
      "path .\\data\\s1\\lwws4n.mpg\n",
      "fasd data\\alignments\\s1\\lwws4n.align\n",
      "path .\\data\\s1\\srbi1a.mpg\n",
      "fasd data\\alignments\\s1\\srbi1a.align\n",
      "path .\\data\\s1\\prbj5s.mpg\n",
      "fasd data\\alignments\\s1\\prbj5s.align\n",
      "path .\\data\\s1\\lbid4p.mpg\n",
      "fasd data\\alignments\\s1\\lbid4p.align\n",
      "path .\\data\\s1\\bbir9a.mpg\n",
      "fasd data\\alignments\\s1\\bbir9a.align\n",
      "path .\\data\\s1\\sbag8n.mpg\n",
      "fasd data\\alignments\\s1\\sbag8n.align\n",
      "path .\\data\\s1\\lrwl4n.mpg\n",
      "fasd data\\alignments\\s1\\lrwl4n.align\n",
      "path .\\data\\s1\\bgbb2p.mpg\n",
      "fasd data\\alignments\\s1\\bgbb2p.align\n",
      "path .\\data\\s1\\srwi2n.mpg\n",
      "fasd data\\alignments\\s1\\srwi2n.align\n",
      "path .\\data\\s1\\sria9a.mpg\n",
      "fasd data\\alignments\\s1\\sria9a.align\n",
      "path .\\data\\s1\\sbig4n.mpg\n",
      "fasd data\\alignments\\s1\\sbig4n.align\n",
      "path .\\data\\s1\\lwazzn.mpg\n",
      "fasd data\\alignments\\s1\\lwazzn.align\n",
      "path .\\data\\s1\\pbwj3s.mpg\n",
      "fasd data\\alignments\\s1\\pbwj3s.align\n",
      "path .\\data\\s1\\lwbf3s.mpg\n",
      "fasd data\\alignments\\s1\\lwbf3s.align\n",
      "path .\\data\\s1\\swbpzp.mpg\n",
      "fasd data\\alignments\\s1\\swbpzp.align\n",
      "path .\\data\\s1\\pbii3a.mpg\n",
      "fasd data\\alignments\\s1\\pbii3a.align\n",
      "path .\\data\\s1\\sgbxzp.mpg\n",
      "fasd data\\alignments\\s1\\sgbxzp.align\n",
      "path .\\data\\s1\\sgivzn.mpg\n",
      "fasd data\\alignments\\s1\\sgivzn.align\n",
      "path .\\data\\s1\\brbtzn.mpg\n",
      "fasd data\\alignments\\s1\\brbtzn.align\n",
      "path .\\data\\s1\\pbbc5s.mpg\n",
      "fasd data\\alignments\\s1\\pbbc5s.align\n",
      "path .\\data\\s1\\srin6p.mpg\n",
      "fasd data\\alignments\\s1\\srin6p.align\n",
      "path .\\data\\s1\\lbwk9s.mpg\n",
      "fasd data\\alignments\\s1\\lbwk9s.align\n",
      "path .\\data\\s1\\lbwe6p.mpg\n",
      "fasd data\\alignments\\s1\\lbwe6p.align\n",
      "path .\\data\\s1\\pwwrzp.mpg\n",
      "fasd data\\alignments\\s1\\pwwrzp.align\n",
      "path .\\data\\s1\\pbwdzp.mpg\n",
      "fasd data\\alignments\\s1\\pbwdzp.align\n",
      "path .\\data\\s1\\lbay1a.mpg\n",
      "fasd data\\alignments\\s1\\lbay1a.align\n",
      "path .\\data\\s1\\bbws8n.mpg\n",
      "fasd data\\alignments\\s1\\bbws8n.align\n",
      "path .\\data\\s1\\bbbf6n.mpg\n",
      "fasd data\\alignments\\s1\\bbbf6n.align\n",
      "path .\\data\\s1\\swwc4n.mpg\n",
      "fasd data\\alignments\\s1\\swwc4n.align\n",
      "path .\\data\\s1\\sgii2n.mpg\n",
      "fasd data\\alignments\\s1\\sgii2n.align\n",
      "path .\\data\\s1\\lwar9a.mpg\n",
      "fasd data\\alignments\\s1\\lwar9a.align\n",
      "path .\\data\\s1\\swau9s.mpg\n",
      "fasd data\\alignments\\s1\\swau9s.align\n",
      "path .\\data\\s1\\pwij4p.mpg\n",
      "fasd data\\alignments\\s1\\pwij4p.align\n",
      "path .\\data\\s1\\lgbs8p.mpg\n",
      "fasd data\\alignments\\s1\\lgbs8p.align\n",
      "path .\\data\\s1\\pgak4p.mpg\n",
      "fasd data\\alignments\\s1\\pgak4p.align\n",
      "path .\\data\\s1\\pbav4p.mpg\n",
      "fasd data\\alignments\\s1\\pbav4p.align\n",
      "path .\\data\\s1\\bwim4n.mpg\n",
      "fasd data\\alignments\\s1\\bwim4n.align\n",
      "path .\\data\\s1\\sraozp.mpg\n",
      "fasd data\\alignments\\s1\\sraozp.align\n",
      "path .\\data\\s1\\pgix6n.mpg\n",
      "fasd data\\alignments\\s1\\pgix6n.align\n",
      "path .\\data\\s1\\sgwj6p.mpg\n",
      "fasd data\\alignments\\s1\\sgwj6p.align\n",
      "path .\\data\\s1\\lwwmzn.mpg\n",
      "fasd data\\alignments\\s1\\lwwmzn.align\n",
      "path .\\data\\s1\\bwaazn.mpg\n",
      "fasd data\\alignments\\s1\\bwaazn.align\n",
      "path .\\data\\s1\\pwwr1a.mpg\n",
      "fasd data\\alignments\\s1\\pwwr1a.align\n",
      "path .\\data\\s1\\lgiz3s.mpg\n",
      "fasd data\\alignments\\s1\\lgiz3s.align\n",
      "path .\\data\\s1\\sgbc9a.mpg\n",
      "fasd data\\alignments\\s1\\sgbc9a.align\n",
      "path .\\data\\s1\\lgbs9a.mpg\n",
      "fasd data\\alignments\\s1\\lgbs9a.align\n",
      "path .\\data\\s1\\sbwu6p.mpg\n",
      "fasd data\\alignments\\s1\\sbwu6p.align\n",
      "path .\\data\\s1\\sbaa4n.mpg\n",
      "fasd data\\alignments\\s1\\sbaa4n.align\n",
      "path .\\data\\s1\\srwb9s.mpg\n",
      "fasd data\\alignments\\s1\\srwb9s.align\n",
      "path .\\data\\s1\\lbaq6p.mpg\n",
      "fasd data\\alignments\\s1\\lbaq6p.align\n",
      "path .\\data\\s1\\lwiy6n.mpg\n",
      "fasd data\\alignments\\s1\\lwiy6n.align\n",
      "path .\\data\\s1\\lgas2n.mpg\n",
      "fasd data\\alignments\\s1\\lgas2n.align\n",
      "path .\\data\\s1\\swao4n.mpg\n",
      "fasd data\\alignments\\s1\\swao4n.align\n",
      "path .\\data\\s1\\prii6n.mpg\n",
      "fasd data\\alignments\\s1\\prii6n.align\n",
      "path .\\data\\s1\\pbbp4p.mpg\n",
      "fasd data\\alignments\\s1\\pbbp4p.align\n",
      "path .\\data\\s1\\lwie4n.mpg\n",
      "fasd data\\alignments\\s1\\lwie4n.align\n",
      "path .\\data\\s1\\brbg3s.mpg\n",
      "fasd data\\alignments\\s1\\brbg3s.align\n",
      "path .\\data\\s1\\pwaj9a.mpg\n",
      "fasd data\\alignments\\s1\\pwaj9a.align\n",
      "path .\\data\\s1\\bgbu4p.mpg\n",
      "fasd data\\alignments\\s1\\bgbu4p.align\n",
      "path .\\data\\s1\\sgbp5s.mpg\n",
      "fasd data\\alignments\\s1\\sgbp5s.align\n",
      "path .\\data\\s1\\prac7s.mpg\n",
      "fasd data\\alignments\\s1\\prac7s.align\n",
      "path .\\data\\s1\\pgak5a.mpg\n",
      "fasd data\\alignments\\s1\\pgak5a.align\n",
      "path .\\data\\s1\\lrwfzn.mpg\n",
      "fasd data\\alignments\\s1\\lrwfzn.align\n",
      "path .\\data\\s1\\pbwx2p.mpg\n",
      "fasd data\\alignments\\s1\\pbwx2p.align\n",
      "path .\\data\\s1\\bwbg9s.mpg\n",
      "fasd data\\alignments\\s1\\bwbg9s.align\n",
      "path .\\data\\s1\\bril9s.mpg\n",
      "fasd data\\alignments\\s1\\bril9s.align\n",
      "path .\\data\\s1\\bwim7a.mpg\n",
      "fasd data\\alignments\\s1\\bwim7a.align\n",
      "path .\\data\\s1\\pwij2n.mpg\n",
      "fasd data\\alignments\\s1\\pwij2n.align\n",
      "path .\\data\\s1\\lwbf4p.mpg\n",
      "fasd data\\alignments\\s1\\lwbf4p.align\n",
      "path .\\data\\s1\\bris5a.mpg\n",
      "fasd data\\alignments\\s1\\bris5a.align\n",
      "path .\\data\\s1\\briz9a.mpg\n",
      "fasd data\\alignments\\s1\\briz9a.align\n",
      "path .\\data\\s1\\pwwk5s.mpg\n",
      "fasd data\\alignments\\s1\\pwwk5s.align\n",
      "path .\\data\\s1\\lrik4p.mpg\n",
      "fasd data\\alignments\\s1\\lrik4p.align\n",
      "path .\\data\\s1\\bgau1a.mpg\n",
      "fasd data\\alignments\\s1\\bgau1a.align\n",
      "path .\\data\\s1\\sban5a.mpg\n",
      "fasd data\\alignments\\s1\\sban5a.align\n",
      "path .\\data\\s1\\brwnzn.mpg\n",
      "fasd data\\alignments\\s1\\brwnzn.align\n",
      "path .\\data\\s1\\lgbs7s.mpg\n",
      "fasd data\\alignments\\s1\\lgbs7s.align\n",
      "path .\\data\\s1\\sbba9s.mpg\n",
      "fasd data\\alignments\\s1\\sbba9s.align\n",
      "path .\\data\\s1\\sgai9a.mpg\n",
      "fasd data\\alignments\\s1\\sgai9a.align\n",
      "path .\\data\\s1\\brif6p.mpg\n",
      "fasd data\\alignments\\s1\\brif6p.align\n",
      "path .\\data\\s1\\lgif2p.mpg\n",
      "fasd data\\alignments\\s1\\lgif2p.align\n",
      "path .\\data\\s1\\bgah3a.mpg\n",
      "fasd data\\alignments\\s1\\bgah3a.align\n",
      "path .\\data\\s1\\prwj8n.mpg\n",
      "fasd data\\alignments\\s1\\prwj8n.align\n",
      "path .\\data\\s1\\lbwlzp.mpg\n",
      "fasd data\\alignments\\s1\\lbwlzp.align\n",
      "path .\\data\\s1\\bwwu3a.mpg\n",
      "fasd data\\alignments\\s1\\bwwu3a.align\n",
      "path .\\data\\s1\\pric3s.mpg\n",
      "fasd data\\alignments\\s1\\pric3s.align\n",
      "path .\\data\\s1\\bbwg1s.mpg\n",
      "fasd data\\alignments\\s1\\bbwg1s.align\n",
      "path .\\data\\s1\\lrak6n.mpg\n",
      "fasd data\\alignments\\s1\\lrak6n.align\n",
      "path .\\data\\s1\\brimzp.mpg\n",
      "fasd data\\alignments\\s1\\brimzp.align\n",
      "path .\\data\\s1\\prip3a.mpg\n",
      "fasd data\\alignments\\s1\\prip3a.align\n",
      "path .\\data\\s1\\bgauzp.mpg\n",
      "fasd data\\alignments\\s1\\bgauzp.align\n",
      "path .\\data\\s1\\bwba7a.mpg\n",
      "fasd data\\alignments\\s1\\bwba7a.align\n",
      "path .\\data\\s1\\lwilzp.mpg\n",
      "fasd data\\alignments\\s1\\lwilzp.align\n",
      "path .\\data\\s1\\lwwm3a.mpg\n",
      "fasd data\\alignments\\s1\\lwwm3a.align\n",
      "path .\\data\\s1\\pwbd6n.mpg\n",
      "fasd data\\alignments\\s1\\pwbd6n.align\n",
      "path .\\data\\s1\\brbazp.mpg\n",
      "fasd data\\alignments\\s1\\brbazp.align\n",
      "path .\\data\\s1\\praj2p.mpg\n",
      "fasd data\\alignments\\s1\\praj2p.align\n",
      "path .\\data\\s1\\prwq4p.mpg\n",
      "fasd data\\alignments\\s1\\prwq4p.align\n",
      "path .\\data\\s1\\pgay1s.mpg\n",
      "fasd data\\alignments\\s1\\pgay1s.align\n",
      "path .\\data\\s1\\brba1a.mpg\n",
      "fasd data\\alignments\\s1\\brba1a.align\n",
      "path .\\data\\s1\\swiu6p.mpg\n",
      "fasd data\\alignments\\s1\\swiu6p.align\n",
      "path .\\data\\s1\\lwal5a.mpg\n",
      "fasd data\\alignments\\s1\\lwal5a.align\n",
      "path .\\data\\s1\\bbbm1s.mpg\n",
      "fasd data\\alignments\\s1\\bbbm1s.align\n",
      "path .\\data\\s1\\pbib7s.mpg\n",
      "fasd data\\alignments\\s1\\pbib7s.align\n",
      "path .\\data\\s1\\lgaz7s.mpg\n",
      "fasd data\\alignments\\s1\\lgaz7s.align\n",
      "path .\\data\\s1\\lrak7s.mpg\n",
      "fasd data\\alignments\\s1\\lrak7s.align\n",
      "path .\\data\\s1\\sbba8n.mpg\n",
      "fasd data\\alignments\\s1\\sbba8n.align\n",
      "path .\\data\\s1\\pgwr6p.mpg\n",
      "fasd data\\alignments\\s1\\pgwr6p.align\n",
      "path .\\data\\s1\\pgwe9a.mpg\n",
      "fasd data\\alignments\\s1\\pgwe9a.align\n",
      "path .\\data\\s1\\swwv8p.mpg\n",
      "fasd data\\alignments\\s1\\swwv8p.align\n",
      "path .\\data\\s1\\sbbu1s.mpg\n",
      "fasd data\\alignments\\s1\\sbbu1s.align\n",
      "path .\\data\\s1\\pgby7a.mpg\n",
      "fasd data\\alignments\\s1\\pgby7a.align\n",
      "path .\\data\\s1\\bras8p.mpg\n",
      "fasd data\\alignments\\s1\\bras8p.align\n",
      "path .\\data\\s1\\sgai6n.mpg\n",
      "fasd data\\alignments\\s1\\sgai6n.align\n",
      "path .\\data\\s1\\pwbd8p.mpg\n",
      "fasd data\\alignments\\s1\\pwbd8p.align\n",
      "path .\\data\\s1\\srau5a.mpg\n",
      "fasd data\\alignments\\s1\\srau5a.align\n",
      "path .\\data\\s1\\swih8p.mpg\n",
      "fasd data\\alignments\\s1\\swih8p.align\n",
      "path .\\data\\s1\\lrbzzp.mpg\n",
      "fasd data\\alignments\\s1\\lrbzzp.align\n",
      "path .\\data\\s1\\lgil5s.mpg\n",
      "fasd data\\alignments\\s1\\lgil5s.align\n",
      "path .\\data\\s1\\pwaq3a.mpg\n",
      "fasd data\\alignments\\s1\\pwaq3a.align\n",
      "path .\\data\\s1\\brbt3a.mpg\n",
      "fasd data\\alignments\\s1\\brbt3a.align\n",
      "path .\\data\\s1\\bwwuzn.mpg\n",
      "fasd data\\alignments\\s1\\bwwuzn.align\n",
      "path .\\data\\s1\\sbia2p.mpg\n",
      "fasd data\\alignments\\s1\\sbia2p.align\n",
      "path .\\data\\s1\\lrarzn.mpg\n",
      "fasd data\\alignments\\s1\\lrarzn.align\n",
      "path .\\data\\s1\\lrar2p.mpg\n",
      "fasd data\\alignments\\s1\\lrar2p.align\n",
      "path .\\data\\s1\\pgikzp.mpg\n",
      "fasd data\\alignments\\s1\\pgikzp.align\n",
      "path .\\data\\s1\\lbbq9s.mpg\n",
      "fasd data\\alignments\\s1\\lbbq9s.align\n",
      "path .\\data\\s1\\bbaf4p.mpg\n",
      "fasd data\\alignments\\s1\\bbaf4p.align\n",
      "path .\\data\\s1\\sgap1s.mpg\n",
      "fasd data\\alignments\\s1\\sgap1s.align\n",
      "path .\\data\\s1\\bwbt6n.mpg\n",
      "fasd data\\alignments\\s1\\bwbt6n.align\n",
      "path .\\data\\s1\\lbwe4n.mpg\n",
      "fasd data\\alignments\\s1\\lbwe4n.align\n",
      "path .\\data\\s1\\lgifzn.mpg\n",
      "fasd data\\alignments\\s1\\lgifzn.align\n",
      "path .\\data\\s1\\pgbk9a.mpg\n",
      "fasd data\\alignments\\s1\\pgbk9a.align\n",
      "path .\\data\\s1\\pbav2n.mpg\n",
      "fasd data\\alignments\\s1\\pbav2n.align\n",
      "path .\\data\\s1\\prap6p.mpg\n",
      "fasd data\\alignments\\s1\\prap6p.align\n",
      "path .\\data\\s1\\sgbc7s.mpg\n",
      "fasd data\\alignments\\s1\\sgbc7s.align\n",
      "path .\\data\\s1\\prap5s.mpg\n",
      "fasd data\\alignments\\s1\\prap5s.align\n",
      "path .\\data\\s1\\lrie1a.mpg\n",
      "fasd data\\alignments\\s1\\lrie1a.align\n",
      "path .\\data\\s1\\pgbk6n.mpg\n",
      "fasd data\\alignments\\s1\\pgbk6n.align\n",
      "path .\\data\\s1\\sran9s.mpg\n",
      "fasd data\\alignments\\s1\\sran9s.align\n",
      "path .\\data\\s1\\sbat7s.mpg\n",
      "fasd data\\alignments\\s1\\sbat7s.align\n",
      "path .\\data\\s1\\pwaj6n.mpg\n",
      "fasd data\\alignments\\s1\\pwaj6n.align\n",
      "path .\\data\\s1\\prii7s.mpg\n",
      "fasd data\\alignments\\s1\\prii7s.align\n",
      "path .\\data\\s1\\bgit7a.mpg\n",
      "fasd data\\alignments\\s1\\bgit7a.align\n",
      "path .\\data\\s1\\lgas3s.mpg\n",
      "fasd data\\alignments\\s1\\lgas3s.align\n",
      "path .\\data\\s1\\pbac1s.mpg\n",
      "fasd data\\alignments\\s1\\pbac1s.align\n",
      "path .\\data\\s1\\sgib8n.mpg\n",
      "fasd data\\alignments\\s1\\sgib8n.align\n",
      "path .\\data\\s1\\bbbf9a.mpg\n",
      "fasd data\\alignments\\s1\\bbbf9a.align\n",
      "path .\\data\\s1\\srwo6n.mpg\n",
      "fasd data\\alignments\\s1\\srwo6n.align\n",
      "path .\\data\\s1\\bwwbzp.mpg\n",
      "fasd data\\alignments\\s1\\bwwbzp.align\n",
      "path .\\data\\s1\\pwbq5s.mpg\n",
      "fasd data\\alignments\\s1\\pwbq5s.align\n",
      "path .\\data\\s1\\pgbr1s.mpg\n",
      "fasd data\\alignments\\s1\\pgbr1s.align\n",
      "path .\\data\\s1\\bbil4p.mpg\n",
      "fasd data\\alignments\\s1\\bbil4p.align\n",
      "path .\\data\\s1\\bbbf7s.mpg\n",
      "fasd data\\alignments\\s1\\bbbf7s.align\n",
      "path .\\data\\s1\\lbak2p.mpg\n",
      "fasd data\\alignments\\s1\\lbak2p.align\n",
      "path .\\data\\s1\\bram4p.mpg\n",
      "fasd data\\alignments\\s1\\bram4p.align\n",
      "path .\\data\\s1\\srbu7s.mpg\n",
      "fasd data\\alignments\\s1\\srbu7s.align\n",
      "path .\\data\\s1\\swavzp.mpg\n",
      "fasd data\\alignments\\s1\\swavzp.align\n",
      "path .\\data\\s1\\swab7s.mpg\n",
      "fasd data\\alignments\\s1\\swab7s.align\n",
      "path .\\data\\s1\\lgamzp.mpg\n",
      "fasd data\\alignments\\s1\\lgamzp.align\n",
      "path .\\data\\s1\\lgwazp.mpg\n",
      "fasd data\\alignments\\s1\\lgwazp.align\n",
      "path .\\data\\s1\\sgwq1a.mpg\n",
      "fasd data\\alignments\\s1\\sgwq1a.align\n",
      "path .\\data\\s1\\bwwn6n.mpg\n",
      "fasd data\\alignments\\s1\\bwwn6n.align\n",
      "path .\\data\\s1\\sbwh9a.mpg\n",
      "fasd data\\alignments\\s1\\sbwh9a.align\n",
      "path .\\data\\s1\\pgwlzn.mpg\n",
      "fasd data\\alignments\\s1\\pgwlzn.align\n",
      "path .\\data\\s1\\sbahzp.mpg\n",
      "fasd data\\alignments\\s1\\sbahzp.align\n",
      "path .\\data\\s1\\bbwm7a.mpg\n",
      "fasd data\\alignments\\s1\\bbwm7a.align\n",
      "path .\\data\\s1\\pbbc4n.mpg\n",
      "fasd data\\alignments\\s1\\pbbc4n.align\n",
      "path .\\data\\s1\\lrwl5s.mpg\n",
      "fasd data\\alignments\\s1\\lrwl5s.align\n",
      "path .\\data\\s1\\bram2n.mpg\n",
      "fasd data\\alignments\\s1\\bram2n.align\n",
      "path .\\data\\s1\\srau3s.mpg\n",
      "fasd data\\alignments\\s1\\srau3s.align\n",
      "path .\\data\\s1\\bgia3s.mpg\n",
      "fasd data\\alignments\\s1\\bgia3s.align\n",
      "path .\\data\\s1\\bwit1a.mpg\n",
      "fasd data\\alignments\\s1\\bwit1a.align\n",
      "path .\\data\\s1\\prbx4p.mpg\n",
      "fasd data\\alignments\\s1\\prbx4p.align\n",
      "path .\\data\\s1\\swwc5s.mpg\n",
      "fasd data\\alignments\\s1\\swwc5s.align\n",
      "path .\\data\\s1\\sgac4p.mpg\n",
      "fasd data\\alignments\\s1\\sgac4p.align\n",
      "path .\\data\\s1\\lrbr5s.mpg\n",
      "fasd data\\alignments\\s1\\lrbr5s.align\n",
      "path .\\data\\s1\\sbwo2p.mpg\n",
      "fasd data\\alignments\\s1\\sbwo2p.align\n",
      "path .\\data\\s1\\bram5a.mpg\n",
      "fasd data\\alignments\\s1\\bram5a.align\n",
      "path .\\data\\s1\\pwwy5a.mpg\n",
      "fasd data\\alignments\\s1\\pwwy5a.align\n",
      "path .\\data\\s1\\brim1a.mpg\n",
      "fasd data\\alignments\\s1\\brim1a.align\n",
      "path .\\data\\s1\\bbaz4n.mpg\n",
      "fasd data\\alignments\\s1\\bbaz4n.align\n",
      "path .\\data\\s1\\lgiz4p.mpg\n",
      "fasd data\\alignments\\s1\\lgiz4p.align\n",
      "path .\\data\\s1\\bbwgzn.mpg\n",
      "fasd data\\alignments\\s1\\bbwgzn.align\n",
      "path .\\data\\s1\\prbp9s.mpg\n",
      "fasd data\\alignments\\s1\\prbp9s.align\n",
      "path .\\data\\s1\\lbij7s.mpg\n",
      "fasd data\\alignments\\s1\\lbij7s.align\n",
      "path .\\data\\s1\\lwbszn.mpg\n",
      "fasd data\\alignments\\s1\\lwbszn.align\n",
      "path .\\data\\s1\\bwim5s.mpg\n",
      "fasd data\\alignments\\s1\\bwim5s.align\n",
      "path .\\data\\s1\\pgaq7s.mpg\n",
      "fasd data\\alignments\\s1\\pgaq7s.align\n",
      "path .\\data\\s1\\lgbm2n.mpg\n",
      "fasd data\\alignments\\s1\\lgbm2n.align\n",
      "path .\\data\\s1\\bbaz6p.mpg\n",
      "fasd data\\alignments\\s1\\bbaz6p.align\n",
      "path .\\data\\s1\\bbal6n.mpg\n",
      "fasd data\\alignments\\s1\\bbal6n.align\n",
      "path .\\data\\s1\\lrwf3a.mpg\n",
      "fasd data\\alignments\\s1\\lrwf3a.align\n",
      "path .\\data\\s1\\lbij6n.mpg\n",
      "fasd data\\alignments\\s1\\lbij6n.align\n",
      "path .\\data\\s1\\swwv6n.mpg\n",
      "fasd data\\alignments\\s1\\swwv6n.align\n",
      "path .\\data\\s1\\pwic8n.mpg\n",
      "fasd data\\alignments\\s1\\pwic8n.align\n",
      "path .\\data\\s1\\brbg5a.mpg\n",
      "fasd data\\alignments\\s1\\brbg5a.align\n",
      "path .\\data\\s1\\pbio5s.mpg\n",
      "fasd data\\alignments\\s1\\pbio5s.align\n",
      "path .\\data\\s1\\lray4n.mpg\n",
      "fasd data\\alignments\\s1\\lray4n.align\n",
      "path .\\data\\s1\\lwbl6n.mpg\n",
      "fasd data\\alignments\\s1\\lwbl6n.align\n",
      "path .\\data\\s1\\lbbe2p.mpg\n",
      "fasd data\\alignments\\s1\\lbbe2p.align\n",
      "path .\\data\\s1\\lbby2n.mpg\n",
      "fasd data\\alignments\\s1\\lbby2n.align\n",
      "path .\\data\\s1\\swbi6p.mpg\n",
      "fasd data\\alignments\\s1\\swbi6p.align\n",
      "path .\\data\\s1\\pgbr2p.mpg\n",
      "fasd data\\alignments\\s1\\pgbr2p.align\n",
      "path .\\data\\s1\\pbbp2n.mpg\n",
      "fasd data\\alignments\\s1\\pbbp2n.align\n",
      "path .\\data\\s1\\bbbf8p.mpg\n",
      "fasd data\\alignments\\s1\\bbbf8p.align\n",
      "path .\\data\\s1\\pwbq4n.mpg\n",
      "fasd data\\alignments\\s1\\pwbq4n.align\n",
      "path .\\data\\s1\\bgwh9s.mpg\n",
      "fasd data\\alignments\\s1\\bgwh9s.align\n",
      "path .\\data\\s1\\swio2p.mpg\n",
      "fasd data\\alignments\\s1\\swio2p.align\n",
      "path .\\data\\s1\\lbwl1a.mpg\n",
      "fasd data\\alignments\\s1\\lbwl1a.align\n",
      "path .\\data\\s1\\bgah1s.mpg\n",
      "fasd data\\alignments\\s1\\bgah1s.align\n",
      "path .\\data\\s1\\bwig2p.mpg\n",
      "fasd data\\alignments\\s1\\bwig2p.align\n",
      "path .\\data\\s1\\lbak1s.mpg\n",
      "fasd data\\alignments\\s1\\lbak1s.align\n",
      "path .\\data\\s1\\pgak3s.mpg\n",
      "fasd data\\alignments\\s1\\pgak3s.align\n",
      "path .\\data\\s1\\pbwx3a.mpg\n",
      "fasd data\\alignments\\s1\\pbwx3a.align\n",
      "path .\\data\\s1\\pbwp7s.mpg\n",
      "fasd data\\alignments\\s1\\pbwp7s.align\n",
      "path .\\data\\s1\\bgbu5a.mpg\n",
      "fasd data\\alignments\\s1\\bgbu5a.align\n",
      "path .\\data\\s1\\pbiv1a.mpg\n",
      "fasd data\\alignments\\s1\\pbiv1a.align\n",
      "path .\\data\\s1\\pwby1a.mpg\n",
      "fasd data\\alignments\\s1\\pwby1a.align\n",
      "path .\\data\\s1\\prwq5a.mpg\n",
      "fasd data\\alignments\\s1\\prwq5a.align\n",
      "path .\\data\\s1\\swbv3s.mpg\n",
      "fasd data\\alignments\\s1\\swbv3s.align\n",
      "path .\\data\\s1\\lwws6p.mpg\n",
      "fasd data\\alignments\\s1\\lwws6p.align\n",
      "path .\\data\\s1\\sgiv1s.mpg\n",
      "fasd data\\alignments\\s1\\sgiv1s.align\n",
      "path .\\data\\s1\\bgbu3s.mpg\n",
      "fasd data\\alignments\\s1\\bgbu3s.align\n",
      "path .\\data\\s1\\bgwu6n.mpg\n",
      "fasd data\\alignments\\s1\\bgwu6n.align\n",
      "path .\\data\\s1\\lbad6n.mpg\n",
      "fasd data\\alignments\\s1\\lbad6n.align\n",
      "path .\\data\\s1\\sgwqzp.mpg\n",
      "fasd data\\alignments\\s1\\sgwqzp.align\n",
      "path .\\data\\s1\\sbia1s.mpg\n",
      "fasd data\\alignments\\s1\\sbia1s.align\n",
      "path .\\data\\s1\\pbii1s.mpg\n",
      "fasd data\\alignments\\s1\\pbii1s.align\n",
      "path .\\data\\s1\\pwwe3a.mpg\n",
      "fasd data\\alignments\\s1\\pwwe3a.align\n",
      "path .\\data\\s1\\bwbt7s.mpg\n",
      "fasd data\\alignments\\s1\\bwbt7s.align\n",
      "path .\\data\\s1\\bgwo2n.mpg\n",
      "fasd data\\alignments\\s1\\bgwo2n.align\n",
      "path .\\data\\s1\\bgwb6p.mpg\n",
      "fasd data\\alignments\\s1\\bgwb6p.align\n",
      "path .\\data\\s1\\prac8p.mpg\n",
      "fasd data\\alignments\\s1\\prac8p.align\n",
      "path .\\data\\s1\\swwc6p.mpg\n",
      "fasd data\\alignments\\s1\\swwc6p.align\n",
      "path .\\data\\s1\\sgav6p.mpg\n",
      "fasd data\\alignments\\s1\\sgav6p.align\n",
      "path .\\data\\s1\\lwbl8p.mpg\n",
      "fasd data\\alignments\\s1\\lwbl8p.align\n",
      "path .\\data\\s1\\bwbt9a.mpg\n",
      "fasd data\\alignments\\s1\\bwbt9a.align\n",
      "path .\\data\\s1\\pbib6n.mpg\n",
      "fasd data\\alignments\\s1\\pbib6n.align\n",
      "path .\\data\\s1\\sgbx1a.mpg\n",
      "fasd data\\alignments\\s1\\sgbx1a.align\n",
      "path .\\data\\s1\\sgbj1s.mpg\n",
      "fasd data\\alignments\\s1\\sgbj1s.align\n",
      "path .\\data\\s1\\srin7a.mpg\n",
      "fasd data\\alignments\\s1\\srin7a.align\n",
      "path .\\data\\s1\\srbo4p.mpg\n",
      "fasd data\\alignments\\s1\\srbo4p.align\n",
      "path .\\data\\s1\\srbo5a.mpg\n",
      "fasd data\\alignments\\s1\\srbo5a.align\n",
      "path .\\data\\s1\\srbizp.mpg\n",
      "fasd data\\alignments\\s1\\srbizp.align\n",
      "path .\\data\\s1\\srab3a.mpg\n",
      "fasd data\\alignments\\s1\\srab3a.align\n",
      "path .\\data\\s1\\sgio9a.mpg\n",
      "fasd data\\alignments\\s1\\sgio9a.align\n",
      "path .\\data\\s1\\prwd7a.mpg\n",
      "fasd data\\alignments\\s1\\prwd7a.align\n",
      "path .\\data\\s1\\bgin1s.mpg\n",
      "fasd data\\alignments\\s1\\bgin1s.align\n",
      "path .\\data\\s1\\lwik9s.mpg\n",
      "fasd data\\alignments\\s1\\lwik9s.align\n",
      "path .\\data\\s1\\lbbk5s.mpg\n",
      "fasd data\\alignments\\s1\\lbbk5s.align\n",
      "path .\\data\\s1\\bgbh6p.mpg\n",
      "fasd data\\alignments\\s1\\bgbh6p.align\n",
      "path .\\data\\s1\\srih3a.mpg\n",
      "fasd data\\alignments\\s1\\srih3a.align\n",
      "path .\\data\\s1\\sbig7a.mpg\n",
      "fasd data\\alignments\\s1\\sbig7a.align\n",
      "path .\\data\\s1\\lbiqzn.mpg\n",
      "fasd data\\alignments\\s1\\lbiqzn.align\n",
      "path .\\data\\s1\\pgaq9a.mpg\n",
      "fasd data\\alignments\\s1\\pgaq9a.align\n",
      "path .\\data\\s1\\pgij9s.mpg\n",
      "fasd data\\alignments\\s1\\pgij9s.align\n",
      "path .\\data\\s1\\lbby5a.mpg\n",
      "fasd data\\alignments\\s1\\lbby5a.align\n",
      "path .\\data\\s1\\pwwq9s.mpg\n",
      "fasd data\\alignments\\s1\\pwwq9s.align\n",
      "path .\\data\\s1\\sgbp7a.mpg\n",
      "fasd data\\alignments\\s1\\sgbp7a.align\n",
      "path .\\data\\s1\\prav8n.mpg\n",
      "fasd data\\alignments\\s1\\prav8n.align\n",
      "path .\\data\\s1\\pbib9a.mpg\n",
      "fasd data\\alignments\\s1\\pbib9a.align\n",
      "path .\\data\\s1\\bgbh5s.mpg\n",
      "fasd data\\alignments\\s1\\bgbh5s.align\n",
      "path .\\data\\s1\\swwp3s.mpg\n",
      "fasd data\\alignments\\s1\\swwp3s.align\n",
      "path .\\data\\s1\\lbij8p.mpg\n",
      "fasd data\\alignments\\s1\\lbij8p.align\n",
      "path .\\data\\s1\\swwjzp.mpg\n",
      "fasd data\\alignments\\s1\\swwjzp.align\n",
      "path .\\data\\s1\\srwczp.mpg\n",
      "fasd data\\alignments\\s1\\srwczp.align\n",
      "path .\\data\\s1\\sgav7a.mpg\n",
      "fasd data\\alignments\\s1\\sgav7a.align\n",
      "path .\\data\\s1\\srwo8p.mpg\n",
      "fasd data\\alignments\\s1\\srwo8p.align\n",
      "path .\\data\\s1\\pgby6p.mpg\n",
      "fasd data\\alignments\\s1\\pgby6p.align\n",
      "path .\\data\\s1\\sbbu3a.mpg\n",
      "fasd data\\alignments\\s1\\sbbu3a.align\n",
      "path .\\data\\s1\\lwwf9a.mpg\n",
      "fasd data\\alignments\\s1\\lwwf9a.align\n",
      "path .\\data\\s1\\pgby4n.mpg\n",
      "fasd data\\alignments\\s1\\pgby4n.align\n",
      "path .\\data\\s1\\swbi4n.mpg\n",
      "fasd data\\alignments\\s1\\swbi4n.align\n",
      "path .\\data\\s1\\swab9a.mpg\n",
      "fasd data\\alignments\\s1\\swab9a.align\n",
      "path .\\data\\s1\\lwbz7a.mpg\n",
      "fasd data\\alignments\\s1\\lwbz7a.align\n",
      "path .\\data\\s1\\lray5s.mpg\n",
      "fasd data\\alignments\\s1\\lray5s.align\n",
      "path .\\data\\s1\\lgwa1a.mpg\n",
      "fasd data\\alignments\\s1\\lgwa1a.align\n",
      "path .\\data\\s1\\bbbz9s.mpg\n",
      "fasd data\\alignments\\s1\\bbbz9s.align\n",
      "path .\\data\\s1\\pgwe6n.mpg\n",
      "fasd data\\alignments\\s1\\pgwe6n.align\n",
      "path .\\data\\s1\\lrwz4p.mpg\n",
      "fasd data\\alignments\\s1\\lrwz4p.align\n",
      "path .\\data\\s1\\lbaq7a.mpg\n",
      "fasd data\\alignments\\s1\\lbaq7a.align\n",
      "path .\\data\\s1\\bbas2p.mpg\n",
      "fasd data\\alignments\\s1\\bbas2p.align\n",
      "path .\\data\\s1\\bgit5s.mpg\n",
      "fasd data\\alignments\\s1\\bgit5s.align\n",
      "path .\\data\\s1\\lgbm5a.mpg\n",
      "fasd data\\alignments\\s1\\lgbm5a.align\n",
      "path .\\data\\s1\\swab8p.mpg\n",
      "fasd data\\alignments\\s1\\swab8p.align\n",
      "path .\\data\\s1\\pgwl1s.mpg\n",
      "fasd data\\alignments\\s1\\pgwl1s.align\n",
      "path .\\data\\s1\\pwwe2p.mpg\n",
      "fasd data\\alignments\\s1\\pwwe2p.align\n",
      "path .\\data\\s1\\lrbl2p.mpg\n",
      "fasd data\\alignments\\s1\\lrbl2p.align\n",
      "path .\\data\\s1\\bgan4n.mpg\n",
      "fasd data\\alignments\\s1\\bgan4n.align\n",
      "path .\\data\\s1\\prbx3s.mpg\n",
      "fasd data\\alignments\\s1\\prbx3s.align\n",
      "path .\\data\\s1\\prbq1a.mpg\n",
      "fasd data\\alignments\\s1\\prbq1a.align\n",
      "path .\\data\\s1\\lbwr4p.mpg\n",
      "fasd data\\alignments\\s1\\lbwr4p.align\n",
      "path .\\data\\s1\\lgbgzp.mpg\n",
      "fasd data\\alignments\\s1\\lgbgzp.align\n",
      "path .\\data\\s1\\brbg2n.mpg\n",
      "fasd data\\alignments\\s1\\brbg2n.align\n",
      "path .\\data\\s1\\lgir8n.mpg\n",
      "fasd data\\alignments\\s1\\lgir8n.align\n",
      "path .\\data\\s1\\pwwk6p.mpg\n",
      "fasd data\\alignments\\s1\\pwwk6p.align\n",
      "path .\\data\\s1\\pwix2p.mpg\n",
      "fasd data\\alignments\\s1\\pwix2p.align\n",
      "path .\\data\\s1\\lrak8p.mpg\n",
      "fasd data\\alignments\\s1\\lrak8p.align\n",
      "path .\\data\\s1\\lgwm8p.mpg\n",
      "fasd data\\alignments\\s1\\lgwm8p.align\n",
      "path .\\data\\s1\\swbo9s.mpg\n",
      "fasd data\\alignments\\s1\\swbo9s.align\n",
      "path .\\data\\s1\\sbbh3s.mpg\n",
      "fasd data\\alignments\\s1\\sbbh3s.align\n",
      "path .\\data\\s1\\bbal9a.mpg\n",
      "fasd data\\alignments\\s1\\bbal9a.align\n",
      "path .\\data\\s1\\bgat9s.mpg\n",
      "fasd data\\alignments\\s1\\bgat9s.align\n",
      "path .\\data\\s1\\brbt2p.mpg\n",
      "fasd data\\alignments\\s1\\brbt2p.align\n",
      "path .\\data\\s1\\bbbs6p.mpg\n",
      "fasd data\\alignments\\s1\\bbbs6p.align\n",
      "path .\\data\\s1\\swih7s.mpg\n",
      "fasd data\\alignments\\s1\\swih7s.align\n",
      "path .\\data\\s1\\bwag7a.mpg\n",
      "fasd data\\alignments\\s1\\bwag7a.align\n",
      "path .\\data\\s1\\swih6n.mpg\n",
      "fasd data\\alignments\\s1\\swih6n.align\n",
      "path .\\data\\s1\\lwir4p.mpg\n",
      "fasd data\\alignments\\s1\\lwir4p.align\n",
      "path .\\data\\s1\\lwaz1s.mpg\n",
      "fasd data\\alignments\\s1\\lwaz1s.align\n",
      "path .\\data\\s1\\pgbe2n.mpg\n",
      "fasd data\\alignments\\s1\\pgbe2n.align\n",
      "path .\\data\\s1\\swao5s.mpg\n",
      "fasd data\\alignments\\s1\\swao5s.align\n",
      "path .\\data\\s1\\lwbz6p.mpg\n",
      "fasd data\\alignments\\s1\\lwbz6p.align\n",
      "path .\\data\\s1\\swwv7s.mpg\n",
      "fasd data\\alignments\\s1\\swwv7s.align\n",
      "path .\\data\\s1\\sbit2n.mpg\n",
      "fasd data\\alignments\\s1\\sbit2n.align\n",
      "path .\\data\\s1\\lbbq8n.mpg\n",
      "fasd data\\alignments\\s1\\lbbq8n.align\n",
      "path .\\data\\s1\\prwk1a.mpg\n",
      "fasd data\\alignments\\s1\\prwk1a.align\n",
      "path .\\data\\s1\\pbiu9s.mpg\n",
      "fasd data\\alignments\\s1\\pbiu9s.align\n",
      "path .\\data\\s1\\srab1s.mpg\n",
      "fasd data\\alignments\\s1\\srab1s.align\n",
      "path .\\data\\s1\\sgap3a.mpg\n",
      "fasd data\\alignments\\s1\\sgap3a.align\n",
      "path .\\data\\s1\\pwwezn.mpg\n",
      "fasd data\\alignments\\s1\\pwwezn.align\n",
      "path .\\data\\s1\\lbakzn.mpg\n",
      "fasd data\\alignments\\s1\\lbakzn.align\n",
      "path .\\data\\s1\\lgwm6n.mpg\n",
      "fasd data\\alignments\\s1\\lgwm6n.align\n",
      "path .\\data\\s1\\lbwr2n.mpg\n",
      "fasd data\\alignments\\s1\\lbwr2n.align\n",
      "path .\\data\\s1\\sgic1a.mpg\n",
      "fasd data\\alignments\\s1\\sgic1a.align\n",
      "path .\\data\\s1\\lwafzp.mpg\n",
      "fasd data\\alignments\\s1\\lwafzp.align\n",
      "path .\\data\\s1\\lrblzn.mpg\n",
      "fasd data\\alignments\\s1\\lrblzn.align\n",
      "path .\\data\\s1\\lgwt1s.mpg\n",
      "fasd data\\alignments\\s1\\lgwt1s.align\n",
      "path .\\data\\s1\\swwp4p.mpg\n",
      "fasd data\\alignments\\s1\\swwp4p.align\n",
      "path .\\data\\s1\\lbwr5a.mpg\n",
      "fasd data\\alignments\\s1\\lbwr5a.align\n",
      "path .\\data\\s1\\brwa3s.mpg\n",
      "fasd data\\alignments\\s1\\brwa3s.align\n",
      "path .\\data\\s1\\lbbk4n.mpg\n",
      "fasd data\\alignments\\s1\\lbbk4n.align\n",
      "path .\\data\\s1\\pgwz1a.mpg\n",
      "fasd data\\alignments\\s1\\pgwz1a.align\n",
      "path .\\data\\s1\\bwaa3a.mpg\n",
      "fasd data\\alignments\\s1\\bwaa3a.align\n",
      "path .\\data\\s1\\pbwp8p.mpg\n",
      "fasd data\\alignments\\s1\\pbwp8p.align\n",
      "path .\\data\\s1\\pgbk8p.mpg\n",
      "fasd data\\alignments\\s1\\pgbk8p.align\n",
      "path .\\data\\s1\\pwic9s.mpg\n",
      "fasd data\\alignments\\s1\\pwic9s.align\n",
      "path .\\data\\s1\\bgaa6n.mpg\n",
      "fasd data\\alignments\\s1\\bgaa6n.align\n",
      "path .\\data\\s1\\pbwc8n.mpg\n",
      "fasd data\\alignments\\s1\\pbwc8n.align\n",
      "path .\\data\\s1\\lbiq3a.mpg\n",
      "fasd data\\alignments\\s1\\lbiq3a.align\n",
      "path .\\data\\s1\\pgij8n.mpg\n",
      "fasd data\\alignments\\s1\\pgij8n.align\n",
      "path .\\data\\s1\\lwbf5a.mpg\n",
      "fasd data\\alignments\\s1\\lwbf5a.align\n",
      "path .\\data\\s1\\bras9a.mpg\n",
      "fasd data\\alignments\\s1\\bras9a.align\n",
      "path .\\data\\s1\\lrar3a.mpg\n",
      "fasd data\\alignments\\s1\\lrar3a.align\n",
      "path .\\data\\s1\\bbwtzp.mpg\n",
      "fasd data\\alignments\\s1\\bbwtzp.align\n",
      "path .\\data\\s1\\pgby5s.mpg\n",
      "fasd data\\alignments\\s1\\pgby5s.align\n",
      "path .\\data\\s1\\prwx7s.mpg\n",
      "fasd data\\alignments\\s1\\prwx7s.align\n",
      "path .\\data\\s1\\pwax6p.mpg\n",
      "fasd data\\alignments\\s1\\pwax6p.align\n",
      "path .\\data\\s1\\brbm6n.mpg\n",
      "fasd data\\alignments\\s1\\brbm6n.align\n",
      "path .\\data\\s1\\pwbkzn.mpg\n",
      "fasd data\\alignments\\s1\\pwbkzn.align\n",
      "path .\\data\\s1\\prac6n.mpg\n",
      "fasd data\\alignments\\s1\\prac6n.align\n",
      "path .\\data\\s1\\bwba4n.mpg\n",
      "fasd data\\alignments\\s1\\bwba4n.align\n",
      "path .\\data\\s1\\swbi7a.mpg\n",
      "fasd data\\alignments\\s1\\swbi7a.align\n",
      "path .\\data\\s1\\sgwj5s.mpg\n",
      "fasd data\\alignments\\s1\\sgwj5s.align\n",
      "path .\\data\\s1\\lwiy7s.mpg\n",
      "fasd data\\alignments\\s1\\lwiy7s.align\n",
      "path .\\data\\s1\\brwt7a.mpg\n",
      "fasd data\\alignments\\s1\\brwt7a.align\n",
      "path .\\data\\s1\\lwbz4n.mpg\n",
      "fasd data\\alignments\\s1\\lwbz4n.align\n",
      "path .\\data\\s1\\lgaf7a.mpg\n",
      "fasd data\\alignments\\s1\\lgaf7a.align\n",
      "path .\\data\\s1\\pgbr3a.mpg\n",
      "fasd data\\alignments\\s1\\pgbr3a.align\n",
      "path .\\data\\s1\\swio1s.mpg\n",
      "fasd data\\alignments\\s1\\swio1s.align\n",
      "path .\\data\\s1\\pbai5s.mpg\n",
      "fasd data\\alignments\\s1\\pbai5s.align\n",
      "path .\\data\\s1\\lrbz1a.mpg\n",
      "fasd data\\alignments\\s1\\lrbz1a.align\n",
      "path .\\data\\s1\\lrwr8n.mpg\n",
      "fasd data\\alignments\\s1\\lrwr8n.align\n",
      "path .\\data\\s1\\bbws9s.mpg\n",
      "fasd data\\alignments\\s1\\bbws9s.align\n",
      "path .\\data\\s1\\lrwl7a.mpg\n",
      "fasd data\\alignments\\s1\\lrwl7a.align\n",
      "path .\\data\\s1\\lriezp.mpg\n",
      "fasd data\\alignments\\s1\\lriezp.align\n",
      "path .\\data\\s1\\pbwp9a.mpg\n",
      "fasd data\\alignments\\s1\\pbwp9a.align\n",
      "path .\\data\\s1\\sgib9s.mpg\n",
      "fasd data\\alignments\\s1\\sgib9s.align\n",
      "path .\\data\\s1\\bbifzp.mpg\n",
      "fasd data\\alignments\\s1\\bbifzp.align\n",
      "path .\\data\\s1\\pwbyzp.mpg\n",
      "fasd data\\alignments\\s1\\pwbyzp.align\n",
      "path .\\data\\s1\\sbbb1a.mpg\n",
      "fasd data\\alignments\\s1\\sbbb1a.align\n",
      "path .\\data\\s1\\lwik8n.mpg\n",
      "fasd data\\alignments\\s1\\lwik8n.align\n",
      "path .\\data\\s1\\sgbp4n.mpg\n",
      "fasd data\\alignments\\s1\\sgbp4n.align\n",
      "path .\\data\\s1\\pwbk1s.mpg\n",
      "fasd data\\alignments\\s1\\pwbk1s.align\n",
      "path .\\data\\s1\\prbx2n.mpg\n",
      "fasd data\\alignments\\s1\\prbx2n.align\n",
      "path .\\data\\s1\\srau4p.mpg\n",
      "fasd data\\alignments\\s1\\srau4p.align\n",
      "path .\\data\\s1\\pbap1a.mpg\n",
      "fasd data\\alignments\\s1\\pbap1a.align\n",
      "path .\\data\\s1\\srbb4n.mpg\n",
      "fasd data\\alignments\\s1\\srbb4n.align\n",
      "path .\\data\\s1\\sbag9s.mpg\n",
      "fasd data\\alignments\\s1\\sbag9s.align\n",
      "path .\\data\\s1\\sria7s.mpg\n",
      "fasd data\\alignments\\s1\\sria7s.align\n",
      "path .\\data\\s1\\sbaa6p.mpg\n",
      "fasd data\\alignments\\s1\\sbaa6p.align\n",
      "path .\\data\\s1\\pbav3s.mpg\n",
      "fasd data\\alignments\\s1\\pbav3s.align\n",
      "path .\\data\\s1\\lbwe7a.mpg\n",
      "fasd data\\alignments\\s1\\lbwe7a.align\n",
      "path .\\data\\s1\\prii8p.mpg\n",
      "fasd data\\alignments\\s1\\prii8p.align\n",
      "path .\\data\\s1\\prbj6p.mpg\n",
      "fasd data\\alignments\\s1\\prbj6p.align\n",
      "path .\\data\\s1\\pwax4n.mpg\n",
      "fasd data\\alignments\\s1\\pwax4n.align\n",
      "path .\\data\\s1\\bgbb1s.mpg\n",
      "fasd data\\alignments\\s1\\bgbb1s.align\n",
      "path .\\data\\s1\\bwitzp.mpg\n",
      "fasd data\\alignments\\s1\\bwitzp.align\n",
      "path .\\data\\s1\\bbbs4n.mpg\n",
      "fasd data\\alignments\\s1\\bbbs4n.align\n",
      "path .\\data\\s1\\lwiy9a.mpg\n",
      "fasd data\\alignments\\s1\\lwiy9a.align\n",
      "path .\\data\\s1\\bbwg2p.mpg\n",
      "fasd data\\alignments\\s1\\bbwg2p.align\n",
      "path .\\data\\s1\\sgii5a.mpg\n",
      "fasd data\\alignments\\s1\\sgii5a.align\n",
      "path .\\data\\s1\\sgio6n.mpg\n",
      "fasd data\\alignments\\s1\\sgio6n.align\n",
      "path .\\data\\s1\\bgia4p.mpg\n",
      "fasd data\\alignments\\s1\\bgia4p.align\n",
      "path .\\data\\s1\\pgwl2p.mpg\n",
      "fasd data\\alignments\\s1\\pgwl2p.align\n",
      "path .\\data\\s1\\lwws7a.mpg\n",
      "fasd data\\alignments\\s1\\lwws7a.align\n",
      "path .\\data\\s1\\lgas4p.mpg\n",
      "fasd data\\alignments\\s1\\lgas4p.align\n",
      "path .\\data\\s1\\lwal2n.mpg\n",
      "fasd data\\alignments\\s1\\lwal2n.align\n",
      "path .\\data\\s1\\bbbs5s.mpg\n",
      "fasd data\\alignments\\s1\\bbbs5s.align\n",
      "path .\\data\\s1\\sgwd3a.mpg\n",
      "fasd data\\alignments\\s1\\sgwd3a.align\n",
      "path .\\data\\s1\\srwv1s.mpg\n",
      "fasd data\\alignments\\s1\\srwv1s.align\n",
      "path .\\data\\s1\\lwal3s.mpg\n",
      "fasd data\\alignments\\s1\\lwal3s.align\n",
      "path .\\data\\s1\\sbwh6n.mpg\n",
      "fasd data\\alignments\\s1\\sbwh6n.align\n",
      "path .\\data\\s1\\swbv5a.mpg\n",
      "fasd data\\alignments\\s1\\swbv5a.align\n",
      "path .\\data\\s1\\srih1s.mpg\n",
      "fasd data\\alignments\\s1\\srih1s.align\n",
      "path .\\data\\s1\\bbil3s.mpg\n",
      "fasd data\\alignments\\s1\\bbil3s.align\n",
      "path .\\data\\s1\\sgwx5a.mpg\n",
      "fasd data\\alignments\\s1\\sgwx5a.align\n",
      "path .\\data\\s1\\pgak2n.mpg\n",
      "fasd data\\alignments\\s1\\pgak2n.align\n",
      "path .\\data\\s1\\pgwl3a.mpg\n",
      "fasd data\\alignments\\s1\\pgwl3a.align\n",
      "path .\\data\\s1\\prwj9s.mpg\n",
      "fasd data\\alignments\\s1\\prwj9s.align\n",
      "path .\\data\\s1\\bwbn4p.mpg\n",
      "fasd data\\alignments\\s1\\bwbn4p.align\n",
      "path .\\data\\s1\\lgaf4n.mpg\n",
      "fasd data\\alignments\\s1\\lgaf4n.align\n",
      "path .\\data\\s1\\bgan5s.mpg\n",
      "fasd data\\alignments\\s1\\bgan5s.align\n",
      "path .\\data\\s1\\bgig6n.mpg\n",
      "fasd data\\alignments\\s1\\bgig6n.align\n",
      "path .\\data\\s1\\lgis1a.mpg\n",
      "fasd data\\alignments\\s1\\lgis1a.align\n",
      "path .\\data\\s1\\bris2n.mpg\n",
      "fasd data\\alignments\\s1\\bris2n.align\n",
      "path .\\data\\s1\\bgwu7s.mpg\n",
      "fasd data\\alignments\\s1\\bgwu7s.align\n",
      "path .\\data\\s1\\lwie7a.mpg\n",
      "fasd data\\alignments\\s1\\lwie7a.align\n",
      "path .\\data\\s1\\pbwc9s.mpg\n",
      "fasd data\\alignments\\s1\\pbwc9s.align\n",
      "path .\\data\\s1\\sbwozn.mpg\n",
      "fasd data\\alignments\\s1\\sbwozn.align\n",
      "path .\\data\\s1\\lbid5a.mpg\n",
      "fasd data\\alignments\\s1\\lbid5a.align\n",
      "path .\\data\\s1\\bras7s.mpg\n",
      "fasd data\\alignments\\s1\\bras7s.align\n",
      "path .\\data\\s1\\lwws5s.mpg\n",
      "fasd data\\alignments\\s1\\lwws5s.align\n",
      "path .\\data\\s1\\srah4n.mpg\n",
      "fasd data\\alignments\\s1\\srah4n.align\n",
      "path .\\data\\s1\\prajzn.mpg\n",
      "fasd data\\alignments\\s1\\prajzn.align\n",
      "path .\\data\\s1\\lbbk7a.mpg\n",
      "fasd data\\alignments\\s1\\lbbk7a.align\n",
      "path .\\data\\s1\\pwaqzn.mpg\n",
      "fasd data\\alignments\\s1\\pwaqzn.align\n",
      "path .\\data\\s1\\srah7a.mpg\n",
      "fasd data\\alignments\\s1\\srah7a.align\n",
      "path .\\data\\s1\\lbix6p.mpg\n",
      "fasd data\\alignments\\s1\\lbix6p.align\n",
      "path .\\data\\s1\\bbas3a.mpg\n",
      "fasd data\\alignments\\s1\\bbas3a.align\n",
      "path .\\data\\s1\\prip1s.mpg\n",
      "fasd data\\alignments\\s1\\prip1s.align\n",
      "path .\\data\\s1\\braf9s.mpg\n",
      "fasd data\\alignments\\s1\\braf9s.align\n",
      "path .\\data\\s1\\bgan6p.mpg\n",
      "fasd data\\alignments\\s1\\bgan6p.align\n",
      "path .\\data\\s1\\sgbv8n.mpg\n",
      "fasd data\\alignments\\s1\\sgbv8n.align\n",
      "path .\\data\\s1\\pwaj7s.mpg\n",
      "fasd data\\alignments\\s1\\pwaj7s.align\n",
      "path .\\data\\s1\\sbig6p.mpg\n",
      "fasd data\\alignments\\s1\\sbig6p.align\n",
      "path .\\data\\s1\\swwc7a.mpg\n",
      "fasd data\\alignments\\s1\\swwc7a.align\n",
      "path .\\data\\s1\\bgwizp.mpg\n",
      "fasd data\\alignments\\s1\\bgwizp.align\n",
      "path .\\data\\s1\\bgig9a.mpg\n",
      "fasd data\\alignments\\s1\\bgig9a.align\n",
      "path .\\data\\s1\\lbix5s.mpg\n",
      "fasd data\\alignments\\s1\\lbix5s.align\n",
      "path .\\data\\s1\\srwi4p.mpg\n",
      "fasd data\\alignments\\s1\\srwi4p.align\n",
      "path .\\data\\s1\\bbas1s.mpg\n",
      "fasd data\\alignments\\s1\\bbas1s.align\n",
      "path .\\data\\s1\\lwae9s.mpg\n",
      "fasd data\\alignments\\s1\\lwae9s.align\n",
      "path .\\data\\s1\\pgix7s.mpg\n",
      "fasd data\\alignments\\s1\\pgix7s.align\n",
      "path .\\data\\s1\\srwb8n.mpg\n",
      "fasd data\\alignments\\s1\\srwb8n.align\n",
      "path .\\data\\s1\\swiu4n.mpg\n",
      "fasd data\\alignments\\s1\\swiu4n.align\n",
      "path .\\data\\s1\\bwwh5a.mpg\n",
      "fasd data\\alignments\\s1\\bwwh5a.align\n",
      "path .\\data\\s1\\lrwl6p.mpg\n",
      "fasd data\\alignments\\s1\\lrwl6p.align\n",
      "path .\\data\\s1\\lbaq5s.mpg\n",
      "fasd data\\alignments\\s1\\lbaq5s.align\n",
      "path .\\data\\s1\\lrwf2p.mpg\n",
      "fasd data\\alignments\\s1\\lrwf2p.align\n",
      "path .\\data\\s1\\srwo9a.mpg\n",
      "fasd data\\alignments\\s1\\srwo9a.align\n",
      "path .\\data\\s1\\brwn1s.mpg\n",
      "fasd data\\alignments\\s1\\brwn1s.align\n",
      "path .\\data\\s1\\bbwm6p.mpg\n",
      "fasd data\\alignments\\s1\\bbwm6p.align\n",
      "path .\\data\\s1\\sgap2p.mpg\n",
      "fasd data\\alignments\\s1\\sgap2p.align\n",
      "path .\\data\\s1\\bwwn7s.mpg\n",
      "fasd data\\alignments\\s1\\bwwn7s.align\n",
      "path .\\data\\s1\\lrwr9s.mpg\n",
      "fasd data\\alignments\\s1\\lrwr9s.align\n",
      "path .\\data\\s1\\lrwz3s.mpg\n",
      "fasd data\\alignments\\s1\\lrwz3s.align\n",
      "path .\\data\\s1\\bbiz3a.mpg\n",
      "fasd data\\alignments\\s1\\bbiz3a.align\n",
      "path .\\data\\s1\\srah6p.mpg\n",
      "fasd data\\alignments\\s1\\srah6p.align\n",
      "path .\\data\\s1\\sbwb2n.mpg\n",
      "fasd data\\alignments\\s1\\sbwb2n.align\n",
      "path .\\data\\s1\\bwig3a.mpg\n",
      "fasd data\\alignments\\s1\\bwig3a.align\n",
      "path .\\data\\s1\\pgbk7s.mpg\n",
      "fasd data\\alignments\\s1\\pgbk7s.align\n",
      "path .\\data\\s1\\pric4p.mpg\n",
      "fasd data\\alignments\\s1\\pric4p.align\n",
      "path .\\data\\s1\\lrby9s.mpg\n",
      "fasd data\\alignments\\s1\\lrby9s.align\n",
      "path .\\data\\s1\\pbac2p.mpg\n",
      "fasd data\\alignments\\s1\\pbac2p.align\n",
      "path .\\data\\s1\\lgil7a.mpg\n",
      "fasd data\\alignments\\s1\\lgil7a.align\n",
      "path .\\data\\s1\\bgbu2n.mpg\n",
      "fasd data\\alignments\\s1\\bgbu2n.align\n",
      "path .\\data\\s1\\sgbj2p.mpg\n",
      "fasd data\\alignments\\s1\\sgbj2p.align\n",
      "path .\\data\\s1\\sgai8p.mpg\n",
      "fasd data\\alignments\\s1\\sgai8p.align\n",
      "path .\\data\\s1\\pbbjzp.mpg\n",
      "fasd data\\alignments\\s1\\pbbjzp.align\n",
      "path .\\data\\s1\\prwx6n.mpg\n",
      "fasd data\\alignments\\s1\\prwx6n.align\n",
      "path .\\data\\s1\\brbt1s.mpg\n",
      "fasd data\\alignments\\s1\\brbt1s.align\n",
      "path .\\data\\s1\\srah5s.mpg\n",
      "fasd data\\alignments\\s1\\srah5s.align\n",
      "path .\\data\\s1\\swai3a.mpg\n",
      "fasd data\\alignments\\s1\\swai3a.align\n",
      "path .\\data\\s1\\lbax9s.mpg\n",
      "fasd data\\alignments\\s1\\lbax9s.align\n",
      "path .\\data\\s1\\srih2p.mpg\n",
      "fasd data\\alignments\\s1\\srih2p.align\n",
      "path .\\data\\s1\\sbit4p.mpg\n",
      "fasd data\\alignments\\s1\\sbit4p.align\n",
      "path .\\data\\s1\\briz7s.mpg\n",
      "fasd data\\alignments\\s1\\briz7s.align\n",
      "path .\\data\\s1\\sban2n.mpg\n",
      "fasd data\\alignments\\s1\\sban2n.align\n",
      "path .\\data\\s1\\swib4p.mpg\n",
      "fasd data\\alignments\\s1\\swib4p.align\n",
      "path .\\data\\s1\\sgwd2p.mpg\n",
      "fasd data\\alignments\\s1\\sgwd2p.align\n",
      "path .\\data\\s1\\pgay3a.mpg\n",
      "fasd data\\alignments\\s1\\pgay3a.align\n",
      "path .\\data\\s1\\lriq9a.mpg\n",
      "fasd data\\alignments\\s1\\lriq9a.align\n",
      "path .\\data\\s1\\lrae4p.mpg\n",
      "fasd data\\alignments\\s1\\lrae4p.align\n",
      "path .\\data\\s1\\lrwszp.mpg\n",
      "fasd data\\alignments\\s1\\lrwszp.align\n",
      "path .\\data\\s1\\lwil1a.mpg\n",
      "fasd data\\alignments\\s1\\lwil1a.align\n",
      "path .\\data\\s1\\sbwo3a.mpg\n",
      "fasd data\\alignments\\s1\\sbwo3a.align\n",
      "path .\\data\\s1\\pwax7a.mpg\n",
      "fasd data\\alignments\\s1\\pwax7a.align\n",
      "path .\\data\\s1\\prbd3a.mpg\n",
      "fasd data\\alignments\\s1\\prbd3a.align\n",
      "path .\\data\\s1\\praxzp.mpg\n",
      "fasd data\\alignments\\s1\\praxzp.align\n",
      "path .\\data\\s1\\sbat8p.mpg\n",
      "fasd data\\alignments\\s1\\sbat8p.align\n",
      "path .\\data\\s1\\bwwu2p.mpg\n",
      "fasd data\\alignments\\s1\\bwwu2p.align\n",
      "path .\\data\\s1\\lwbl9a.mpg\n",
      "fasd data\\alignments\\s1\\lwbl9a.align\n",
      "path .\\data\\s1\\lbbezn.mpg\n",
      "fasd data\\alignments\\s1\\lbbezn.align\n",
      "path .\\data\\s1\\bwanzp.mpg\n",
      "fasd data\\alignments\\s1\\bwanzp.align\n",
      "path .\\data\\s1\\pbii2p.mpg\n",
      "fasd data\\alignments\\s1\\pbii2p.align\n",
      "path .\\data\\s1\\pgid7a.mpg\n",
      "fasd data\\alignments\\s1\\pgid7a.align\n",
      "path .\\data\\s1\\lrbr6p.mpg\n",
      "fasd data\\alignments\\s1\\lrbr6p.align\n",
      "path .\\data\\s1\\swwp5a.mpg\n",
      "fasd data\\alignments\\s1\\swwp5a.align\n",
      "path .\\data\\s1\\pgae1a.mpg\n",
      "fasd data\\alignments\\s1\\pgae1a.align\n",
      "path .\\data\\s1\\bbaz5s.mpg\n",
      "fasd data\\alignments\\s1\\bbaz5s.align\n",
      "path .\\data\\s1\\pbivzp.mpg\n",
      "fasd data\\alignments\\s1\\pbivzp.align\n",
      "path .\\data\\s1\\pgiq2n.mpg\n",
      "fasd data\\alignments\\s1\\pgiq2n.align\n",
      "path .\\data\\s1\\swbv2n.mpg\n",
      "fasd data\\alignments\\s1\\swbv2n.align\n",
      "path .\\data\\s1\\sran8n.mpg\n",
      "fasd data\\alignments\\s1\\sran8n.align\n",
      "path .\\data\\s1\\bgwu9a.mpg\n",
      "fasd data\\alignments\\s1\\bgwu9a.align\n",
      "path .\\data\\s1\\lrbe8p.mpg\n",
      "fasd data\\alignments\\s1\\lrbe8p.align\n",
      "path .\\data\\s1\\pbac3a.mpg\n",
      "fasd data\\alignments\\s1\\pbac3a.align\n",
      "path .\\data\\s1\\prbj7a.mpg\n",
      "fasd data\\alignments\\s1\\prbj7a.align\n",
      "path .\\data\\s1\\lrbe9a.mpg\n",
      "fasd data\\alignments\\s1\\lrbe9a.align\n",
      "path .\\data\\s1\\lgaz9a.mpg\n",
      "fasd data\\alignments\\s1\\lgaz9a.align\n",
      "path .\\data\\s1\\pwwk7a.mpg\n",
      "fasd data\\alignments\\s1\\pwwk7a.align\n",
      "path .\\data\\s1\\sbim9s.mpg\n",
      "fasd data\\alignments\\s1\\sbim9s.align\n",
      "path .\\data\\s1\\srbu6n.mpg\n",
      "fasd data\\alignments\\s1\\srbu6n.align\n",
      "path .\\data\\s1\\pbbp3s.mpg\n",
      "fasd data\\alignments\\s1\\pbbp3s.align\n",
      "path .\\data\\s1\\lbbr1a.mpg\n",
      "fasd data\\alignments\\s1\\lbbr1a.align\n",
      "path .\\data\\s1\\pgwr4n.mpg\n",
      "fasd data\\alignments\\s1\\pgwr4n.align\n",
      "path .\\data\\s1\\pbbv8p.mpg\n",
      "fasd data\\alignments\\s1\\pbbv8p.align\n",
      "path .\\data\\s1\\bwwb1a.mpg\n",
      "fasd data\\alignments\\s1\\bwwb1a.align\n",
      "path .\\data\\s1\\srwi5a.mpg\n",
      "fasd data\\alignments\\s1\\srwi5a.align\n",
      "path .\\data\\s1\\pwaj8p.mpg\n",
      "fasd data\\alignments\\s1\\pwaj8p.align\n",
      "path .\\data\\s1\\lgbs6n.mpg\n",
      "fasd data\\alignments\\s1\\lgbs6n.align\n",
      "path .\\data\\s1\\lgbm4p.mpg\n",
      "fasd data\\alignments\\s1\\lgbm4p.align\n",
      "path .\\data\\s1\\swib3s.mpg\n",
      "fasd data\\alignments\\s1\\swib3s.align\n",
      "path .\\data\\s1\\bgwh8n.mpg\n",
      "fasd data\\alignments\\s1\\bgwh8n.align\n",
      "path .\\data\\s1\\bginzn.mpg\n",
      "fasd data\\alignments\\s1\\bginzn.align\n",
      "path .\\data\\s1\\sbia3a.mpg\n",
      "fasd data\\alignments\\s1\\sbia3a.align\n",
      "path .\\data\\s1\\sgwd1s.mpg\n",
      "fasd data\\alignments\\s1\\sgwd1s.align\n",
      "path .\\data\\s1\\sbaa7a.mpg\n",
      "fasd data\\alignments\\s1\\sbaa7a.align\n",
      "path .\\data\\s1\\sgwj4n.mpg\n",
      "fasd data\\alignments\\s1\\sgwj4n.align\n",
      "path .\\data\\s1\\pripzn.mpg\n",
      "fasd data\\alignments\\s1\\pripzn.align\n",
      "path .\\data\\s1\\sbbu2p.mpg\n",
      "fasd data\\alignments\\s1\\sbbu2p.align\n",
      "path .\\data\\s1\\bbwm4n.mpg\n",
      "fasd data\\alignments\\s1\\bbwm4n.align\n",
      "path .\\data\\s1\\pbwx1s.mpg\n",
      "fasd data\\alignments\\s1\\pbwx1s.align\n",
      "path .\\data\\s1\\bbbm2p.mpg\n",
      "fasd data\\alignments\\s1\\bbbm2p.align\n",
      "path .\\data\\s1\\swao7a.mpg\n",
      "fasd data\\alignments\\s1\\swao7a.align\n",
      "path .\\data\\s1\\pbbv6n.mpg\n",
      "fasd data\\alignments\\s1\\pbbv6n.align\n",
      "path .\\data\\s1\\sbwb3s.mpg\n",
      "fasd data\\alignments\\s1\\sbwb3s.align\n",
      "path .\\data\\s1\\praj1s.mpg\n",
      "fasd data\\alignments\\s1\\praj1s.align\n",
      "path .\\data\\s1\\prbx5a.mpg\n",
      "fasd data\\alignments\\s1\\prbx5a.align\n",
      "path .\\data\\s1\\sbbh5a.mpg\n",
      "fasd data\\alignments\\s1\\sbbh5a.align\n",
      "path .\\data\\s1\\lbby4p.mpg\n",
      "fasd data\\alignments\\s1\\lbby4p.align\n",
      "path .\\data\\s1\\pgwe7s.mpg\n",
      "fasd data\\alignments\\s1\\pgwe7s.align\n",
      "path .\\data\\s1\\pwad3s.mpg\n"
     ]
    }
   ],
   "source": [
    "sample = test_data.next()"
   ]
  },
  {
   "cell_type": "code",
   "execution_count": 66,
   "id": "27d600c9-325a-4c8c-9a70-ec3040f1c188",
   "metadata": {
    "tags": []
   },
   "outputs": [
    {
     "name": "stdout",
     "output_type": "stream",
     "text": [
      "path .\\data\\s1\\bbwg2p.mpg\n",
      "path .\\data\\s1\\sgwx4p.mpg\n",
      "path .\\data\\s1\\lgwt3a.mpg\n",
      "1/1 [==============================] - 2s 2s/step\n"
     ]
    }
   ],
   "source": [
    "y_hat = model.predict(sample[0])"
   ]
  },
  {
   "cell_type": "code",
   "execution_count": 67,
   "id": "b062278c-f3d9-43fa-b43d-23903754f705",
   "metadata": {
    "tags": []
   },
   "outputs": [
    {
     "name": "stdout",
     "output_type": "stream",
     "text": [
      "~~~~~~~~~~~~~~~~~~~~~~~~~~~~~~~~~~~~~~~~~~~~~~~~~~~~~~~~~~~~~~~~~~~~~~~~~~~~~~~~~~~~~~~~~~~~~~~~~~~~ REAL TEXT\n"
     ]
    },
    {
     "data": {
      "text/plain": [
       "[<tf.Tensor: shape=(), dtype=string, numpy=b'place white with e one soon'>,\n",
       " <tf.Tensor: shape=(), dtype=string, numpy=b'lay white with z nine soon'>]"
      ]
     },
     "execution_count": 67,
     "metadata": {},
     "output_type": "execute_result"
    }
   ],
   "source": [
    "print('~'*100, 'REAL TEXT')\n",
    "[tf.strings.reduce_join([num_to_char(word) for word in sentence]) for sentence in sample[1]]"
   ]
  },
  {
   "cell_type": "code",
   "execution_count": 68,
   "id": "fcab923f-9ab8-4702-b4b8-49419f7fb260",
   "metadata": {
    "tags": []
   },
   "outputs": [],
   "source": [
    "decoded = tf.keras.backend.ctc_decode(y_hat, input_length=[75, 75], greedy=True)[0][0].numpy()"
   ]
  },
  {
   "cell_type": "code",
   "execution_count": 69,
   "id": "ecf1fb57-f9a8-4be6-a3a6-c494ec1bf15d",
   "metadata": {
    "tags": []
   },
   "outputs": [
    {
     "name": "stdout",
     "output_type": "stream",
     "text": [
      "~~~~~~~~~~~~~~~~~~~~~~~~~~~~~~~~~~~~~~~~~~~~~~~~~~~~~~~~~~~~~~~~~~~~~~~~~~~~~~~~~~~~~~~~~~~~~~~~~~~~ PREDICTIONS\n"
     ]
    },
    {
     "data": {
      "text/plain": [
       "[<tf.Tensor: shape=(), dtype=string, numpy=b'place white with one soon'>,\n",
       " <tf.Tensor: shape=(), dtype=string, numpy=b'lay white with z nine soon'>]"
      ]
     },
     "execution_count": 69,
     "metadata": {},
     "output_type": "execute_result"
    }
   ],
   "source": [
    "print('~'*100, 'PREDICTIONS')\n",
    "[tf.strings.reduce_join([num_to_char(word) for word in sentence]) for sentence in decoded]"
   ]
  },
  {
   "cell_type": "markdown",
   "id": "7726678c-3c4d-422c-94be-436fcb8910fc",
   "metadata": {},
   "source": [
    "## Test on a Video"
   ]
  },
  {
   "cell_type": "code",
   "execution_count": 140,
   "id": "09bc86e5-28d7-4a97-9923-d737c5ae6539",
   "metadata": {
    "tags": []
   },
   "outputs": [
    {
     "data": {
      "text/plain": [
       "<tf.Tensor: shape=(), dtype=string, numpy=b'.\\\\data\\\\s1\\\\bras6n.mpg'>"
      ]
     },
     "execution_count": 140,
     "metadata": {},
     "output_type": "execute_result"
    }
   ],
   "source": [
    "tf.convert_to_tensor('.\\\\data\\\\s1\\\\bras6n.mpg')"
   ]
  },
  {
   "cell_type": "code",
   "execution_count": 138,
   "id": "886202de-e10d-456c-9afb-09601805e0f2",
   "metadata": {
    "tags": []
   },
   "outputs": [
    {
     "name": "stdout",
     "output_type": "stream",
     "text": [
      "path .\\data\\s1\\bras6n.mpg\n",
      "fasd data\\alignments\\s1\\bras6n.align\n"
     ]
    }
   ],
   "source": [
    "sample = load_data(tf.convert_to_tensor('.\\\\data\\\\s1\\\\bras6n.mpg'))\n"
   ]
  },
  {
   "cell_type": "code",
   "execution_count": 95,
   "id": "5a986cc1-5fcb-48ab-9483-34d5fea53b3b",
   "metadata": {
    "tags": []
   },
   "outputs": [
    {
     "name": "stdout",
     "output_type": "stream",
     "text": [
      "~~~~~~~~~~~~~~~~~~~~~~~~~~~~~~~~~~~~~~~~~~~~~~~~~~~~~~~~~~~~~~~~~~~~~~~~~~~~~~~~~~~~~~~~~~~~~~~~~~~~ REAL TEXT\n"
     ]
    },
    {
     "data": {
      "text/plain": [
       "[<tf.Tensor: shape=(), dtype=string, numpy=b'bin red at s six now'>]"
      ]
     },
     "execution_count": 95,
     "metadata": {},
     "output_type": "execute_result"
    }
   ],
   "source": [
    "print('~'*100, 'REAL TEXT')\n",
    "[tf.strings.reduce_join([num_to_char(word) for word in sentence]) for sentence in [sample[1]]]"
   ]
  },
  {
   "cell_type": "code",
   "execution_count": 78,
   "id": "8dc781b3-0949-4703-9b0e-c6759c4ee4e4",
   "metadata": {
    "tags": []
   },
   "outputs": [
    {
     "name": "stdout",
     "output_type": "stream",
     "text": [
      "1/1 [==============================] - 0s 184ms/step\n"
     ]
    }
   ],
   "source": [
    "y_hat = model.predict(tf.expand_dims(sample[0], axis=0))"
   ]
  },
  {
   "cell_type": "code",
   "execution_count": 79,
   "id": "85e75270-ce86-4077-8f74-8f238947ce65",
   "metadata": {
    "tags": []
   },
   "outputs": [],
   "source": [
    "decoded = tf.keras.backend.ctc_decode(y_hat, input_length=[75], greedy=True)[0][0].numpy()"
   ]
  },
  {
   "cell_type": "code",
   "execution_count": 80,
   "id": "07b135a3-18aa-4181-928a-bf95c572ff7b",
   "metadata": {
    "tags": []
   },
   "outputs": [
    {
     "name": "stdout",
     "output_type": "stream",
     "text": [
      "~~~~~~~~~~~~~~~~~~~~~~~~~~~~~~~~~~~~~~~~~~~~~~~~~~~~~~~~~~~~~~~~~~~~~~~~~~~~~~~~~~~~~~~~~~~~~~~~~~~~ PREDICTIONS\n"
     ]
    },
    {
     "data": {
      "text/plain": [
       "[<tf.Tensor: shape=(), dtype=string, numpy=b'bin red at s six now'>]"
      ]
     },
     "execution_count": 80,
     "metadata": {},
     "output_type": "execute_result"
    }
   ],
   "source": [
    "print('~'*100, 'PREDICTIONS')\n",
    "[tf.strings.reduce_join([num_to_char(word) for word in sentence]) for sentence in decoded]"
   ]
  },
  {
   "cell_type": "code",
   "execution_count": null,
   "id": "13454c5a-576f-4c55-9803-b6f0645f95de",
   "metadata": {},
   "outputs": [],
   "source": []
  },
  {
   "cell_type": "code",
   "execution_count": null,
   "id": "316a9085-2575-47b0-b48e-ba13c0119aa7",
   "metadata": {},
   "outputs": [],
   "source": []
  }
 ],
 "metadata": {
  "kernelspec": {
   "display_name": "Python 3 (ipykernel)",
   "language": "python",
   "name": "python3"
  },
  "language_info": {
   "codemirror_mode": {
    "name": "ipython",
    "version": 3
   },
   "file_extension": ".py",
   "mimetype": "text/x-python",
   "name": "python",
   "nbconvert_exporter": "python",
   "pygments_lexer": "ipython3",
   "version": "3.9.17"
  }
 },
 "nbformat": 4,
 "nbformat_minor": 5
}
