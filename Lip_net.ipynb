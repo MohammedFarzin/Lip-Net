{
 "cells": [
  {
   "cell_type": "markdown",
   "id": "af844996",
   "metadata": {},
   "source": [
    "## Importing libraries"
   ]
  },
  {
   "cell_type": "code",
   "execution_count": 1,
   "id": "c79489d5",
   "metadata": {
    "tags": []
   },
   "outputs": [],
   "source": [
    "import os\n",
    "import cv2\n",
    "import tensorflow as tf\n",
    "import numpy as np\n",
    "from typing import List\n",
    "import matplotlib.pyplot as plt\n",
    "import imageio"
   ]
  },
  {
   "cell_type": "code",
   "execution_count": 2,
   "id": "15dc0db2",
   "metadata": {
    "tags": []
   },
   "outputs": [
    {
     "data": {
      "text/plain": [
       "[PhysicalDevice(name='/physical_device:GPU:0', device_type='GPU')]"
      ]
     },
     "execution_count": 2,
     "metadata": {},
     "output_type": "execute_result"
    }
   ],
   "source": [
    "physical_devices = tf.config.list_physical_devices('GPU')\n",
    "try:\n",
    "    tf.config.experimental.set_memory_growth(physical_devices[0], True)\n",
    "except:\n",
    "    pass\n",
    "physical_devices"
   ]
  },
  {
   "cell_type": "markdown",
   "id": "d51654f9",
   "metadata": {
    "tags": []
   },
   "source": [
    "## Build data loading functions"
   ]
  },
  {
   "cell_type": "code",
   "execution_count": 3,
   "id": "5bf0312a",
   "metadata": {
    "scrolled": true,
    "tags": []
   },
   "outputs": [],
   "source": [
    "# import gdown\n",
    "# url = 'https://drive.google.com/uc?id=1YlvpDLix3S-U8fd-gqRwPcWXAXm8JwjL'\n",
    "# output = 'data.zip'\n",
    "# gdown.download(url, output, quiet=False)\n",
    "# gdown.extractall('data.zip')"
   ]
  },
  {
   "cell_type": "code",
   "execution_count": 4,
   "id": "b1c8308b",
   "metadata": {
    "tags": []
   },
   "outputs": [],
   "source": [
    "def load_video(path:str) -> List[float]:\n",
    "    cap = cv2.VideoCapture(path)\n",
    "    frames = []\n",
    "    for _ in range(int(cap.get(cv2.CAP_PROP_FRAME_COUNT))):\n",
    "        ret, frame = cap.read()\n",
    "        frame = tf.image.rgb_to_grayscale(frame)\n",
    "        frames.append(frame[190:236, 80:220, :])\n",
    "    cap.release()\n",
    "    \n",
    "    mean = tf.math.reduce_mean(frames)\n",
    "    std = tf.math.reduce_std(tf.cast(frames, tf.float32))\n",
    "    return tf.cast((frames - mean), tf.float32) / std"
   ]
  },
  {
   "cell_type": "code",
   "execution_count": 5,
   "id": "9bd72395-54bf-4648-9655-d9e2760678f4",
   "metadata": {
    "tags": []
   },
   "outputs": [
    {
     "data": {
      "text/plain": [
       "['a',\n",
       " 'b',\n",
       " 'c',\n",
       " 'd',\n",
       " 'e',\n",
       " 'f',\n",
       " 'g',\n",
       " 'h',\n",
       " 'i',\n",
       " 'j',\n",
       " 'k',\n",
       " 'l',\n",
       " 'm',\n",
       " 'n',\n",
       " 'o',\n",
       " 'p',\n",
       " 'q',\n",
       " 'r',\n",
       " 's',\n",
       " 't',\n",
       " 'u',\n",
       " 'v',\n",
       " 'w',\n",
       " 'x',\n",
       " 'y',\n",
       " 'z',\n",
       " '?',\n",
       " '!',\n",
       " '1',\n",
       " '2',\n",
       " '3',\n",
       " '4',\n",
       " '5',\n",
       " '6',\n",
       " '7',\n",
       " '8',\n",
       " '9',\n",
       " ' ']"
      ]
     },
     "execution_count": 5,
     "metadata": {},
     "output_type": "execute_result"
    }
   ],
   "source": [
    "vocab = [x for x in 'abcdefghijklmnopqrstuvwxyz?!123456789 ']\n",
    "vocab"
   ]
  },
  {
   "cell_type": "code",
   "execution_count": 6,
   "id": "cc21d7b9-8b44-44c2-95c8-84880758fb34",
   "metadata": {
    "tags": []
   },
   "outputs": [
    {
     "name": "stdout",
     "output_type": "stream",
     "text": [
      "The vocabulary is : ['', 'a', 'b', 'c', 'd', 'e', 'f', 'g', 'h', 'i', 'j', 'k', 'l', 'm', 'n', 'o', 'p', 'q', 'r', 's', 't', 'u', 'v', 'w', 'x', 'y', 'z', '?', '!', '1', '2', '3', '4', '5', '6', '7', '8', '9', ' '](size =39 )\n"
     ]
    }
   ],
   "source": [
    "char_to_num = tf.keras.layers.StringLookup(vocabulary=vocab, oov_token=\"\")\n",
    "num_to_char = tf.keras.layers.StringLookup(vocabulary=char_to_num.get_vocabulary(),\n",
    "                                           oov_token=\"\",\n",
    "                                           invert=True\n",
    "                                          )\n",
    "\n",
    "print(f\"The vocabulary is : {char_to_num.get_vocabulary()}\"\n",
    "      f\"(size ={char_to_num.vocabulary_size()} )\")"
   ]
  },
  {
   "cell_type": "code",
   "execution_count": 7,
   "id": "eaf7d6d7-e54d-4681-b94c-25d692a6213c",
   "metadata": {
    "jupyter": {
     "source_hidden": true
    },
    "tags": []
   },
   "outputs": [
    {
     "data": {
      "text/plain": [
       "<tf.Tensor: shape=(4,), dtype=int64, numpy=array([1, 4, 5, 7], dtype=int64)>"
      ]
     },
     "execution_count": 7,
     "metadata": {},
     "output_type": "execute_result"
    }
   ],
   "source": [
    "char_to_num(['a', 'd', 'e', 'g'])"
   ]
  },
  {
   "cell_type": "code",
   "execution_count": 8,
   "id": "3a46794b-fe17-409e-932e-eeea35cbb8b5",
   "metadata": {
    "jupyter": {
     "source_hidden": true
    },
    "tags": []
   },
   "outputs": [
    {
     "data": {
      "text/plain": [
       "<tf.Tensor: shape=(4,), dtype=string, numpy=array([b'a', b'd', b'e', b'g'], dtype=object)>"
      ]
     },
     "execution_count": 8,
     "metadata": {},
     "output_type": "execute_result"
    }
   ],
   "source": [
    "num_to_char([1, 4, 5, 7])"
   ]
  },
  {
   "cell_type": "code",
   "execution_count": 9,
   "id": "f6dbdce4-c9dd-40be-bd7c-8ad75bd7b203",
   "metadata": {
    "tags": []
   },
   "outputs": [],
   "source": [
    "def load_alignments(path:str) -> List[str]:\n",
    "    with open(path, 'r') as f:\n",
    "        lines = f.readlines()\n",
    "    tokens = []\n",
    "    for line in lines:\n",
    "        line = line.split()\n",
    "        if line[2] != 'sil':\n",
    "            tokens = [*tokens, ' ', line[2]]\n",
    "    return char_to_num(tf.reshape(tf.strings.unicode_split(tokens, input_encoding='UTF-8'),(-1)))[1:]"
   ]
  },
  {
   "cell_type": "code",
   "execution_count": 10,
   "id": "c5e3e6b6-557a-4b60-85b2-73bab709d233",
   "metadata": {
    "tags": []
   },
   "outputs": [],
   "source": [
    "def load_data(path: str):\n",
    "    path = bytes.decode(path.numpy())\n",
    "    print('path', path)\n",
    "    file_name = path.split('\\\\')[-1].split('.')[0]\n",
    "    video_path = os.path.join('data', 's1', f'{file_name}.mpg')\n",
    "    alignment_path = os.path.join('data', 'alignments', 's1', f'{file_name}.align')\n",
    "    frames = load_video(video_path)\n",
    "    alignments = load_alignments(alignment_path)\n",
    "    return frames, alignments"
   ]
  },
  {
   "cell_type": "code",
   "execution_count": 11,
   "id": "11b9badf-a29a-4ad4-8c00-9cb7cdab6cfa",
   "metadata": {},
   "outputs": [],
   "source": [
    "path = \".\\\\data\\\\s1\\\\bbaf2n.mpg\""
   ]
  },
  {
   "cell_type": "code",
   "execution_count": 12,
   "id": "f3dbf884-2f2f-4f53-a06e-9f8e80397131",
   "metadata": {
    "tags": []
   },
   "outputs": [
    {
     "data": {
      "text/plain": [
       "''"
      ]
     },
     "execution_count": 12,
     "metadata": {},
     "output_type": "execute_result"
    }
   ],
   "source": [
    "tf.convert_to_tensor(path).numpy().decode('utf-8').split('/')[-1].split('.')[0]"
   ]
  },
  {
   "cell_type": "code",
   "execution_count": 13,
   "id": "e2b19a3f-4311-4bf9-ab51-cc0ad83b99e9",
   "metadata": {
    "scrolled": true,
    "tags": []
   },
   "outputs": [
    {
     "name": "stdout",
     "output_type": "stream",
     "text": [
      "path .\\data\\s1\\bbaf2n.mpg\n"
     ]
    }
   ],
   "source": [
    "frames, alignments = load_data(tf.convert_to_tensor(path))"
   ]
  },
  {
   "cell_type": "code",
   "execution_count": 14,
   "id": "724bfa60-0822-4cf3-858c-7f39a0172aa3",
   "metadata": {
    "scrolled": true,
    "tags": []
   },
   "outputs": [
    {
     "data": {
      "text/plain": [
       "<tf.Tensor: shape=(46, 140, 1), dtype=float32, numpy=\n",
       "array([[[1.4991663 ],\n",
       "        [1.4991663 ],\n",
       "        [1.4991663 ],\n",
       "        ...,\n",
       "        [0.3373124 ],\n",
       "        [0.29983324],\n",
       "        [0.3373124 ]],\n",
       "\n",
       "       [[1.4991663 ],\n",
       "        [1.4991663 ],\n",
       "        [1.4991663 ],\n",
       "        ...,\n",
       "        [0.3373124 ],\n",
       "        [0.3373124 ],\n",
       "        [0.3373124 ]],\n",
       "\n",
       "       [[1.4616871 ],\n",
       "        [1.4616871 ],\n",
       "        [1.4242079 ],\n",
       "        ...,\n",
       "        [0.3373124 ],\n",
       "        [0.3373124 ],\n",
       "        [0.3373124 ]],\n",
       "\n",
       "       ...,\n",
       "\n",
       "       [[0.97445804],\n",
       "        [0.97445804],\n",
       "        [0.97445804],\n",
       "        ...,\n",
       "        [0.        ],\n",
       "        [0.        ],\n",
       "        [0.        ]],\n",
       "\n",
       "       [[0.97445804],\n",
       "        [0.97445804],\n",
       "        [0.97445804],\n",
       "        ...,\n",
       "        [0.        ],\n",
       "        [0.        ],\n",
       "        [9.557184  ]],\n",
       "\n",
       "       [[0.97445804],\n",
       "        [0.97445804],\n",
       "        [0.97445804],\n",
       "        ...,\n",
       "        [0.        ],\n",
       "        [9.557184  ],\n",
       "        [9.557184  ]]], dtype=float32)>"
      ]
     },
     "execution_count": 14,
     "metadata": {},
     "output_type": "execute_result"
    }
   ],
   "source": [
    "frames[38]"
   ]
  },
  {
   "cell_type": "code",
   "execution_count": 15,
   "id": "9729a278-9cd6-41c3-aeea-965f3d019453",
   "metadata": {
    "tags": []
   },
   "outputs": [
    {
     "data": {
      "text/plain": [
       "<matplotlib.image.AxesImage at 0x20a88f2f520>"
      ]
     },
     "execution_count": 15,
     "metadata": {},
     "output_type": "execute_result"
    },
    {
     "data": {
      "image/png": "[encoded data removed]",
      "text/plain": [
       "<Figure size 640x480 with 1 Axes>"
      ]
     },
     "metadata": {},
     "output_type": "display_data"
    }
   ],
   "source": [
    "plt.imshow(frames[38])"
   ]
  },
  {
   "cell_type": "code",
   "execution_count": 16,
   "id": "8683866b-41fb-4757-9af3-f3dd341f5ff4",
   "metadata": {
    "tags": []
   },
   "outputs": [
    {
     "data": {
      "text/plain": [
       "<tf.Tensor: shape=(21,), dtype=int64, numpy=\n",
       "array([ 2,  9, 14, 38,  2, 12, 21,  5, 38,  1, 20, 38,  6, 38, 20, 23, 15,\n",
       "       38, 14, 15, 23], dtype=int64)>"
      ]
     },
     "execution_count": 16,
     "metadata": {},
     "output_type": "execute_result"
    }
   ],
   "source": [
    "alignments"
   ]
  },
  {
   "cell_type": "code",
   "execution_count": 17,
   "id": "6bb105c2-8447-4501-b96f-d6323e87192d",
   "metadata": {
    "tags": []
   },
   "outputs": [
    {
     "data": {
      "text/plain": [
       "<tf.Tensor: shape=(), dtype=string, numpy=b'bin blue at f two now'>"
      ]
     },
     "execution_count": 17,
     "metadata": {},
     "output_type": "execute_result"
    }
   ],
   "source": [
    "tf.strings.reduce_join(([bytes.decode(x) for x in num_to_char(alignments.numpy()).numpy()]))"
   ]
  },
  {
   "cell_type": "code",
   "execution_count": 18,
   "id": "3ea9ee21-1177-470f-ae0b-d69f11e4be14",
   "metadata": {
    "tags": []
   },
   "outputs": [],
   "source": [
    "def mappable_function(path:str) -> List[str]:\n",
    "    result = tf.py_function(load_data, [path], (tf.float32, tf.int64))\n",
    "    return result"
   ]
  },
  {
   "cell_type": "markdown",
   "id": "48ff1a65-07c8-4625-8390-5e75645bd930",
   "metadata": {
    "tags": []
   },
   "source": [
    "## Data Pipeline"
   ]
  },
  {
   "cell_type": "code",
   "execution_count": 19,
   "id": "3fcefcc0-d311-4ead-b5a2-b7a409cdbbe1",
   "metadata": {
    "tags": []
   },
   "outputs": [],
   "source": [
    "data = tf.data.Dataset.list_files('./data/s1/*.mpg')\n",
    "data = data.shuffle(500)\n",
    "data = data.map(mappable_function)\n",
    "data = data.padded_batch(2, padded_shapes=([75, None, None, None], [40]))\n",
    "data = data.prefetch(tf.data.AUTOTUNE)"
   ]
  },
  {
   "cell_type": "code",
   "execution_count": 20,
   "id": "79ddb0b5-1f1b-404e-93e5-819e741b7b85",
   "metadata": {
    "scrolled": true,
    "tags": []
   },
   "outputs": [
    {
     "name": "stdout",
     "output_type": "stream",
     "text": [
      "path .\\data\\s1\\brwt5s.mpg\n",
      "path .\\data\\s1\\pgbk8p.mpg\n",
      "path .\\data\\s1\\lrwl5s.mpg\n"
     ]
    }
   ],
   "source": [
    "frames, alignment = data.as_numpy_iterator().next()"
   ]
  },
  {
   "cell_type": "code",
   "execution_count": 21,
   "id": "fcad6e0c-8495-4fe3-b1b9-0a8eef3d32ef",
   "metadata": {
    "tags": []
   },
   "outputs": [
    {
     "data": {
      "text/plain": [
       "<matplotlib.image.AxesImage at 0x20a90a573d0>"
      ]
     },
     "execution_count": 21,
     "metadata": {},
     "output_type": "execute_result"
    },
    {
     "data": {
      "image/png": "[encoded data removed]",
      "text/plain": [
       "<Figure size 640x480 with 1 Axes>"
      ]
     },
     "metadata": {},
     "output_type": "display_data"
    }
   ],
   "source": [
    "plt.imshow(frames[0][40])"
   ]
  },
  {
   "cell_type": "code",
   "execution_count": 22,
   "id": "56d8518d-e30f-495f-803c-2316087a09dc",
   "metadata": {
    "tags": []
   },
   "outputs": [
    {
     "data": {
      "text/plain": [
       "array([[ 2,  9, 14, 38, 18,  5,  4, 38, 23,  9, 20,  8, 38, 20, 38,  6,\n",
       "         9, 22,  5, 38, 19, 15, 15, 14,  0,  0,  0,  0,  0,  0,  0,  0,\n",
       "         0,  0,  0,  0,  0,  0,  0,  0],\n",
       "       [16, 12,  1,  3,  5, 38,  7, 18,  5,  5, 14, 38,  2, 25, 38, 11,\n",
       "        38,  5,  9,  7,  8, 20, 38, 16, 12,  5,  1, 19,  5,  0,  0,  0,\n",
       "         0,  0,  0,  0,  0,  0,  0,  0]], dtype=int64)"
      ]
     },
     "execution_count": 22,
     "metadata": {},
     "output_type": "execute_result"
    }
   ],
   "source": [
    "alignment"
   ]
  },
  {
   "cell_type": "code",
   "execution_count": 23,
   "id": "5bb07e7c-281b-44b6-aa8e-c7d46c7064cd",
   "metadata": {
    "scrolled": true,
    "tags": []
   },
   "outputs": [
    {
     "name": "stdout",
     "output_type": "stream",
     "text": [
      "path .\\data\\s1\\pbiu8n.mpg\n",
      "path .\\data\\s1\\brba1a.mpg\n",
      "path .\\data\\s1\\pbwp6n.mpg\n"
     ]
    },
    {
     "data": {
      "text/plain": [
       "array([[[[[1.3860804 ],\n",
       "          [1.5015872 ],\n",
       "          [1.4630849 ],\n",
       "          ...,\n",
       "          [0.26951563],\n",
       "          [0.30801788],\n",
       "          [0.30801788]],\n",
       "\n",
       "         [[1.5015872 ],\n",
       "          [1.5400894 ],\n",
       "          [1.4630849 ],\n",
       "          ...,\n",
       "          [0.26951563],\n",
       "          [0.30801788],\n",
       "          [0.30801788]],\n",
       "\n",
       "         [[1.5015872 ],\n",
       "          [1.5015872 ],\n",
       "          [1.4630849 ],\n",
       "          ...,\n",
       "          [0.3465201 ],\n",
       "          [0.30801788],\n",
       "          [0.30801788]],\n",
       "\n",
       "         ...,\n",
       "\n",
       "         [[1.0395603 ],\n",
       "          [1.0010581 ],\n",
       "          [1.0010581 ],\n",
       "          ...,\n",
       "          [0.03850223],\n",
       "          [0.03850223],\n",
       "          [0.03850223]],\n",
       "\n",
       "         [[1.0010581 ],\n",
       "          [1.0010581 ],\n",
       "          [1.0010581 ],\n",
       "          ...,\n",
       "          [0.03850223],\n",
       "          [0.03850223],\n",
       "          [0.03850223]],\n",
       "\n",
       "         [[1.0010581 ],\n",
       "          [1.0010581 ],\n",
       "          [1.0010581 ],\n",
       "          ...,\n",
       "          [0.03850223],\n",
       "          [0.03850223],\n",
       "          [0.        ]]],\n",
       "\n",
       "\n",
       "        [[[1.5785916 ],\n",
       "          [1.5785916 ],\n",
       "          [1.5015872 ],\n",
       "          ...,\n",
       "          [0.26951563],\n",
       "          [0.19251117],\n",
       "          [0.19251117]],\n",
       "\n",
       "         [[1.5785916 ],\n",
       "          [1.5400894 ],\n",
       "          [1.5015872 ],\n",
       "          ...,\n",
       "          [0.26951563],\n",
       "          [0.19251117],\n",
       "          [0.19251117]],\n",
       "\n",
       "         [[1.5015872 ],\n",
       "          [1.5015872 ],\n",
       "          [1.4245826 ],\n",
       "          ...,\n",
       "          [0.30801788],\n",
       "          [0.3465201 ],\n",
       "          [0.30801788]],\n",
       "\n",
       "         ...,\n",
       "\n",
       "         [[1.0010581 ],\n",
       "          [0.9625558 ],\n",
       "          [0.9625558 ],\n",
       "          ...,\n",
       "          [0.03850223],\n",
       "          [0.03850223],\n",
       "          [0.        ]],\n",
       "\n",
       "         [[0.9625558 ],\n",
       "          [0.9625558 ],\n",
       "          [0.9625558 ],\n",
       "          ...,\n",
       "          [0.03850223],\n",
       "          [0.        ],\n",
       "          [0.        ]],\n",
       "\n",
       "         [[0.9625558 ],\n",
       "          [0.9625558 ],\n",
       "          [0.9625558 ],\n",
       "          ...,\n",
       "          [0.        ],\n",
       "          [0.        ],\n",
       "          [0.        ]]],\n",
       "\n",
       "\n",
       "        [[[1.5785916 ],\n",
       "          [1.5785916 ],\n",
       "          [1.5015872 ],\n",
       "          ...,\n",
       "          [0.30801788],\n",
       "          [0.30801788],\n",
       "          [0.30801788]],\n",
       "\n",
       "         [[1.5785916 ],\n",
       "          [1.5400894 ],\n",
       "          [1.5015872 ],\n",
       "          ...,\n",
       "          [0.30801788],\n",
       "          [0.30801788],\n",
       "          [0.30801788]],\n",
       "\n",
       "         [[1.5015872 ],\n",
       "          [1.5015872 ],\n",
       "          [1.3860804 ],\n",
       "          ...,\n",
       "          [0.26951563],\n",
       "          [0.30801788],\n",
       "          [0.2310134 ]],\n",
       "\n",
       "         ...,\n",
       "\n",
       "         [[1.0010581 ],\n",
       "          [0.9625558 ],\n",
       "          [0.9625558 ],\n",
       "          ...,\n",
       "          [0.        ],\n",
       "          [0.03850223],\n",
       "          [0.        ]],\n",
       "\n",
       "         [[0.9625558 ],\n",
       "          [0.9625558 ],\n",
       "          [0.9625558 ],\n",
       "          ...,\n",
       "          [0.        ],\n",
       "          [0.        ],\n",
       "          [0.        ]],\n",
       "\n",
       "         [[0.9625558 ],\n",
       "          [0.9625558 ],\n",
       "          [0.9625558 ],\n",
       "          ...,\n",
       "          [0.        ],\n",
       "          [9.818069  ],\n",
       "          [9.818069  ]]],\n",
       "\n",
       "\n",
       "        ...,\n",
       "\n",
       "\n",
       "        [[[1.5015872 ],\n",
       "          [1.5785916 ],\n",
       "          [1.5400894 ],\n",
       "          ...,\n",
       "          [0.26951563],\n",
       "          [0.30801788],\n",
       "          [0.30801788]],\n",
       "\n",
       "         [[1.4630849 ],\n",
       "          [1.5785916 ],\n",
       "          [1.5785916 ],\n",
       "          ...,\n",
       "          [0.26951563],\n",
       "          [0.30801788],\n",
       "          [0.30801788]],\n",
       "\n",
       "         [[1.3860804 ],\n",
       "          [1.3860804 ],\n",
       "          [1.4245826 ],\n",
       "          ...,\n",
       "          [0.30801788],\n",
       "          [0.30801788],\n",
       "          [0.30801788]],\n",
       "\n",
       "         ...,\n",
       "\n",
       "         [[1.0780625 ],\n",
       "          [1.0395603 ],\n",
       "          [1.0395603 ],\n",
       "          ...,\n",
       "          [0.03850223],\n",
       "          [0.03850223],\n",
       "          [0.03850223]],\n",
       "\n",
       "         [[1.0395603 ],\n",
       "          [1.0395603 ],\n",
       "          [1.0395603 ],\n",
       "          ...,\n",
       "          [0.03850223],\n",
       "          [0.03850223],\n",
       "          [0.        ]],\n",
       "\n",
       "         [[1.0395603 ],\n",
       "          [1.0395603 ],\n",
       "          [1.0395603 ],\n",
       "          ...,\n",
       "          [0.03850223],\n",
       "          [0.        ],\n",
       "          [0.        ]]],\n",
       "\n",
       "\n",
       "        [[[1.5785916 ],\n",
       "          [1.4245826 ],\n",
       "          [1.4245826 ],\n",
       "          ...,\n",
       "          [0.30801788],\n",
       "          [0.30801788],\n",
       "          [0.30801788]],\n",
       "\n",
       "         [[1.5785916 ],\n",
       "          [1.4630849 ],\n",
       "          [1.4245826 ],\n",
       "          ...,\n",
       "          [0.30801788],\n",
       "          [0.30801788],\n",
       "          [0.30801788]],\n",
       "\n",
       "         [[1.4245826 ],\n",
       "          [1.4245826 ],\n",
       "          [1.4630849 ],\n",
       "          ...,\n",
       "          [0.30801788],\n",
       "          [0.30801788],\n",
       "          [0.30801788]],\n",
       "\n",
       "         ...,\n",
       "\n",
       "         [[1.0395603 ],\n",
       "          [1.0010581 ],\n",
       "          [1.0010581 ],\n",
       "          ...,\n",
       "          [0.        ],\n",
       "          [0.        ],\n",
       "          [0.        ]],\n",
       "\n",
       "         [[1.0010581 ],\n",
       "          [1.0010581 ],\n",
       "          [1.0010581 ],\n",
       "          ...,\n",
       "          [0.        ],\n",
       "          [9.818069  ],\n",
       "          [9.779568  ]],\n",
       "\n",
       "         [[1.0010581 ],\n",
       "          [1.0010581 ],\n",
       "          [1.0010581 ],\n",
       "          ...,\n",
       "          [0.        ],\n",
       "          [9.779568  ],\n",
       "          [9.779568  ]]],\n",
       "\n",
       "\n",
       "        [[[1.6170938 ],\n",
       "          [1.5400894 ],\n",
       "          [1.3860804 ],\n",
       "          ...,\n",
       "          [0.38502234],\n",
       "          [0.38502234],\n",
       "          [0.38502234]],\n",
       "\n",
       "         [[1.5785916 ],\n",
       "          [1.5785916 ],\n",
       "          [1.4245826 ],\n",
       "          ...,\n",
       "          [0.38502234],\n",
       "          [0.38502234],\n",
       "          [0.38502234]],\n",
       "\n",
       "         [[1.4630849 ],\n",
       "          [1.4630849 ],\n",
       "          [1.4245826 ],\n",
       "          ...,\n",
       "          [0.3465201 ],\n",
       "          [0.30801788],\n",
       "          [0.30801788]],\n",
       "\n",
       "         ...,\n",
       "\n",
       "         [[1.0395603 ],\n",
       "          [1.0395603 ],\n",
       "          [1.0010581 ],\n",
       "          ...,\n",
       "          [0.        ],\n",
       "          [0.        ],\n",
       "          [0.        ]],\n",
       "\n",
       "         [[1.0395603 ],\n",
       "          [1.0010581 ],\n",
       "          [1.0010581 ],\n",
       "          ...,\n",
       "          [0.        ],\n",
       "          [0.        ],\n",
       "          [0.        ]],\n",
       "\n",
       "         [[1.0010581 ],\n",
       "          [1.0010581 ],\n",
       "          [1.0010581 ],\n",
       "          ...,\n",
       "          [0.        ],\n",
       "          [0.        ],\n",
       "          [9.818069  ]]]],\n",
       "\n",
       "\n",
       "\n",
       "       [[[[1.4841101 ],\n",
       "          [1.4841101 ],\n",
       "          [1.5212128 ],\n",
       "          ...,\n",
       "          [0.40813026],\n",
       "          [0.40813026],\n",
       "          [0.40813026]],\n",
       "\n",
       "         [[1.4099046 ],\n",
       "          [1.4470073 ],\n",
       "          [1.4841101 ],\n",
       "          ...,\n",
       "          [0.40813026],\n",
       "          [0.40813026],\n",
       "          [0.40813026]],\n",
       "\n",
       "         [[1.5212128 ],\n",
       "          [1.5212128 ],\n",
       "          [1.5212128 ],\n",
       "          ...,\n",
       "          [0.37102753],\n",
       "          [0.37102753],\n",
       "          [0.37102753]],\n",
       "\n",
       "         ...,\n",
       "\n",
       "         [[1.0759798 ],\n",
       "          [1.038877  ],\n",
       "          [1.038877  ],\n",
       "          ...,\n",
       "          [0.148411  ],\n",
       "          [0.18551376],\n",
       "          [0.18551376]],\n",
       "\n",
       "         [[1.038877  ],\n",
       "          [1.038877  ],\n",
       "          [1.038877  ],\n",
       "          ...,\n",
       "          [0.148411  ],\n",
       "          [0.148411  ],\n",
       "          [0.18551376]],\n",
       "\n",
       "         [[1.038877  ],\n",
       "          [1.038877  ],\n",
       "          [1.038877  ],\n",
       "          ...,\n",
       "          [0.11130825],\n",
       "          [0.148411  ],\n",
       "          [0.148411  ]]],\n",
       "\n",
       "\n",
       "        [[[1.5212128 ],\n",
       "          [1.4841101 ],\n",
       "          [1.4841101 ],\n",
       "          ...,\n",
       "          [0.40813026],\n",
       "          [0.37102753],\n",
       "          [0.37102753]],\n",
       "\n",
       "         [[1.3356991 ],\n",
       "          [1.4841101 ],\n",
       "          [1.4099046 ],\n",
       "          ...,\n",
       "          [0.40813026],\n",
       "          [0.37102753],\n",
       "          [0.37102753]],\n",
       "\n",
       "         [[1.4099046 ],\n",
       "          [1.4099046 ],\n",
       "          [1.4099046 ],\n",
       "          ...,\n",
       "          [0.33392477],\n",
       "          [0.33392477],\n",
       "          [0.33392477]],\n",
       "\n",
       "         ...,\n",
       "\n",
       "         [[1.1501853 ],\n",
       "          [1.0759798 ],\n",
       "          [1.0759798 ],\n",
       "          ...,\n",
       "          [0.11130825],\n",
       "          [0.11130825],\n",
       "          [0.11130825]],\n",
       "\n",
       "         [[1.0759798 ],\n",
       "          [1.0759798 ],\n",
       "          [1.0759798 ],\n",
       "          ...,\n",
       "          [0.11130825],\n",
       "          [0.0742055 ],\n",
       "          [0.0742055 ]],\n",
       "\n",
       "         [[1.0759798 ],\n",
       "          [1.0759798 ],\n",
       "          [1.0759798 ],\n",
       "          ...,\n",
       "          [0.11130825],\n",
       "          [0.0742055 ],\n",
       "          [0.0742055 ]]],\n",
       "\n",
       "\n",
       "        [[[1.5583155 ],\n",
       "          [1.5583155 ],\n",
       "          [1.5212128 ],\n",
       "          ...,\n",
       "          [0.40813026],\n",
       "          [0.37102753],\n",
       "          [0.37102753]],\n",
       "\n",
       "         [[1.4099046 ],\n",
       "          [1.5212128 ],\n",
       "          [1.5212128 ],\n",
       "          ...,\n",
       "          [0.40813026],\n",
       "          [0.37102753],\n",
       "          [0.37102753]],\n",
       "\n",
       "         [[1.4841101 ],\n",
       "          [1.4841101 ],\n",
       "          [1.4470073 ],\n",
       "          ...,\n",
       "          [0.40813026],\n",
       "          [0.40813026],\n",
       "          [0.40813026]],\n",
       "\n",
       "         ...,\n",
       "\n",
       "         [[1.0759798 ],\n",
       "          [1.038877  ],\n",
       "          [1.038877  ],\n",
       "          ...,\n",
       "          [0.148411  ],\n",
       "          [0.148411  ],\n",
       "          [0.148411  ]],\n",
       "\n",
       "         [[1.038877  ],\n",
       "          [1.038877  ],\n",
       "          [1.038877  ],\n",
       "          ...,\n",
       "          [0.11130825],\n",
       "          [0.11130825],\n",
       "          [0.0742055 ]],\n",
       "\n",
       "         [[1.038877  ],\n",
       "          [1.038877  ],\n",
       "          [1.038877  ],\n",
       "          ...,\n",
       "          [0.11130825],\n",
       "          [0.0742055 ],\n",
       "          [0.0742055 ]]],\n",
       "\n",
       "\n",
       "        ...,\n",
       "\n",
       "\n",
       "        [[[1.632521  ],\n",
       "          [1.5583155 ],\n",
       "          [1.5212128 ],\n",
       "          ...,\n",
       "          [0.296822  ],\n",
       "          [0.37102753],\n",
       "          [0.37102753]],\n",
       "\n",
       "         [[1.6696239 ],\n",
       "          [1.5212128 ],\n",
       "          [1.4841101 ],\n",
       "          ...,\n",
       "          [0.296822  ],\n",
       "          [0.37102753],\n",
       "          [0.37102753]],\n",
       "\n",
       "         [[1.4470073 ],\n",
       "          [1.4470073 ],\n",
       "          [1.4841101 ],\n",
       "          ...,\n",
       "          [0.40813026],\n",
       "          [0.40813026],\n",
       "          [0.40813026]],\n",
       "\n",
       "         ...,\n",
       "\n",
       "         [[1.038877  ],\n",
       "          [1.038877  ],\n",
       "          [1.038877  ],\n",
       "          ...,\n",
       "          [0.11130825],\n",
       "          [0.11130825],\n",
       "          [0.0742055 ]],\n",
       "\n",
       "         [[1.038877  ],\n",
       "          [1.038877  ],\n",
       "          [1.038877  ],\n",
       "          ...,\n",
       "          [0.0742055 ],\n",
       "          [0.0742055 ],\n",
       "          [0.0742055 ]],\n",
       "\n",
       "         [[1.038877  ],\n",
       "          [1.038877  ],\n",
       "          [1.0017743 ],\n",
       "          ...,\n",
       "          [0.0742055 ],\n",
       "          [0.0742055 ],\n",
       "          [0.03710275]]],\n",
       "\n",
       "\n",
       "        [[[1.5583155 ],\n",
       "          [1.5212128 ],\n",
       "          [1.4841101 ],\n",
       "          ...,\n",
       "          [0.37102753],\n",
       "          [0.37102753],\n",
       "          [0.37102753]],\n",
       "\n",
       "         [[1.5583155 ],\n",
       "          [1.4841101 ],\n",
       "          [1.4099046 ],\n",
       "          ...,\n",
       "          [0.37102753],\n",
       "          [0.37102753],\n",
       "          [0.37102753]],\n",
       "\n",
       "         [[1.5583155 ],\n",
       "          [1.5212128 ],\n",
       "          [1.5212128 ],\n",
       "          ...,\n",
       "          [0.40813026],\n",
       "          [0.40813026],\n",
       "          [0.40813026]],\n",
       "\n",
       "         ...,\n",
       "\n",
       "         [[1.038877  ],\n",
       "          [1.038877  ],\n",
       "          [1.038877  ],\n",
       "          ...,\n",
       "          [0.11130825],\n",
       "          [0.11130825],\n",
       "          [0.11130825]],\n",
       "\n",
       "         [[1.038877  ],\n",
       "          [1.038877  ],\n",
       "          [1.038877  ],\n",
       "          ...,\n",
       "          [0.11130825],\n",
       "          [0.11130825],\n",
       "          [0.0742055 ]],\n",
       "\n",
       "         [[1.038877  ],\n",
       "          [1.038877  ],\n",
       "          [1.0017743 ],\n",
       "          ...,\n",
       "          [0.03710275],\n",
       "          [0.03710275],\n",
       "          [0.0742055 ]]],\n",
       "\n",
       "\n",
       "        [[[1.5212128 ],\n",
       "          [1.5212128 ],\n",
       "          [1.4841101 ],\n",
       "          ...,\n",
       "          [0.33392477],\n",
       "          [0.33392477],\n",
       "          [0.37102753]],\n",
       "\n",
       "         [[1.4470073 ],\n",
       "          [1.4470073 ],\n",
       "          [1.4099046 ],\n",
       "          ...,\n",
       "          [0.33392477],\n",
       "          [0.33392477],\n",
       "          [0.37102753]],\n",
       "\n",
       "         [[1.5212128 ],\n",
       "          [1.4841101 ],\n",
       "          [1.4841101 ],\n",
       "          ...,\n",
       "          [0.37102753],\n",
       "          [0.37102753],\n",
       "          [0.37102753]],\n",
       "\n",
       "         ...,\n",
       "\n",
       "         [[1.038877  ],\n",
       "          [1.038877  ],\n",
       "          [1.038877  ],\n",
       "          ...,\n",
       "          [0.11130825],\n",
       "          [0.11130825],\n",
       "          [0.11130825]],\n",
       "\n",
       "         [[1.038877  ],\n",
       "          [1.038877  ],\n",
       "          [1.038877  ],\n",
       "          ...,\n",
       "          [0.11130825],\n",
       "          [0.11130825],\n",
       "          [0.0742055 ]],\n",
       "\n",
       "         [[1.038877  ],\n",
       "          [1.038877  ],\n",
       "          [1.0017743 ],\n",
       "          ...,\n",
       "          [0.03710275],\n",
       "          [0.03710275],\n",
       "          [0.0742055 ]]]]], dtype=float32)"
      ]
     },
     "execution_count": 23,
     "metadata": {},
     "output_type": "execute_result"
    }
   ],
   "source": [
    "test = data.as_numpy_iterator()\n",
    "val = test.next(); val[0]"
   ]
  },
  {
   "cell_type": "code",
   "execution_count": 29,
   "id": "126b4b54-4e3d-45f1-89af-e6c5e021c177",
   "metadata": {
    "scrolled": true,
    "tags": []
   },
   "outputs": [
    {
     "name": "stderr",
     "output_type": "stream",
     "text": [
      "Lossy conversion from float32 to uint8. Range [0.0, 9.461201667785645]. Convert image to uint8 prior to saving to suppress this warning.\n",
      "Lossy conversion from float32 to uint8. Range [0.0, 9.461201667785645]. Convert image to uint8 prior to saving to suppress this warning.\n",
      "Lossy conversion from float32 to uint8. Range [0.0, 9.461201667785645]. Convert image to uint8 prior to saving to suppress this warning.\n",
      "Lossy conversion from float32 to uint8. Range [0.0, 9.461201667785645]. Convert image to uint8 prior to saving to suppress this warning.\n",
      "Lossy conversion from float32 to uint8. Range [0.0, 9.461201667785645]. Convert image to uint8 prior to saving to suppress this warning.\n",
      "Lossy conversion from float32 to uint8. Range [0.0, 9.461201667785645]. Convert image to uint8 prior to saving to suppress this warning.\n",
      "Lossy conversion from float32 to uint8. Range [0.0, 9.461201667785645]. Convert image to uint8 prior to saving to suppress this warning.\n",
      "Lossy conversion from float32 to uint8. Range [0.0, 9.461201667785645]. Convert image to uint8 prior to saving to suppress this warning.\n",
      "Lossy conversion from float32 to uint8. Range [0.0, 9.461201667785645]. Convert image to uint8 prior to saving to suppress this warning.\n",
      "Lossy conversion from float32 to uint8. Range [0.0, 9.461201667785645]. Convert image to uint8 prior to saving to suppress this warning.\n",
      "Lossy conversion from float32 to uint8. Range [0.0, 9.461201667785645]. Convert image to uint8 prior to saving to suppress this warning.\n",
      "Lossy conversion from float32 to uint8. Range [0.0, 9.461201667785645]. Convert image to uint8 prior to saving to suppress this warning.\n",
      "Lossy conversion from float32 to uint8. Range [0.0, 9.461201667785645]. Convert image to uint8 prior to saving to suppress this warning.\n",
      "Lossy conversion from float32 to uint8. Range [0.0, 9.461201667785645]. Convert image to uint8 prior to saving to suppress this warning.\n",
      "Lossy conversion from float32 to uint8. Range [0.0, 9.461201667785645]. Convert image to uint8 prior to saving to suppress this warning.\n",
      "Lossy conversion from float32 to uint8. Range [0.0, 9.461201667785645]. Convert image to uint8 prior to saving to suppress this warning.\n",
      "Lossy conversion from float32 to uint8. Range [0.0, 9.461201667785645]. Convert image to uint8 prior to saving to suppress this warning.\n",
      "Lossy conversion from float32 to uint8. Range [0.0, 9.461201667785645]. Convert image to uint8 prior to saving to suppress this warning.\n",
      "Lossy conversion from float32 to uint8. Range [0.0, 9.461201667785645]. Convert image to uint8 prior to saving to suppress this warning.\n",
      "Lossy conversion from float32 to uint8. Range [0.0, 9.461201667785645]. Convert image to uint8 prior to saving to suppress this warning.\n",
      "Lossy conversion from float32 to uint8. Range [0.0, 9.461201667785645]. Convert image to uint8 prior to saving to suppress this warning.\n",
      "Lossy conversion from float32 to uint8. Range [0.0, 9.461201667785645]. Convert image to uint8 prior to saving to suppress this warning.\n",
      "Lossy conversion from float32 to uint8. Range [0.0, 9.461201667785645]. Convert image to uint8 prior to saving to suppress this warning.\n",
      "Lossy conversion from float32 to uint8. Range [0.0, 9.461201667785645]. Convert image to uint8 prior to saving to suppress this warning.\n",
      "Lossy conversion from float32 to uint8. Range [0.0, 9.461201667785645]. Convert image to uint8 prior to saving to suppress this warning.\n",
      "Lossy conversion from float32 to uint8. Range [0.0, 9.461201667785645]. Convert image to uint8 prior to saving to suppress this warning.\n",
      "Lossy conversion from float32 to uint8. Range [0.0, 9.461201667785645]. Convert image to uint8 prior to saving to suppress this warning.\n",
      "Lossy conversion from float32 to uint8. Range [0.0, 9.461201667785645]. Convert image to uint8 prior to saving to suppress this warning.\n",
      "Lossy conversion from float32 to uint8. Range [0.0, 9.461201667785645]. Convert image to uint8 prior to saving to suppress this warning.\n",
      "Lossy conversion from float32 to uint8. Range [0.0, 9.461201667785645]. Convert image to uint8 prior to saving to suppress this warning.\n",
      "Lossy conversion from float32 to uint8. Range [0.0, 9.461201667785645]. Convert image to uint8 prior to saving to suppress this warning.\n",
      "Lossy conversion from float32 to uint8. Range [0.0, 9.461201667785645]. Convert image to uint8 prior to saving to suppress this warning.\n",
      "Lossy conversion from float32 to uint8. Range [0.0, 9.461201667785645]. Convert image to uint8 prior to saving to suppress this warning.\n",
      "Lossy conversion from float32 to uint8. Range [0.0, 9.461201667785645]. Convert image to uint8 prior to saving to suppress this warning.\n",
      "Lossy conversion from float32 to uint8. Range [0.0, 9.461201667785645]. Convert image to uint8 prior to saving to suppress this warning.\n",
      "Lossy conversion from float32 to uint8. Range [0.0, 9.461201667785645]. Convert image to uint8 prior to saving to suppress this warning.\n",
      "Lossy conversion from float32 to uint8. Range [0.0, 9.461201667785645]. Convert image to uint8 prior to saving to suppress this warning.\n",
      "Lossy conversion from float32 to uint8. Range [0.0, 9.461201667785645]. Convert image to uint8 prior to saving to suppress this warning.\n",
      "Lossy conversion from float32 to uint8. Range [0.0, 9.461201667785645]. Convert image to uint8 prior to saving to suppress this warning.\n",
      "Lossy conversion from float32 to uint8. Range [0.0, 9.461201667785645]. Convert image to uint8 prior to saving to suppress this warning.\n",
      "Lossy conversion from float32 to uint8. Range [0.0, 9.461201667785645]. Convert image to uint8 prior to saving to suppress this warning.\n",
      "Lossy conversion from float32 to uint8. Range [0.0, 9.461201667785645]. Convert image to uint8 prior to saving to suppress this warning.\n",
      "Lossy conversion from float32 to uint8. Range [0.0, 9.461201667785645]. Convert image to uint8 prior to saving to suppress this warning.\n",
      "Lossy conversion from float32 to uint8. Range [0.0, 9.461201667785645]. Convert image to uint8 prior to saving to suppress this warning.\n",
      "Lossy conversion from float32 to uint8. Range [0.0, 9.461201667785645]. Convert image to uint8 prior to saving to suppress this warning.\n",
      "Lossy conversion from float32 to uint8. Range [0.0, 9.461201667785645]. Convert image to uint8 prior to saving to suppress this warning.\n",
      "Lossy conversion from float32 to uint8. Range [0.0, 9.461201667785645]. Convert image to uint8 prior to saving to suppress this warning.\n",
      "Lossy conversion from float32 to uint8. Range [0.0, 9.461201667785645]. Convert image to uint8 prior to saving to suppress this warning.\n",
      "Lossy conversion from float32 to uint8. Range [0.0, 9.461201667785645]. Convert image to uint8 prior to saving to suppress this warning.\n",
      "Lossy conversion from float32 to uint8. Range [0.0, 9.461201667785645]. Convert image to uint8 prior to saving to suppress this warning.\n",
      "Lossy conversion from float32 to uint8. Range [0.0, 9.461201667785645]. Convert image to uint8 prior to saving to suppress this warning.\n",
      "Lossy conversion from float32 to uint8. Range [0.0, 9.461201667785645]. Convert image to uint8 prior to saving to suppress this warning.\n",
      "Lossy conversion from float32 to uint8. Range [0.0, 9.461201667785645]. Convert image to uint8 prior to saving to suppress this warning.\n",
      "Lossy conversion from float32 to uint8. Range [0.0, 9.461201667785645]. Convert image to uint8 prior to saving to suppress this warning.\n",
      "Lossy conversion from float32 to uint8. Range [0.0, 9.461201667785645]. Convert image to uint8 prior to saving to suppress this warning.\n",
      "Lossy conversion from float32 to uint8. Range [0.0, 9.461201667785645]. Convert image to uint8 prior to saving to suppress this warning.\n",
      "Lossy conversion from float32 to uint8. Range [0.0, 9.461201667785645]. Convert image to uint8 prior to saving to suppress this warning.\n",
      "Lossy conversion from float32 to uint8. Range [0.0, 9.461201667785645]. Convert image to uint8 prior to saving to suppress this warning.\n",
      "Lossy conversion from float32 to uint8. Range [0.0, 9.461201667785645]. Convert image to uint8 prior to saving to suppress this warning.\n",
      "Lossy conversion from float32 to uint8. Range [0.0, 9.461201667785645]. Convert image to uint8 prior to saving to suppress this warning.\n",
      "Lossy conversion from float32 to uint8. Range [0.0, 9.461201667785645]. Convert image to uint8 prior to saving to suppress this warning.\n",
      "Lossy conversion from float32 to uint8. Range [0.0, 9.461201667785645]. Convert image to uint8 prior to saving to suppress this warning.\n",
      "Lossy conversion from float32 to uint8. Range [0.0, 9.461201667785645]. Convert image to uint8 prior to saving to suppress this warning.\n",
      "Lossy conversion from float32 to uint8. Range [0.0, 9.461201667785645]. Convert image to uint8 prior to saving to suppress this warning.\n",
      "Lossy conversion from float32 to uint8. Range [0.0, 9.461201667785645]. Convert image to uint8 prior to saving to suppress this warning.\n",
      "Lossy conversion from float32 to uint8. Range [0.0, 9.461201667785645]. Convert image to uint8 prior to saving to suppress this warning.\n",
      "Lossy conversion from float32 to uint8. Range [0.0, 9.461201667785645]. Convert image to uint8 prior to saving to suppress this warning.\n",
      "Lossy conversion from float32 to uint8. Range [0.0, 9.461201667785645]. Convert image to uint8 prior to saving to suppress this warning.\n",
      "Lossy conversion from float32 to uint8. Range [0.0, 9.461201667785645]. Convert image to uint8 prior to saving to suppress this warning.\n",
      "Lossy conversion from float32 to uint8. Range [0.0, 9.461201667785645]. Convert image to uint8 prior to saving to suppress this warning.\n",
      "Lossy conversion from float32 to uint8. Range [0.0, 9.461201667785645]. Convert image to uint8 prior to saving to suppress this warning.\n",
      "Lossy conversion from float32 to uint8. Range [0.0, 9.461201667785645]. Convert image to uint8 prior to saving to suppress this warning.\n",
      "Lossy conversion from float32 to uint8. Range [0.0, 9.461201667785645]. Convert image to uint8 prior to saving to suppress this warning.\n",
      "Lossy conversion from float32 to uint8. Range [0.0, 9.461201667785645]. Convert image to uint8 prior to saving to suppress this warning.\n",
      "Lossy conversion from float32 to uint8. Range [0.0, 9.461201667785645]. Convert image to uint8 prior to saving to suppress this warning.\n"
     ]
    }
   ],
   "source": [
    "imageio.mimsave('./animation.gif', val[0][1], fps=10)"
   ]
  },
  {
   "cell_type": "code",
   "execution_count": 37,
   "id": "2861cc69-ac19-4640-9340-349da9d573f9",
   "metadata": {
    "tags": []
   },
   "outputs": [
    {
     "data": {
      "text/plain": [
       "<matplotlib.image.AxesImage at 0x20b2fb02310>"
      ]
     },
     "execution_count": 37,
     "metadata": {},
     "output_type": "execute_result"
    },
    {
     "data": {
      "image/png": "[encoded data removed]",
      "text/plain": [
       "<Figure size 640x480 with 1 Axes>"
      ]
     },
     "metadata": {},
     "output_type": "display_data"
    }
   ],
   "source": [
    "plt.imshow(val[0][1][40])"
   ]
  },
  {
   "cell_type": "code",
   "execution_count": 44,
   "id": "b35e83e7-72c2-4dae-8bbb-8a9cc11e056f",
   "metadata": {
    "tags": []
   },
   "outputs": [
    {
     "data": {
      "text/plain": [
       "<tf.Tensor: shape=(), dtype=string, numpy=b'place blue in u eight now'>"
      ]
     },
     "execution_count": 44,
     "metadata": {},
     "output_type": "execute_result"
    }
   ],
   "source": [
    "tf.strings.reduce_join([num_to_char(word) for word in val[1][0]])"
   ]
  },
  {
   "cell_type": "code",
   "execution_count": 47,
   "id": "e81a0f2f-0d65-4378-a0d0-7afd0b88c754",
   "metadata": {
    "tags": []
   },
   "outputs": [
    {
     "name": "stdout",
     "output_type": "stream",
     "text": [
      "[main 87c9320] Data pipelines is created for loading data\n",
      " 3 files changed, 1162 insertions(+), 1040 deletions(-)\n",
      " create mode 100644 .ipynb_checkpoints/animation-checkpoint.gif\n",
      " create mode 100644 animation.gif\n"
     ]
    },
    {
     "name": "stderr",
     "output_type": "stream",
     "text": [
      "To https://github.com/MohammedFarzin/Lip-Net.git\n",
      "   17857eb..87c9320  main -> main\n"
     ]
    }
   ],
   "source": []
  }
 ],
 "metadata": {
  "kernelspec": {
   "display_name": "Python 3 (ipykernel)",
   "language": "python",
   "name": "python3"
  },
  "language_info": {
   "codemirror_mode": {
    "name": "ipython",
    "version": 3
   },
   "file_extension": ".py",
   "mimetype": "text/x-python",
   "name": "python",
   "nbconvert_exporter": "python",
   "pygments_lexer": "ipython3",
   "version": "3.9.17"
  }
 },
 "nbformat": 4,
 "nbformat_minor": 5
}
